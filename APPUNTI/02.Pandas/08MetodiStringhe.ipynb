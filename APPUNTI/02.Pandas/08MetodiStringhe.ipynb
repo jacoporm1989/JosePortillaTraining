{
 "cells": [
  {
   "cell_type": "code",
   "execution_count": 1,
   "id": "29814b4c-fd36-4390-a20c-b81f8ecbcda1",
   "metadata": {},
   "outputs": [],
   "source": [
    "import numpy as np\n",
    "import pandas as pd"
   ]
  },
  {
   "cell_type": "code",
   "execution_count": null,
   "id": "ae54c767-b4ab-432f-a6af-1f2d20a209f5",
   "metadata": {},
   "outputs": [],
   "source": []
  },
  {
   "cell_type": "code",
   "execution_count": 2,
   "id": "779ec1f7-0270-4e23-9d51-2475cca43120",
   "metadata": {},
   "outputs": [],
   "source": [
    "# Metodo split"
   ]
  },
  {
   "cell_type": "code",
   "execution_count": 3,
   "id": "8b80c93d-65e6-4a6a-9b50-2bbf45264db9",
   "metadata": {},
   "outputs": [],
   "source": [
    "email = \"cane@gmail.com\""
   ]
  },
  {
   "cell_type": "code",
   "execution_count": 4,
   "id": "60385d30-ce8b-4259-9abe-f65c1ef83754",
   "metadata": {},
   "outputs": [
    {
     "data": {
      "text/plain": [
       "['cane', 'gmail.com']"
      ]
     },
     "execution_count": 4,
     "metadata": {},
     "output_type": "execute_result"
    }
   ],
   "source": [
    "email.split(\"@\")"
   ]
  },
  {
   "cell_type": "code",
   "execution_count": null,
   "id": "c4b5c06c-b305-4b04-820b-811b4423929a",
   "metadata": {},
   "outputs": [],
   "source": []
  },
  {
   "cell_type": "code",
   "execution_count": 5,
   "id": "a68de1c3-e518-4222-ab86-f51d932feb2e",
   "metadata": {},
   "outputs": [],
   "source": [
    "# Upper"
   ]
  },
  {
   "cell_type": "code",
   "execution_count": null,
   "id": "198fae1d-cd85-4993-b8b9-b20d84d70f78",
   "metadata": {},
   "outputs": [],
   "source": []
  },
  {
   "cell_type": "code",
   "execution_count": 6,
   "id": "008e31de-d2a3-45ac-802b-fd153eabd544",
   "metadata": {},
   "outputs": [],
   "source": [
    "animali = [\"cane\",\"gatto\",\"cinciallegra\"]"
   ]
  },
  {
   "cell_type": "code",
   "execution_count": 7,
   "id": "c3115990-1e09-411e-9012-e76ba79fc5f3",
   "metadata": {},
   "outputs": [],
   "source": [
    "animali_series = pd.Series(animali)"
   ]
  },
  {
   "cell_type": "code",
   "execution_count": 8,
   "id": "70e8489f-8151-4d0b-94b5-36383a889ceb",
   "metadata": {},
   "outputs": [
    {
     "data": {
      "text/plain": [
       "0            cane\n",
       "1           gatto\n",
       "2    cinciallegra\n",
       "dtype: object"
      ]
     },
     "execution_count": 8,
     "metadata": {},
     "output_type": "execute_result"
    }
   ],
   "source": [
    "animali_series"
   ]
  },
  {
   "cell_type": "code",
   "execution_count": 9,
   "id": "ff3eea08-d562-422d-84d4-4169eb3589f1",
   "metadata": {},
   "outputs": [
    {
     "data": {
      "text/plain": [
       "0            CANE\n",
       "1           GATTO\n",
       "2    CINCIALLEGRA\n",
       "dtype: object"
      ]
     },
     "execution_count": 9,
     "metadata": {},
     "output_type": "execute_result"
    }
   ],
   "source": [
    "animali_series.str.upper()"
   ]
  },
  {
   "cell_type": "code",
   "execution_count": null,
   "id": "93803c33-ecf6-4e6d-bf99-5d158475f6c5",
   "metadata": {},
   "outputs": [],
   "source": []
  },
  {
   "cell_type": "code",
   "execution_count": 10,
   "id": "41002961-67c5-4d7d-8820-718d8ad28cb1",
   "metadata": {},
   "outputs": [],
   "source": [
    "# Lower"
   ]
  },
  {
   "cell_type": "code",
   "execution_count": 11,
   "id": "e2b6feec-23b2-448e-97ad-b1bba46c1c33",
   "metadata": {},
   "outputs": [
    {
     "data": {
      "text/plain": [
       "0            cane\n",
       "1           gatto\n",
       "2    cinciallegra\n",
       "dtype: object"
      ]
     },
     "execution_count": 11,
     "metadata": {},
     "output_type": "execute_result"
    }
   ],
   "source": [
    "animali_series.str.lower()"
   ]
  },
  {
   "cell_type": "code",
   "execution_count": null,
   "id": "be22a011-34fc-4dce-81c9-e8792acef4b7",
   "metadata": {},
   "outputs": [],
   "source": []
  },
  {
   "cell_type": "code",
   "execution_count": 12,
   "id": "50f83c44-cdfa-4c24-8252-ccfe5fa227db",
   "metadata": {},
   "outputs": [],
   "source": [
    "# isdigit()\n",
    "# Il metodo str.isdigit() in Pandas viene usato per verificare se tutte le stringhe in una serie di caratteri (stringhe) sono composte solo da cifre (0-9)."
   ]
  },
  {
   "cell_type": "code",
   "execution_count": null,
   "id": "c2274d60-ed29-4ccd-bb0f-9dd4b6932036",
   "metadata": {},
   "outputs": [],
   "source": []
  },
  {
   "cell_type": "code",
   "execution_count": 13,
   "id": "10d220d6-fa9d-4b33-b39d-f0a88b50b32f",
   "metadata": {},
   "outputs": [
    {
     "data": {
      "text/plain": [
       "0    mario\n",
       "1    rossi\n",
       "2        4\n",
       "dtype: object"
      ]
     },
     "execution_count": 13,
     "metadata": {},
     "output_type": "execute_result"
    }
   ],
   "source": [
    "nomi = [\"mario\",\"rossi\",4]\n",
    "nomi_series = pd.Series(nomi)\n",
    "nomi_series"
   ]
  },
  {
   "cell_type": "code",
   "execution_count": 14,
   "id": "b1a03c98-f4d6-4879-b9e4-25b20b78c6fa",
   "metadata": {},
   "outputs": [
    {
     "data": {
      "text/plain": [
       "0    False\n",
       "1    False\n",
       "2      NaN\n",
       "dtype: object"
      ]
     },
     "execution_count": 14,
     "metadata": {},
     "output_type": "execute_result"
    }
   ],
   "source": [
    "nomi_series.str.isdigit()"
   ]
  },
  {
   "cell_type": "code",
   "execution_count": null,
   "id": "84c3943f-df58-42e5-9794-27365709b43b",
   "metadata": {},
   "outputs": [],
   "source": []
  },
  {
   "cell_type": "code",
   "execution_count": 15,
   "id": "25d90abd-7912-446d-979a-4df74ab83b9e",
   "metadata": {},
   "outputs": [],
   "source": [
    "# Proviamo aggiungendo una stringa composta solo da numeri"
   ]
  },
  {
   "cell_type": "code",
   "execution_count": null,
   "id": "ca10c375-65c0-486c-9d39-18e12f525bfe",
   "metadata": {},
   "outputs": [],
   "source": []
  },
  {
   "cell_type": "code",
   "execution_count": 16,
   "id": "24eaca7c-b409-4830-90e9-37d41b4ed450",
   "metadata": {},
   "outputs": [
    {
     "data": {
      "text/plain": [
       "0    mario\n",
       "1    rossi\n",
       "2        4\n",
       "3       24\n",
       "dtype: object"
      ]
     },
     "execution_count": 16,
     "metadata": {},
     "output_type": "execute_result"
    }
   ],
   "source": [
    "nomi = [\"mario\",\"rossi\",4,'24']\n",
    "nomi_series = pd.Series(nomi)\n",
    "nomi_series"
   ]
  },
  {
   "cell_type": "code",
   "execution_count": null,
   "id": "c69741d8-68d3-4824-9a00-5b696ad874c1",
   "metadata": {},
   "outputs": [],
   "source": []
  },
  {
   "cell_type": "code",
   "execution_count": 17,
   "id": "dacc8ee0-ca68-46d7-9765-e15ee44ec79e",
   "metadata": {},
   "outputs": [
    {
     "data": {
      "text/plain": [
       "0    False\n",
       "1    False\n",
       "2      NaN\n",
       "3     True\n",
       "dtype: object"
      ]
     },
     "execution_count": 17,
     "metadata": {},
     "output_type": "execute_result"
    }
   ],
   "source": [
    "nomi_series.str.isdigit()"
   ]
  },
  {
   "cell_type": "code",
   "execution_count": null,
   "id": "ca3b70fb-acb9-41bb-aa00-6c716c31bc74",
   "metadata": {},
   "outputs": [],
   "source": []
  },
  {
   "cell_type": "code",
   "execution_count": 18,
   "id": "1145cda5-e64e-47ad-aef3-a21521ea463a",
   "metadata": {},
   "outputs": [],
   "source": [
    "# CVD"
   ]
  },
  {
   "cell_type": "code",
   "execution_count": null,
   "id": "9ef70fdd-4fbb-40de-a57a-c36fb258bac5",
   "metadata": {},
   "outputs": [],
   "source": []
  },
  {
   "cell_type": "code",
   "execution_count": 19,
   "id": "4450109f-385c-4880-821c-2f0aedde9717",
   "metadata": {},
   "outputs": [],
   "source": [
    "# Trasformare Series in Dataframe"
   ]
  },
  {
   "cell_type": "code",
   "execution_count": null,
   "id": "b29b40b1-ab98-4a9c-9ed5-83498e9f2918",
   "metadata": {},
   "outputs": [],
   "source": []
  },
  {
   "cell_type": "code",
   "execution_count": 20,
   "id": "0dc6b393-f778-4ffb-a489-ca6531cfe8ae",
   "metadata": {},
   "outputs": [],
   "source": [
    "# Consideriamo 4 bambini e il loro colore preferito. Partiamo quindi da due stringhe:"
   ]
  },
  {
   "cell_type": "code",
   "execution_count": null,
   "id": "1c264b72-2a40-40f6-b269-009013cbb272",
   "metadata": {},
   "outputs": [],
   "source": []
  },
  {
   "cell_type": "code",
   "execution_count": null,
   "id": "c7cde4f8-6681-4cb3-9911-86bfa912024b",
   "metadata": {},
   "outputs": [],
   "source": []
  },
  {
   "cell_type": "code",
   "execution_count": 21,
   "id": "68df5533-fa66-4e8e-8755-3deb891d3ae3",
   "metadata": {},
   "outputs": [],
   "source": [
    "bambini = \"Ascanio,Agilulfo,Concettina,Calogera\""
   ]
  },
  {
   "cell_type": "code",
   "execution_count": 22,
   "id": "3cb44d0b-99c6-4209-826c-1386494faca4",
   "metadata": {},
   "outputs": [],
   "source": [
    "colore = \"Rosso,Verde,Giallo,Fucsia\""
   ]
  },
  {
   "cell_type": "code",
   "execution_count": null,
   "id": "59939e91-db48-4d92-afdd-9a9641db72e1",
   "metadata": {},
   "outputs": [],
   "source": []
  },
  {
   "cell_type": "code",
   "execution_count": 23,
   "id": "7cd77df2-4691-4397-90e8-b356b50bf05b",
   "metadata": {},
   "outputs": [
    {
     "data": {
      "text/plain": [
       "['Ascanio,Agilulfo,Concettina,Calogera', 'Rosso,Verde,Giallo,Fucsia']"
      ]
     },
     "execution_count": 23,
     "metadata": {},
     "output_type": "execute_result"
    }
   ],
   "source": [
    "bambini_colore = [bambini,colore]\n",
    "bambini_colore"
   ]
  },
  {
   "cell_type": "code",
   "execution_count": null,
   "id": "6e6cd096-8a82-4262-bdb5-3ca32ead0182",
   "metadata": {},
   "outputs": [],
   "source": []
  },
  {
   "cell_type": "code",
   "execution_count": 24,
   "id": "357adee8-a34a-48d4-bed4-8e126adb3089",
   "metadata": {},
   "outputs": [
    {
     "data": {
      "text/plain": [
       "0    Ascanio,Agilulfo,Concettina,Calogera\n",
       "1               Rosso,Verde,Giallo,Fucsia\n",
       "dtype: object"
      ]
     },
     "execution_count": 24,
     "metadata": {},
     "output_type": "execute_result"
    }
   ],
   "source": [
    "bambini_colore_series = pd.Series(bambini_colore)\n",
    "bambini_colore_series"
   ]
  },
  {
   "cell_type": "code",
   "execution_count": 25,
   "id": "a06c3445-213f-4cf0-9b62-e97cdf6a79c2",
   "metadata": {},
   "outputs": [
    {
     "data": {
      "text/plain": [
       "0    [Ascanio, Agilulfo, Concettina, Calogera]\n",
       "1               [Rosso, Verde, Giallo, Fucsia]\n",
       "dtype: object"
      ]
     },
     "execution_count": 25,
     "metadata": {},
     "output_type": "execute_result"
    }
   ],
   "source": [
    "bambini_colore_series_list = bambini_colore_series.str.split(\",\")\n",
    "bambini_colore_series_list"
   ]
  },
  {
   "cell_type": "code",
   "execution_count": null,
   "id": "934478bd-8ed0-4321-83e7-7ef934d17971",
   "metadata": {},
   "outputs": [],
   "source": []
  },
  {
   "cell_type": "code",
   "execution_count": 26,
   "id": "fd2e3ce5-4f16-4636-af23-d685835f9722",
   "metadata": {},
   "outputs": [],
   "source": [
    "# Possiamo anche estrarre le singole liste:"
   ]
  },
  {
   "cell_type": "code",
   "execution_count": null,
   "id": "197917af-709b-46d5-9e35-4a3380b02f30",
   "metadata": {},
   "outputs": [],
   "source": []
  },
  {
   "cell_type": "code",
   "execution_count": 27,
   "id": "dad83f9e-1616-4423-be46-33091bbcdeb7",
   "metadata": {},
   "outputs": [
    {
     "data": {
      "text/plain": [
       "['Ascanio', 'Agilulfo', 'Concettina', 'Calogera']"
      ]
     },
     "execution_count": 27,
     "metadata": {},
     "output_type": "execute_result"
    }
   ],
   "source": [
    "bambini = bambini_colore_series_list[0]\n",
    "bambini"
   ]
  },
  {
   "cell_type": "code",
   "execution_count": 28,
   "id": "7254cce2-1efe-460e-bd39-9011a514dca0",
   "metadata": {},
   "outputs": [
    {
     "data": {
      "text/plain": [
       "['Rosso', 'Verde', 'Giallo', 'Fucsia']"
      ]
     },
     "execution_count": 28,
     "metadata": {},
     "output_type": "execute_result"
    }
   ],
   "source": [
    "colori =  bambini_colore_series_list[1]\n",
    "colori"
   ]
  },
  {
   "cell_type": "code",
   "execution_count": null,
   "id": "4ab0dccd-8e83-4ff5-af2f-2a303c8359be",
   "metadata": {},
   "outputs": [],
   "source": []
  },
  {
   "cell_type": "code",
   "execution_count": 29,
   "id": "e6f6e0d2-6ebb-42a6-9672-6c6a0791bd60",
   "metadata": {},
   "outputs": [],
   "source": [
    "# Torniamo alla nostra Series di liste"
   ]
  },
  {
   "cell_type": "code",
   "execution_count": null,
   "id": "ee0a926c-7935-4ea6-a0a9-5073bc43c81f",
   "metadata": {},
   "outputs": [],
   "source": []
  },
  {
   "cell_type": "code",
   "execution_count": 30,
   "id": "f35e9a21-507e-46bc-8238-bc3965748a90",
   "metadata": {},
   "outputs": [
    {
     "data": {
      "text/plain": [
       "0    [Ascanio, Agilulfo, Concettina, Calogera]\n",
       "1               [Rosso, Verde, Giallo, Fucsia]\n",
       "dtype: object"
      ]
     },
     "execution_count": 30,
     "metadata": {},
     "output_type": "execute_result"
    }
   ],
   "source": [
    "bambini_colore_series_list"
   ]
  },
  {
   "cell_type": "code",
   "execution_count": null,
   "id": "39d02f4d-ebbd-41fc-a262-5835083249eb",
   "metadata": {},
   "outputs": [],
   "source": []
  },
  {
   "cell_type": "code",
   "execution_count": 31,
   "id": "76e9a576-b593-447c-873c-78f5afbbb054",
   "metadata": {},
   "outputs": [],
   "source": [
    "# Possiamo trasformare questa series in Datafrane aggiungendo il parametro expand=True nella funzione split:"
   ]
  },
  {
   "cell_type": "code",
   "execution_count": null,
   "id": "24f9821b-f886-4ed3-aa95-391da769aa97",
   "metadata": {},
   "outputs": [],
   "source": []
  },
  {
   "cell_type": "code",
   "execution_count": 32,
   "id": "b9f36288-adac-4a91-b2f0-7d79d812eff5",
   "metadata": {},
   "outputs": [
    {
     "data": {
      "text/html": [
       "<div>\n",
       "<style scoped>\n",
       "    .dataframe tbody tr th:only-of-type {\n",
       "        vertical-align: middle;\n",
       "    }\n",
       "\n",
       "    .dataframe tbody tr th {\n",
       "        vertical-align: top;\n",
       "    }\n",
       "\n",
       "    .dataframe thead th {\n",
       "        text-align: right;\n",
       "    }\n",
       "</style>\n",
       "<table border=\"1\" class=\"dataframe\">\n",
       "  <thead>\n",
       "    <tr style=\"text-align: right;\">\n",
       "      <th></th>\n",
       "      <th>0</th>\n",
       "      <th>1</th>\n",
       "      <th>2</th>\n",
       "      <th>3</th>\n",
       "    </tr>\n",
       "  </thead>\n",
       "  <tbody>\n",
       "    <tr>\n",
       "      <th>0</th>\n",
       "      <td>Ascanio</td>\n",
       "      <td>Agilulfo</td>\n",
       "      <td>Concettina</td>\n",
       "      <td>Calogera</td>\n",
       "    </tr>\n",
       "    <tr>\n",
       "      <th>1</th>\n",
       "      <td>Rosso</td>\n",
       "      <td>Verde</td>\n",
       "      <td>Giallo</td>\n",
       "      <td>Fucsia</td>\n",
       "    </tr>\n",
       "  </tbody>\n",
       "</table>\n",
       "</div>"
      ],
      "text/plain": [
       "         0         1           2         3\n",
       "0  Ascanio  Agilulfo  Concettina  Calogera\n",
       "1    Rosso     Verde      Giallo    Fucsia"
      ]
     },
     "execution_count": 32,
     "metadata": {},
     "output_type": "execute_result"
    }
   ],
   "source": [
    "bambini_colore_series_df = bambini_colore_series.str.split(\",\",expand=True)\n",
    "bambini_colore_series_df"
   ]
  },
  {
   "cell_type": "code",
   "execution_count": null,
   "id": "bfc6bab2-9f25-42de-bf21-c99745c7c94e",
   "metadata": {},
   "outputs": [],
   "source": []
  },
  {
   "cell_type": "code",
   "execution_count": 33,
   "id": "80d889a2-6f2e-4587-90e7-89383f3c5411",
   "metadata": {},
   "outputs": [],
   "source": [
    "# Metodi replace, strip,"
   ]
  },
  {
   "cell_type": "code",
   "execution_count": 34,
   "id": "b165a354-1bac-41bb-a3b9-33192560c601",
   "metadata": {},
   "outputs": [],
   "source": [
    "# Consideriamo una lista avente valori sporchi"
   ]
  },
  {
   "cell_type": "code",
   "execution_count": null,
   "id": "b9a53c1d-d666-4c48-9f4d-f467caa91a32",
   "metadata": {},
   "outputs": [],
   "source": []
  },
  {
   "cell_type": "code",
   "execution_count": 35,
   "id": "5ac736e8-5818-4cb9-9e42-6da729346948",
   "metadata": {},
   "outputs": [],
   "source": [
    "colori = [\"Ver%&de\", \"  Giallo\",\"  Rosso  \",\"Fuc sia\"]"
   ]
  },
  {
   "cell_type": "code",
   "execution_count": null,
   "id": "81c1c701-18fe-4b56-b6c0-46b4304adf6a",
   "metadata": {},
   "outputs": [],
   "source": []
  },
  {
   "cell_type": "code",
   "execution_count": 36,
   "id": "773f701b-6dc2-486d-a018-e8ee65c54b1e",
   "metadata": {},
   "outputs": [],
   "source": [
    "# A partire da questa lista costruiamo la solita Series"
   ]
  },
  {
   "cell_type": "code",
   "execution_count": null,
   "id": "f3f877e8-f85e-4a2e-83ef-1a09d1fe717f",
   "metadata": {},
   "outputs": [],
   "source": []
  },
  {
   "cell_type": "code",
   "execution_count": 37,
   "id": "2a29cd59-026d-4324-baa5-2ff653f448d8",
   "metadata": {},
   "outputs": [
    {
     "data": {
      "text/plain": [
       "0      Ver%&de\n",
       "1       Giallo\n",
       "2      Rosso  \n",
       "3      Fuc sia\n",
       "dtype: object"
      ]
     },
     "execution_count": 37,
     "metadata": {},
     "output_type": "execute_result"
    }
   ],
   "source": [
    "colori_series = pd.Series(colori)\n",
    "colori_series"
   ]
  },
  {
   "cell_type": "code",
   "execution_count": null,
   "id": "5d3dd76c-638c-407d-910c-5cfe3481201d",
   "metadata": {},
   "outputs": [],
   "source": []
  },
  {
   "cell_type": "code",
   "execution_count": 38,
   "id": "d45d7508-6f6b-4767-b7f6-834915dea4cd",
   "metadata": {},
   "outputs": [],
   "source": [
    "# Intanto togliamo %& dalla parola Verde:"
   ]
  },
  {
   "cell_type": "code",
   "execution_count": null,
   "id": "0a1d732a-eaab-425a-ab43-081f2cd69b18",
   "metadata": {},
   "outputs": [],
   "source": []
  },
  {
   "cell_type": "code",
   "execution_count": 137,
   "id": "30c16d39-c8ce-4b1e-8e26-8bf30e7bd3ab",
   "metadata": {},
   "outputs": [],
   "source": [
    "colori_series = colori_series.str.replace(\"%&\",\"\")"
   ]
  },
  {
   "cell_type": "code",
   "execution_count": 139,
   "id": "244eaae3-6d2f-4569-858c-730792be9948",
   "metadata": {},
   "outputs": [
    {
     "data": {
      "text/plain": [
       "0        Verde\n",
       "1       Giallo\n",
       "2      Rosso  \n",
       "3      Fuc sia\n",
       "dtype: object"
      ]
     },
     "execution_count": 139,
     "metadata": {},
     "output_type": "execute_result"
    }
   ],
   "source": [
    "colori_series"
   ]
  },
  {
   "cell_type": "code",
   "execution_count": null,
   "id": "d02baeb7-6265-4796-8ab2-1dc56c1b27b7",
   "metadata": {},
   "outputs": [],
   "source": []
  },
  {
   "cell_type": "code",
   "execution_count": null,
   "id": "520b702b-253b-402e-9ae1-aff2c57a3d43",
   "metadata": {},
   "outputs": [],
   "source": [
    "# Osserviamo ora uno per uno gli elementi della nostra Series:"
   ]
  },
  {
   "cell_type": "code",
   "execution_count": 143,
   "id": "5a210abb-d2c8-49fe-a09c-ac18c5579cf9",
   "metadata": {},
   "outputs": [
    {
     "data": {
      "text/plain": [
       "'  Giallo'"
      ]
     },
     "execution_count": 143,
     "metadata": {},
     "output_type": "execute_result"
    }
   ],
   "source": [
    "colori_series[1]"
   ]
  },
  {
   "cell_type": "code",
   "execution_count": 153,
   "id": "ee8ccf20-936c-4fcf-9c85-2d2d33756b85",
   "metadata": {},
   "outputs": [
    {
     "data": {
      "text/plain": [
       "'  Rosso  '"
      ]
     },
     "execution_count": 153,
     "metadata": {},
     "output_type": "execute_result"
    }
   ],
   "source": [
    "colori_series[2]"
   ]
  },
  {
   "cell_type": "code",
   "execution_count": 151,
   "id": "146f7f42-c123-431f-a7e6-1e25de008a66",
   "metadata": {},
   "outputs": [
    {
     "data": {
      "text/plain": [
       "'Fuc sia'"
      ]
     },
     "execution_count": 151,
     "metadata": {},
     "output_type": "execute_result"
    }
   ],
   "source": [
    "colori_series[3]"
   ]
  },
  {
   "cell_type": "code",
   "execution_count": null,
   "id": "df6e762b-6bcc-446b-bde3-6a4c965638f8",
   "metadata": {},
   "outputs": [],
   "source": []
  },
  {
   "cell_type": "code",
   "execution_count": null,
   "id": "734fbfd2-7456-4c1d-83e8-b109433cbc35",
   "metadata": {},
   "outputs": [],
   "source": []
  },
  {
   "cell_type": "code",
   "execution_count": null,
   "id": "e1efaa9f-d576-4357-9232-ee06fd0fb9c0",
   "metadata": {},
   "outputs": [],
   "source": [
    "# Notiano che Giallo e Rosso hanno degli spazi sia all'inizio sia alla fine della parola. Per eliminarli, si usa il metodo str.strip(): \n",
    "# che si trovino all'inizio sia alla fine della stringa."
   ]
  },
  {
   "cell_type": "code",
   "execution_count": 163,
   "id": "c95d4ad0-ae5d-4e21-9d3f-e58479286c0a",
   "metadata": {},
   "outputs": [
    {
     "data": {
      "text/plain": [
       "0      Verde\n",
       "1     Giallo\n",
       "2      Rosso\n",
       "3    Fuc sia\n",
       "dtype: object"
      ]
     },
     "execution_count": 163,
     "metadata": {},
     "output_type": "execute_result"
    }
   ],
   "source": [
    "colori_series = colori_series.str.strip()\n",
    "colori_series"
   ]
  },
  {
   "cell_type": "code",
   "execution_count": null,
   "id": "5ee05012-310e-4538-9c74-0a92c8bf87d8",
   "metadata": {},
   "outputs": [],
   "source": []
  },
  {
   "cell_type": "code",
   "execution_count": 165,
   "id": "c2937275-7bee-4c07-b417-a89f17b94baf",
   "metadata": {},
   "outputs": [
    {
     "data": {
      "text/plain": [
       "'Giallo'"
      ]
     },
     "execution_count": 165,
     "metadata": {},
     "output_type": "execute_result"
    }
   ],
   "source": [
    "colori_series[1]"
   ]
  },
  {
   "cell_type": "code",
   "execution_count": 167,
   "id": "e50cb471-5b49-48b3-8efa-b9cb522a7aea",
   "metadata": {},
   "outputs": [
    {
     "data": {
      "text/plain": [
       "'Rosso'"
      ]
     },
     "execution_count": 167,
     "metadata": {},
     "output_type": "execute_result"
    }
   ],
   "source": [
    "colori_series[2]"
   ]
  },
  {
   "cell_type": "code",
   "execution_count": 169,
   "id": "86db3a4d-067f-4241-8540-de6952cb721f",
   "metadata": {},
   "outputs": [
    {
     "data": {
      "text/plain": [
       "'Fuc sia'"
      ]
     },
     "execution_count": 169,
     "metadata": {},
     "output_type": "execute_result"
    }
   ],
   "source": [
    "colori_series[3]"
   ]
  },
  {
   "cell_type": "code",
   "execution_count": null,
   "id": "e8b86d5f-d0b3-4cb0-bc82-f80af159b1d8",
   "metadata": {},
   "outputs": [],
   "source": []
  },
  {
   "cell_type": "code",
   "execution_count": null,
   "id": "4872ef27-c82a-434a-a0b1-d855be410092",
   "metadata": {},
   "outputs": [],
   "source": [
    "# Manca da eliminare lo spazio presente nel quarto elemento, ossia in fucsia. Per farlo utilizziamo di nuovo replace"
   ]
  },
  {
   "cell_type": "code",
   "execution_count": null,
   "id": "08400720-ac50-4ec3-87af-01727ffe0931",
   "metadata": {},
   "outputs": [],
   "source": []
  },
  {
   "cell_type": "code",
   "execution_count": 173,
   "id": "9deff863-d8ea-400a-b368-02ad967f0970",
   "metadata": {},
   "outputs": [
    {
     "data": {
      "text/plain": [
       "0     Verde\n",
       "1    Giallo\n",
       "2     Rosso\n",
       "3    Fucsia\n",
       "dtype: object"
      ]
     },
     "execution_count": 173,
     "metadata": {},
     "output_type": "execute_result"
    }
   ],
   "source": [
    "colori_series = colori_series.str.replace(\" \",\"\")\n",
    "colori_series "
   ]
  },
  {
   "cell_type": "code",
   "execution_count": null,
   "id": "f9fec991-e81a-4447-8e92-5e2ab4f7a58e",
   "metadata": {},
   "outputs": [],
   "source": []
  },
  {
   "cell_type": "code",
   "execution_count": null,
   "id": "5ba1943b-ba62-4ac1-98af-5c5321a35e65",
   "metadata": {},
   "outputs": [],
   "source": []
  },
  {
   "cell_type": "code",
   "execution_count": null,
   "id": "5b5e8a28-22c5-4f31-b72e-bf9d3f8c9f59",
   "metadata": {},
   "outputs": [],
   "source": [
    "# CVD."
   ]
  },
  {
   "cell_type": "code",
   "execution_count": null,
   "id": "3eacbb71-1168-49ad-a848-15115246ec4e",
   "metadata": {},
   "outputs": [],
   "source": []
  },
  {
   "cell_type": "code",
   "execution_count": null,
   "id": "5bb28ee6-1457-458a-a49d-ddcd8ae9b6ad",
   "metadata": {},
   "outputs": [],
   "source": [
    "# Altri metodi si trovano su internet"
   ]
  },
  {
   "cell_type": "code",
   "execution_count": null,
   "id": "c82c7594-3c3b-4582-b022-39a0b91bf3b7",
   "metadata": {},
   "outputs": [],
   "source": []
  },
  {
   "cell_type": "code",
   "execution_count": null,
   "id": "6525adc4-28e0-4686-a96d-e3185da767b6",
   "metadata": {},
   "outputs": [],
   "source": []
  }
 ],
 "metadata": {
  "kernelspec": {
   "display_name": "Python [conda env:base] *",
   "language": "python",
   "name": "conda-base-py"
  },
  "language_info": {
   "codemirror_mode": {
    "name": "ipython",
    "version": 3
   },
   "file_extension": ".py",
   "mimetype": "text/x-python",
   "name": "python",
   "nbconvert_exporter": "python",
   "pygments_lexer": "ipython3",
   "version": "3.12.7"
  }
 },
 "nbformat": 4,
 "nbformat_minor": 5
}
