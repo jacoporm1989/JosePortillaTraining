{
 "cells": [
  {
   "cell_type": "code",
   "execution_count": 3,
   "id": "52628a48-b508-4818-b452-ed917c473b1f",
   "metadata": {},
   "outputs": [],
   "source": [
    "import numpy as np\n",
    "import pandas as pd"
   ]
  },
  {
   "cell_type": "code",
   "execution_count": null,
   "id": "80f5986b-5bd9-4a72-ba72-93af4c5296c9",
   "metadata": {},
   "outputs": [],
   "source": []
  },
  {
   "cell_type": "code",
   "execution_count": null,
   "id": "189bb916-1c38-43a8-88bc-b96886c47212",
   "metadata": {},
   "outputs": [],
   "source": [
    "# Pandas ha un tipo di variabile per le date, chiamato datetime. Datetime ha informazioni sia sulla data che sull'orario"
   ]
  },
  {
   "cell_type": "code",
   "execution_count": null,
   "id": "726bc5c9-4878-4c7b-8990-1004b57387ca",
   "metadata": {},
   "outputs": [],
   "source": []
  },
  {
   "cell_type": "code",
   "execution_count": null,
   "id": "019ad2b2-1c18-434a-af4b-3e49c8d68386",
   "metadata": {},
   "outputs": [],
   "source": []
  },
  {
   "cell_type": "code",
   "execution_count": null,
   "id": "963ddd49-3184-4e57-9d32-42788738f890",
   "metadata": {},
   "outputs": [],
   "source": []
  },
  {
   "cell_type": "code",
   "execution_count": null,
   "id": "339a7f76-e387-4262-937f-981e369db2c2",
   "metadata": {},
   "outputs": [],
   "source": []
  },
  {
   "cell_type": "code",
   "execution_count": null,
   "id": "4788fa6e-6687-40e9-8b3d-f596591d1f65",
   "metadata": {},
   "outputs": [],
   "source": []
  },
  {
   "cell_type": "code",
   "execution_count": null,
   "id": "65b37d7d-4908-4e4b-aeba-3a25c10dde0e",
   "metadata": {},
   "outputs": [],
   "source": []
  },
  {
   "cell_type": "code",
   "execution_count": null,
   "id": "7e620fa0-75bc-4f22-936f-5ee8ca1e5be1",
   "metadata": {},
   "outputs": [],
   "source": []
  },
  {
   "cell_type": "code",
   "execution_count": null,
   "id": "bcb704fc-2485-4c81-a80c-b720dfb8f2f5",
   "metadata": {},
   "outputs": [],
   "source": []
  },
  {
   "cell_type": "code",
   "execution_count": null,
   "id": "a6e8bdaf-e913-48dd-8514-c8a4011e8566",
   "metadata": {},
   "outputs": [],
   "source": []
  },
  {
   "cell_type": "code",
   "execution_count": null,
   "id": "5ceb57a0-bb7b-4a98-929e-442c1b13bcb1",
   "metadata": {},
   "outputs": [],
   "source": []
  },
  {
   "cell_type": "code",
   "execution_count": null,
   "id": "822a6d56-7bbf-4f2d-81bd-1b84da905f28",
   "metadata": {},
   "outputs": [],
   "source": []
  },
  {
   "cell_type": "code",
   "execution_count": null,
   "id": "71541498-bb5a-4166-8378-460d5df3329a",
   "metadata": {},
   "outputs": [],
   "source": []
  },
  {
   "cell_type": "code",
   "execution_count": null,
   "id": "1cab32c5-7dd6-420f-8c84-ff588181f025",
   "metadata": {},
   "outputs": [],
   "source": []
  }
 ],
 "metadata": {
  "kernelspec": {
   "display_name": "Python [conda env:base] *",
   "language": "python",
   "name": "conda-base-py"
  },
  "language_info": {
   "codemirror_mode": {
    "name": "ipython",
    "version": 3
   },
   "file_extension": ".py",
   "mimetype": "text/x-python",
   "name": "python",
   "nbconvert_exporter": "python",
   "pygments_lexer": "ipython3",
   "version": "3.12.7"
  }
 },
 "nbformat": 4,
 "nbformat_minor": 5
}
