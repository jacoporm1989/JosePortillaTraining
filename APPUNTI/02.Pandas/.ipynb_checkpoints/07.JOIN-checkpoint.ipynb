{
 "cells": [
  {
   "cell_type": "code",
   "execution_count": 1,
   "id": "1eeb7791-d3f9-4ce4-a764-0ac9a3efb1f8",
   "metadata": {},
   "outputs": [],
   "source": [
    "import pandas as pd\n",
    "import numpy as np"
   ]
  },
  {
   "cell_type": "code",
   "execution_count": null,
   "id": "d1895c49-ed2d-4cb7-806b-978bece07f28",
   "metadata": {},
   "outputs": [],
   "source": []
  },
  {
   "cell_type": "code",
   "execution_count": 2,
   "id": "b2409da8-716c-4554-8f3c-8933e51c8016",
   "metadata": {},
   "outputs": [],
   "source": [
    "# CONCATENAZIONE"
   ]
  },
  {
   "cell_type": "code",
   "execution_count": 3,
   "id": "61b1252b-2c2e-4bf9-aebd-bb7b1f79b14c",
   "metadata": {},
   "outputs": [],
   "source": [
    "# Spesso i dati non si trovano su un solo Df, ma si trovano su diversi Df collegati tra loro.\n",
    "# Infatti, possiamo importare in pandas Df provenienti da varie fonti, come SQL, csv, etc.\n",
    "# Il metodo più semplice per collegarli è tramite la funzione pd.concat(). Con questa concatenazione\n",
    "# Mettiamo il secondo dataframe sotto al primo - PEr semplicità stiamo supponendo che ci siano solo\n",
    "# due Df, senza ledere la generalità "
   ]
  },
  {
   "cell_type": "code",
   "execution_count": 4,
   "id": "bd50dcd2-4cc3-4ac8-aae3-03d2569b77a0",
   "metadata": {},
   "outputs": [],
   "source": [
    "# Creiamo quindi 2 Df e colleghiamoli"
   ]
  },
  {
   "cell_type": "code",
   "execution_count": null,
   "id": "faea5402-9cb6-4807-b88b-5e41dd5b94cb",
   "metadata": {},
   "outputs": [],
   "source": []
  },
  {
   "cell_type": "code",
   "execution_count": 5,
   "id": "18a4578e-7533-49b8-9f79-653429ba2a01",
   "metadata": {},
   "outputs": [],
   "source": [
    "dizionario1 = {\n",
    "    'Nome': ['Alice', 'Bob', 'Charlie'],\n",
    "    'Età': [25, 30, 35],\n",
    "    'Città': ['Roma', 'Milano', 'Torino']\n",
    "}\n",
    "\n",
    "df1 = pd.DataFrame(dizionario1)\n",
    "\n",
    "dizionario2 = {\n",
    "    'Nome': ['Mario', 'Alfredo', 'Cicciobello'],\n",
    "    'Età': [16, 54, 2],\n",
    "    'Città': ['London', 'Leicester', 'Bleble']\n",
    "}\n",
    "\n",
    "df2 = pd.DataFrame(dizionario2)"
   ]
  },
  {
   "cell_type": "code",
   "execution_count": 6,
   "id": "afcf7590-0f38-402d-bcbb-643176f902e9",
   "metadata": {},
   "outputs": [
    {
     "data": {
      "text/html": [
       "<div>\n",
       "<style scoped>\n",
       "    .dataframe tbody tr th:only-of-type {\n",
       "        vertical-align: middle;\n",
       "    }\n",
       "\n",
       "    .dataframe tbody tr th {\n",
       "        vertical-align: top;\n",
       "    }\n",
       "\n",
       "    .dataframe thead th {\n",
       "        text-align: right;\n",
       "    }\n",
       "</style>\n",
       "<table border=\"1\" class=\"dataframe\">\n",
       "  <thead>\n",
       "    <tr style=\"text-align: right;\">\n",
       "      <th></th>\n",
       "      <th>Nome</th>\n",
       "      <th>Età</th>\n",
       "      <th>Città</th>\n",
       "    </tr>\n",
       "  </thead>\n",
       "  <tbody>\n",
       "    <tr>\n",
       "      <th>0</th>\n",
       "      <td>Alice</td>\n",
       "      <td>25</td>\n",
       "      <td>Roma</td>\n",
       "    </tr>\n",
       "    <tr>\n",
       "      <th>1</th>\n",
       "      <td>Bob</td>\n",
       "      <td>30</td>\n",
       "      <td>Milano</td>\n",
       "    </tr>\n",
       "    <tr>\n",
       "      <th>2</th>\n",
       "      <td>Charlie</td>\n",
       "      <td>35</td>\n",
       "      <td>Torino</td>\n",
       "    </tr>\n",
       "  </tbody>\n",
       "</table>\n",
       "</div>"
      ],
      "text/plain": [
       "      Nome  Età   Città\n",
       "0    Alice   25    Roma\n",
       "1      Bob   30  Milano\n",
       "2  Charlie   35  Torino"
      ]
     },
     "execution_count": 6,
     "metadata": {},
     "output_type": "execute_result"
    }
   ],
   "source": [
    "df1"
   ]
  },
  {
   "cell_type": "code",
   "execution_count": 7,
   "id": "f182313a-0184-469e-bad4-c2deedb8b513",
   "metadata": {},
   "outputs": [
    {
     "data": {
      "text/html": [
       "<div>\n",
       "<style scoped>\n",
       "    .dataframe tbody tr th:only-of-type {\n",
       "        vertical-align: middle;\n",
       "    }\n",
       "\n",
       "    .dataframe tbody tr th {\n",
       "        vertical-align: top;\n",
       "    }\n",
       "\n",
       "    .dataframe thead th {\n",
       "        text-align: right;\n",
       "    }\n",
       "</style>\n",
       "<table border=\"1\" class=\"dataframe\">\n",
       "  <thead>\n",
       "    <tr style=\"text-align: right;\">\n",
       "      <th></th>\n",
       "      <th>Nome</th>\n",
       "      <th>Età</th>\n",
       "      <th>Città</th>\n",
       "    </tr>\n",
       "  </thead>\n",
       "  <tbody>\n",
       "    <tr>\n",
       "      <th>0</th>\n",
       "      <td>Mario</td>\n",
       "      <td>16</td>\n",
       "      <td>London</td>\n",
       "    </tr>\n",
       "    <tr>\n",
       "      <th>1</th>\n",
       "      <td>Alfredo</td>\n",
       "      <td>54</td>\n",
       "      <td>Leicester</td>\n",
       "    </tr>\n",
       "    <tr>\n",
       "      <th>2</th>\n",
       "      <td>Cicciobello</td>\n",
       "      <td>2</td>\n",
       "      <td>Bleble</td>\n",
       "    </tr>\n",
       "  </tbody>\n",
       "</table>\n",
       "</div>"
      ],
      "text/plain": [
       "          Nome  Età      Città\n",
       "0        Mario   16     London\n",
       "1      Alfredo   54  Leicester\n",
       "2  Cicciobello    2     Bleble"
      ]
     },
     "execution_count": 7,
     "metadata": {},
     "output_type": "execute_result"
    }
   ],
   "source": [
    "df2"
   ]
  },
  {
   "cell_type": "code",
   "execution_count": null,
   "id": "1993e5e0-7fd9-46d7-82ce-7f3c3ce70c59",
   "metadata": {},
   "outputs": [],
   "source": []
  },
  {
   "cell_type": "code",
   "execution_count": 8,
   "id": "2c53fe86-1d34-48d0-b45c-68273c89d317",
   "metadata": {},
   "outputs": [
    {
     "data": {
      "text/html": [
       "<div>\n",
       "<style scoped>\n",
       "    .dataframe tbody tr th:only-of-type {\n",
       "        vertical-align: middle;\n",
       "    }\n",
       "\n",
       "    .dataframe tbody tr th {\n",
       "        vertical-align: top;\n",
       "    }\n",
       "\n",
       "    .dataframe thead th {\n",
       "        text-align: right;\n",
       "    }\n",
       "</style>\n",
       "<table border=\"1\" class=\"dataframe\">\n",
       "  <thead>\n",
       "    <tr style=\"text-align: right;\">\n",
       "      <th></th>\n",
       "      <th>Nome</th>\n",
       "      <th>Età</th>\n",
       "      <th>Città</th>\n",
       "    </tr>\n",
       "  </thead>\n",
       "  <tbody>\n",
       "    <tr>\n",
       "      <th>0</th>\n",
       "      <td>Alice</td>\n",
       "      <td>25</td>\n",
       "      <td>Roma</td>\n",
       "    </tr>\n",
       "    <tr>\n",
       "      <th>1</th>\n",
       "      <td>Bob</td>\n",
       "      <td>30</td>\n",
       "      <td>Milano</td>\n",
       "    </tr>\n",
       "    <tr>\n",
       "      <th>2</th>\n",
       "      <td>Charlie</td>\n",
       "      <td>35</td>\n",
       "      <td>Torino</td>\n",
       "    </tr>\n",
       "    <tr>\n",
       "      <th>0</th>\n",
       "      <td>Mario</td>\n",
       "      <td>16</td>\n",
       "      <td>London</td>\n",
       "    </tr>\n",
       "    <tr>\n",
       "      <th>1</th>\n",
       "      <td>Alfredo</td>\n",
       "      <td>54</td>\n",
       "      <td>Leicester</td>\n",
       "    </tr>\n",
       "    <tr>\n",
       "      <th>2</th>\n",
       "      <td>Cicciobello</td>\n",
       "      <td>2</td>\n",
       "      <td>Bleble</td>\n",
       "    </tr>\n",
       "  </tbody>\n",
       "</table>\n",
       "</div>"
      ],
      "text/plain": [
       "          Nome  Età      Città\n",
       "0        Alice   25       Roma\n",
       "1          Bob   30     Milano\n",
       "2      Charlie   35     Torino\n",
       "0        Mario   16     London\n",
       "1      Alfredo   54  Leicester\n",
       "2  Cicciobello    2     Bleble"
      ]
     },
     "execution_count": 8,
     "metadata": {},
     "output_type": "execute_result"
    }
   ],
   "source": [
    "df= pd.concat([df1,df2])\n",
    "df"
   ]
  },
  {
   "cell_type": "code",
   "execution_count": null,
   "id": "497666cb-c4f5-4ced-85ad-9974c352f04d",
   "metadata": {},
   "outputs": [],
   "source": []
  },
  {
   "cell_type": "code",
   "execution_count": 9,
   "id": "5f2df777-91f6-414b-b8fb-7f86820ae522",
   "metadata": {},
   "outputs": [],
   "source": [
    "# Come mai abbiamo inserito il secondo Df sotto al primo? Perchè, di default, abbiamo axis=0!"
   ]
  },
  {
   "cell_type": "code",
   "execution_count": null,
   "id": "1acf4fd7-cdfe-4ad4-b22a-fc3edcd996a0",
   "metadata": {},
   "outputs": [],
   "source": []
  },
  {
   "cell_type": "code",
   "execution_count": 10,
   "id": "72f85dfe-5751-491e-95a8-2e424ae419bc",
   "metadata": {},
   "outputs": [
    {
     "data": {
      "text/html": [
       "<div>\n",
       "<style scoped>\n",
       "    .dataframe tbody tr th:only-of-type {\n",
       "        vertical-align: middle;\n",
       "    }\n",
       "\n",
       "    .dataframe tbody tr th {\n",
       "        vertical-align: top;\n",
       "    }\n",
       "\n",
       "    .dataframe thead th {\n",
       "        text-align: right;\n",
       "    }\n",
       "</style>\n",
       "<table border=\"1\" class=\"dataframe\">\n",
       "  <thead>\n",
       "    <tr style=\"text-align: right;\">\n",
       "      <th></th>\n",
       "      <th>Nome</th>\n",
       "      <th>Età</th>\n",
       "      <th>Città</th>\n",
       "    </tr>\n",
       "  </thead>\n",
       "  <tbody>\n",
       "    <tr>\n",
       "      <th>0</th>\n",
       "      <td>Alice</td>\n",
       "      <td>25</td>\n",
       "      <td>Roma</td>\n",
       "    </tr>\n",
       "    <tr>\n",
       "      <th>1</th>\n",
       "      <td>Bob</td>\n",
       "      <td>30</td>\n",
       "      <td>Milano</td>\n",
       "    </tr>\n",
       "    <tr>\n",
       "      <th>2</th>\n",
       "      <td>Charlie</td>\n",
       "      <td>35</td>\n",
       "      <td>Torino</td>\n",
       "    </tr>\n",
       "    <tr>\n",
       "      <th>0</th>\n",
       "      <td>Mario</td>\n",
       "      <td>16</td>\n",
       "      <td>London</td>\n",
       "    </tr>\n",
       "    <tr>\n",
       "      <th>1</th>\n",
       "      <td>Alfredo</td>\n",
       "      <td>54</td>\n",
       "      <td>Leicester</td>\n",
       "    </tr>\n",
       "    <tr>\n",
       "      <th>2</th>\n",
       "      <td>Cicciobello</td>\n",
       "      <td>2</td>\n",
       "      <td>Bleble</td>\n",
       "    </tr>\n",
       "  </tbody>\n",
       "</table>\n",
       "</div>"
      ],
      "text/plain": [
       "          Nome  Età      Città\n",
       "0        Alice   25       Roma\n",
       "1          Bob   30     Milano\n",
       "2      Charlie   35     Torino\n",
       "0        Mario   16     London\n",
       "1      Alfredo   54  Leicester\n",
       "2  Cicciobello    2     Bleble"
      ]
     },
     "execution_count": 10,
     "metadata": {},
     "output_type": "execute_result"
    }
   ],
   "source": [
    "df= pd.concat([df1,df2],axis=0)\n",
    "df"
   ]
  },
  {
   "cell_type": "code",
   "execution_count": null,
   "id": "7553c983-7564-4da5-bedf-59ae2b5e2b75",
   "metadata": {},
   "outputs": [],
   "source": []
  },
  {
   "cell_type": "code",
   "execution_count": 11,
   "id": "68faefd0-08eb-42f4-b30a-ceff01e59abe",
   "metadata": {},
   "outputs": [],
   "source": [
    "# CVD"
   ]
  },
  {
   "cell_type": "code",
   "execution_count": null,
   "id": "28472bfb-a6f4-400a-a004-93e28c326514",
   "metadata": {},
   "outputs": [],
   "source": []
  },
  {
   "cell_type": "code",
   "execution_count": 12,
   "id": "5495ae95-2132-4e3b-aa4a-dcd290fc917a",
   "metadata": {},
   "outputs": [],
   "source": [
    "# Possiamo anche concatenarli da destra a sinistra, ponendo axis=1:"
   ]
  },
  {
   "cell_type": "code",
   "execution_count": null,
   "id": "aad6478d-a388-4633-b162-4211beb91c71",
   "metadata": {},
   "outputs": [],
   "source": []
  },
  {
   "cell_type": "code",
   "execution_count": 13,
   "id": "c3db625d-7908-4d0e-906d-0625c4ec3a2e",
   "metadata": {},
   "outputs": [
    {
     "data": {
      "text/html": [
       "<div>\n",
       "<style scoped>\n",
       "    .dataframe tbody tr th:only-of-type {\n",
       "        vertical-align: middle;\n",
       "    }\n",
       "\n",
       "    .dataframe tbody tr th {\n",
       "        vertical-align: top;\n",
       "    }\n",
       "\n",
       "    .dataframe thead th {\n",
       "        text-align: right;\n",
       "    }\n",
       "</style>\n",
       "<table border=\"1\" class=\"dataframe\">\n",
       "  <thead>\n",
       "    <tr style=\"text-align: right;\">\n",
       "      <th></th>\n",
       "      <th>Nome</th>\n",
       "      <th>Età</th>\n",
       "      <th>Città</th>\n",
       "      <th>Nome</th>\n",
       "      <th>Età</th>\n",
       "      <th>Città</th>\n",
       "    </tr>\n",
       "  </thead>\n",
       "  <tbody>\n",
       "    <tr>\n",
       "      <th>0</th>\n",
       "      <td>Alice</td>\n",
       "      <td>25</td>\n",
       "      <td>Roma</td>\n",
       "      <td>Mario</td>\n",
       "      <td>16</td>\n",
       "      <td>London</td>\n",
       "    </tr>\n",
       "    <tr>\n",
       "      <th>1</th>\n",
       "      <td>Bob</td>\n",
       "      <td>30</td>\n",
       "      <td>Milano</td>\n",
       "      <td>Alfredo</td>\n",
       "      <td>54</td>\n",
       "      <td>Leicester</td>\n",
       "    </tr>\n",
       "    <tr>\n",
       "      <th>2</th>\n",
       "      <td>Charlie</td>\n",
       "      <td>35</td>\n",
       "      <td>Torino</td>\n",
       "      <td>Cicciobello</td>\n",
       "      <td>2</td>\n",
       "      <td>Bleble</td>\n",
       "    </tr>\n",
       "  </tbody>\n",
       "</table>\n",
       "</div>"
      ],
      "text/plain": [
       "      Nome  Età   Città         Nome  Età      Città\n",
       "0    Alice   25    Roma        Mario   16     London\n",
       "1      Bob   30  Milano      Alfredo   54  Leicester\n",
       "2  Charlie   35  Torino  Cicciobello    2     Bleble"
      ]
     },
     "execution_count": 13,
     "metadata": {},
     "output_type": "execute_result"
    }
   ],
   "source": [
    "df= pd.concat([df1,df2],axis=1)\n",
    "df"
   ]
  },
  {
   "cell_type": "code",
   "execution_count": null,
   "id": "c0b98d40-da7e-473e-a707-d17569cecd74",
   "metadata": {},
   "outputs": [],
   "source": []
  },
  {
   "cell_type": "code",
   "execution_count": 47,
   "id": "05ea63b5-cfc3-413e-803e-99c49a45db2c",
   "metadata": {},
   "outputs": [],
   "source": [
    "df1.columns = df2.columns"
   ]
  },
  {
   "cell_type": "code",
   "execution_count": null,
   "id": "0689f627-172e-4efd-bbde-ae13a40935e6",
   "metadata": {},
   "outputs": [],
   "source": []
  },
  {
   "cell_type": "code",
   "execution_count": 53,
   "id": "09f48018-4916-4b56-91ed-c4a0b2432da7",
   "metadata": {},
   "outputs": [],
   "source": [
    "# INNER MERGE"
   ]
  },
  {
   "cell_type": "code",
   "execution_count": null,
   "id": "f78f47a5-4105-4834-af92-4038099560cc",
   "metadata": {},
   "outputs": [],
   "source": [
    "# INNER MERGE corrisponde all'inner join di sql"
   ]
  },
  {
   "cell_type": "code",
   "execution_count": null,
   "id": "2f8725b0-9336-4f3e-b276-074267037932",
   "metadata": {},
   "outputs": [],
   "source": []
  },
  {
   "cell_type": "code",
   "execution_count": 57,
   "id": "1f98ac9f-adbf-4cf8-9b7c-18e614fa3560",
   "metadata": {},
   "outputs": [],
   "source": [
    "# Primo DataFrame\n",
    "df1 = pd.DataFrame({\n",
    "    'ID': [1, 2, 3],\n",
    "    'Nome': ['Alice', 'Bob', 'Charlie']\n",
    "})\n",
    "\n",
    "# Secondo DataFrame\n",
    "df2 = pd.DataFrame({\n",
    "    'ID': [2, 3, 4],\n",
    "    'Città': ['Milano', 'Torino', 'Napoli']\n",
    "})\n",
    "\n",
    "# Inner join sul campo \"ID\"\n",
    "df_merge = pd.merge(df1, df2, on='ID', how='inner')"
   ]
  },
  {
   "cell_type": "code",
   "execution_count": 61,
   "id": "94d84525-53fd-489d-954c-8970127f6309",
   "metadata": {},
   "outputs": [
    {
     "data": {
      "text/html": [
       "<div>\n",
       "<style scoped>\n",
       "    .dataframe tbody tr th:only-of-type {\n",
       "        vertical-align: middle;\n",
       "    }\n",
       "\n",
       "    .dataframe tbody tr th {\n",
       "        vertical-align: top;\n",
       "    }\n",
       "\n",
       "    .dataframe thead th {\n",
       "        text-align: right;\n",
       "    }\n",
       "</style>\n",
       "<table border=\"1\" class=\"dataframe\">\n",
       "  <thead>\n",
       "    <tr style=\"text-align: right;\">\n",
       "      <th></th>\n",
       "      <th>ID</th>\n",
       "      <th>Nome</th>\n",
       "    </tr>\n",
       "  </thead>\n",
       "  <tbody>\n",
       "    <tr>\n",
       "      <th>0</th>\n",
       "      <td>1</td>\n",
       "      <td>Alice</td>\n",
       "    </tr>\n",
       "    <tr>\n",
       "      <th>1</th>\n",
       "      <td>2</td>\n",
       "      <td>Bob</td>\n",
       "    </tr>\n",
       "    <tr>\n",
       "      <th>2</th>\n",
       "      <td>3</td>\n",
       "      <td>Charlie</td>\n",
       "    </tr>\n",
       "  </tbody>\n",
       "</table>\n",
       "</div>"
      ],
      "text/plain": [
       "   ID     Nome\n",
       "0   1    Alice\n",
       "1   2      Bob\n",
       "2   3  Charlie"
      ]
     },
     "execution_count": 61,
     "metadata": {},
     "output_type": "execute_result"
    }
   ],
   "source": [
    "df1"
   ]
  },
  {
   "cell_type": "code",
   "execution_count": 63,
   "id": "66a51922-3333-4ba6-a83b-ce62b579fcc7",
   "metadata": {},
   "outputs": [
    {
     "data": {
      "text/html": [
       "<div>\n",
       "<style scoped>\n",
       "    .dataframe tbody tr th:only-of-type {\n",
       "        vertical-align: middle;\n",
       "    }\n",
       "\n",
       "    .dataframe tbody tr th {\n",
       "        vertical-align: top;\n",
       "    }\n",
       "\n",
       "    .dataframe thead th {\n",
       "        text-align: right;\n",
       "    }\n",
       "</style>\n",
       "<table border=\"1\" class=\"dataframe\">\n",
       "  <thead>\n",
       "    <tr style=\"text-align: right;\">\n",
       "      <th></th>\n",
       "      <th>ID</th>\n",
       "      <th>Città</th>\n",
       "    </tr>\n",
       "  </thead>\n",
       "  <tbody>\n",
       "    <tr>\n",
       "      <th>0</th>\n",
       "      <td>2</td>\n",
       "      <td>Milano</td>\n",
       "    </tr>\n",
       "    <tr>\n",
       "      <th>1</th>\n",
       "      <td>3</td>\n",
       "      <td>Torino</td>\n",
       "    </tr>\n",
       "    <tr>\n",
       "      <th>2</th>\n",
       "      <td>4</td>\n",
       "      <td>Napoli</td>\n",
       "    </tr>\n",
       "  </tbody>\n",
       "</table>\n",
       "</div>"
      ],
      "text/plain": [
       "   ID   Città\n",
       "0   2  Milano\n",
       "1   3  Torino\n",
       "2   4  Napoli"
      ]
     },
     "execution_count": 63,
     "metadata": {},
     "output_type": "execute_result"
    }
   ],
   "source": [
    "df2"
   ]
  },
  {
   "cell_type": "code",
   "execution_count": 59,
   "id": "89a653ad-8d01-4535-93b7-0b2e2e54c191",
   "metadata": {},
   "outputs": [
    {
     "data": {
      "text/html": [
       "<div>\n",
       "<style scoped>\n",
       "    .dataframe tbody tr th:only-of-type {\n",
       "        vertical-align: middle;\n",
       "    }\n",
       "\n",
       "    .dataframe tbody tr th {\n",
       "        vertical-align: top;\n",
       "    }\n",
       "\n",
       "    .dataframe thead th {\n",
       "        text-align: right;\n",
       "    }\n",
       "</style>\n",
       "<table border=\"1\" class=\"dataframe\">\n",
       "  <thead>\n",
       "    <tr style=\"text-align: right;\">\n",
       "      <th></th>\n",
       "      <th>ID</th>\n",
       "      <th>Nome</th>\n",
       "      <th>Città</th>\n",
       "    </tr>\n",
       "  </thead>\n",
       "  <tbody>\n",
       "    <tr>\n",
       "      <th>0</th>\n",
       "      <td>2</td>\n",
       "      <td>Bob</td>\n",
       "      <td>Milano</td>\n",
       "    </tr>\n",
       "    <tr>\n",
       "      <th>1</th>\n",
       "      <td>3</td>\n",
       "      <td>Charlie</td>\n",
       "      <td>Torino</td>\n",
       "    </tr>\n",
       "  </tbody>\n",
       "</table>\n",
       "</div>"
      ],
      "text/plain": [
       "   ID     Nome   Città\n",
       "0   2      Bob  Milano\n",
       "1   3  Charlie  Torino"
      ]
     },
     "execution_count": 59,
     "metadata": {},
     "output_type": "execute_result"
    }
   ],
   "source": [
    "df_merge"
   ]
  },
  {
   "cell_type": "code",
   "execution_count": null,
   "id": "3a5fe6de-51c0-45ed-a4c5-4193460f5859",
   "metadata": {},
   "outputs": [],
   "source": []
  },
  {
   "cell_type": "code",
   "execution_count": null,
   "id": "68967f38-feb4-46e4-8be1-71a86aad3313",
   "metadata": {},
   "outputs": [],
   "source": [
    "# E' quindi evidente che vengono presi in considerazione solo le chiavi che si trovano sia in df1 sia in df2"
   ]
  },
  {
   "cell_type": "code",
   "execution_count": null,
   "id": "0701bd6b-c51d-408c-b63e-a8cfee721429",
   "metadata": {},
   "outputs": [],
   "source": []
  },
  {
   "cell_type": "code",
   "execution_count": null,
   "id": "573d3876-ef75-4cbf-ad23-301942a0539c",
   "metadata": {},
   "outputs": [],
   "source": [
    "# LEFT e RIGHT "
   ]
  },
  {
   "cell_type": "code",
   "execution_count": null,
   "id": "8d1174de-9c63-41b9-9a04-668e5ebbe3d9",
   "metadata": {},
   "outputs": [],
   "source": [
    "# LEFT MERGE"
   ]
  },
  {
   "cell_type": "code",
   "execution_count": null,
   "id": "5fbf927d-98b5-4ed0-99ee-55bad3f283c9",
   "metadata": {},
   "outputs": [],
   "source": [
    "# Mentre nel caso della inner non è importante l'ordine delle tabelle, con la left e right è importantissimo.\n",
    "# Vediamo un esempio di left join"
   ]
  },
  {
   "cell_type": "code",
   "execution_count": null,
   "id": "481ec5a3-e61f-4504-a5f5-67519484aa59",
   "metadata": {},
   "outputs": [],
   "source": []
  },
  {
   "cell_type": "code",
   "execution_count": 71,
   "id": "39cb3af1-8185-4ea3-82df-5b9cbdd451db",
   "metadata": {},
   "outputs": [],
   "source": [
    "\n",
    "# DataFrame di sinistra (df1)\n",
    "df1 = pd.DataFrame({\n",
    "    'ID': [1, 2, 3],\n",
    "    'Nome': ['Alice', 'Bob', 'Charlie']\n",
    "})\n",
    "\n",
    "# DataFrame di destra (df2)\n",
    "df2 = pd.DataFrame({\n",
    "    'ID': [2, 3, 4],\n",
    "    'Città': ['Milano', 'Torino', 'Napoli']\n",
    "})"
   ]
  },
  {
   "cell_type": "code",
   "execution_count": 73,
   "id": "c6843af1-988e-4c35-bfc9-873ee1a9d0ad",
   "metadata": {},
   "outputs": [
    {
     "data": {
      "text/html": [
       "<div>\n",
       "<style scoped>\n",
       "    .dataframe tbody tr th:only-of-type {\n",
       "        vertical-align: middle;\n",
       "    }\n",
       "\n",
       "    .dataframe tbody tr th {\n",
       "        vertical-align: top;\n",
       "    }\n",
       "\n",
       "    .dataframe thead th {\n",
       "        text-align: right;\n",
       "    }\n",
       "</style>\n",
       "<table border=\"1\" class=\"dataframe\">\n",
       "  <thead>\n",
       "    <tr style=\"text-align: right;\">\n",
       "      <th></th>\n",
       "      <th>ID</th>\n",
       "      <th>Nome</th>\n",
       "    </tr>\n",
       "  </thead>\n",
       "  <tbody>\n",
       "    <tr>\n",
       "      <th>0</th>\n",
       "      <td>1</td>\n",
       "      <td>Alice</td>\n",
       "    </tr>\n",
       "    <tr>\n",
       "      <th>1</th>\n",
       "      <td>2</td>\n",
       "      <td>Bob</td>\n",
       "    </tr>\n",
       "    <tr>\n",
       "      <th>2</th>\n",
       "      <td>3</td>\n",
       "      <td>Charlie</td>\n",
       "    </tr>\n",
       "  </tbody>\n",
       "</table>\n",
       "</div>"
      ],
      "text/plain": [
       "   ID     Nome\n",
       "0   1    Alice\n",
       "1   2      Bob\n",
       "2   3  Charlie"
      ]
     },
     "execution_count": 73,
     "metadata": {},
     "output_type": "execute_result"
    }
   ],
   "source": [
    "df1"
   ]
  },
  {
   "cell_type": "code",
   "execution_count": null,
   "id": "9252d0b5-30a5-486b-9e31-a75404ea0c25",
   "metadata": {},
   "outputs": [],
   "source": []
  },
  {
   "cell_type": "code",
   "execution_count": 75,
   "id": "f34422aa-81fb-4dbb-baaf-2e5df44a5fe3",
   "metadata": {},
   "outputs": [
    {
     "data": {
      "text/html": [
       "<div>\n",
       "<style scoped>\n",
       "    .dataframe tbody tr th:only-of-type {\n",
       "        vertical-align: middle;\n",
       "    }\n",
       "\n",
       "    .dataframe tbody tr th {\n",
       "        vertical-align: top;\n",
       "    }\n",
       "\n",
       "    .dataframe thead th {\n",
       "        text-align: right;\n",
       "    }\n",
       "</style>\n",
       "<table border=\"1\" class=\"dataframe\">\n",
       "  <thead>\n",
       "    <tr style=\"text-align: right;\">\n",
       "      <th></th>\n",
       "      <th>ID</th>\n",
       "      <th>Città</th>\n",
       "    </tr>\n",
       "  </thead>\n",
       "  <tbody>\n",
       "    <tr>\n",
       "      <th>0</th>\n",
       "      <td>2</td>\n",
       "      <td>Milano</td>\n",
       "    </tr>\n",
       "    <tr>\n",
       "      <th>1</th>\n",
       "      <td>3</td>\n",
       "      <td>Torino</td>\n",
       "    </tr>\n",
       "    <tr>\n",
       "      <th>2</th>\n",
       "      <td>4</td>\n",
       "      <td>Napoli</td>\n",
       "    </tr>\n",
       "  </tbody>\n",
       "</table>\n",
       "</div>"
      ],
      "text/plain": [
       "   ID   Città\n",
       "0   2  Milano\n",
       "1   3  Torino\n",
       "2   4  Napoli"
      ]
     },
     "execution_count": 75,
     "metadata": {},
     "output_type": "execute_result"
    }
   ],
   "source": [
    "df2"
   ]
  },
  {
   "cell_type": "code",
   "execution_count": 79,
   "id": "ec73375b-c0fc-48db-9764-5910a518632a",
   "metadata": {},
   "outputs": [
    {
     "data": {
      "text/html": [
       "<div>\n",
       "<style scoped>\n",
       "    .dataframe tbody tr th:only-of-type {\n",
       "        vertical-align: middle;\n",
       "    }\n",
       "\n",
       "    .dataframe tbody tr th {\n",
       "        vertical-align: top;\n",
       "    }\n",
       "\n",
       "    .dataframe thead th {\n",
       "        text-align: right;\n",
       "    }\n",
       "</style>\n",
       "<table border=\"1\" class=\"dataframe\">\n",
       "  <thead>\n",
       "    <tr style=\"text-align: right;\">\n",
       "      <th></th>\n",
       "      <th>ID</th>\n",
       "      <th>Nome</th>\n",
       "      <th>Città</th>\n",
       "    </tr>\n",
       "  </thead>\n",
       "  <tbody>\n",
       "    <tr>\n",
       "      <th>0</th>\n",
       "      <td>1</td>\n",
       "      <td>Alice</td>\n",
       "      <td>NaN</td>\n",
       "    </tr>\n",
       "    <tr>\n",
       "      <th>1</th>\n",
       "      <td>2</td>\n",
       "      <td>Bob</td>\n",
       "      <td>Milano</td>\n",
       "    </tr>\n",
       "    <tr>\n",
       "      <th>2</th>\n",
       "      <td>3</td>\n",
       "      <td>Charlie</td>\n",
       "      <td>Torino</td>\n",
       "    </tr>\n",
       "  </tbody>\n",
       "</table>\n",
       "</div>"
      ],
      "text/plain": [
       "   ID     Nome   Città\n",
       "0   1    Alice     NaN\n",
       "1   2      Bob  Milano\n",
       "2   3  Charlie  Torino"
      ]
     },
     "execution_count": 79,
     "metadata": {},
     "output_type": "execute_result"
    }
   ],
   "source": [
    "# Left join\n",
    "df_left = pd.merge(df1, df2, on='ID', how='left')\n",
    "df_left"
   ]
  },
  {
   "cell_type": "code",
   "execution_count": null,
   "id": "1ebe0525-7fe6-4f55-99af-4a9a129acbde",
   "metadata": {},
   "outputs": [],
   "source": []
  },
  {
   "cell_type": "code",
   "execution_count": null,
   "id": "3c8d7583-e4de-4959-b0ab-03caa0434e94",
   "metadata": {},
   "outputs": [],
   "source": [
    "# Viene presa in considerazione la colonna id della prima tabella. Se nella seconda ci sono valori corrispondenti, allora avverrà il merge. In caso contrario avremo NaN"
   ]
  },
  {
   "cell_type": "code",
   "execution_count": null,
   "id": "8a364f6a-0578-4184-bf98-1fa4508ced01",
   "metadata": {},
   "outputs": [],
   "source": [
    "# NB Gli indici presenti solo nella seconda tabella, come nel nostro esempio l'indice 4 presente nella seconda tabella, NON vengono presi in considerazione."
   ]
  },
  {
   "cell_type": "code",
   "execution_count": null,
   "id": "b5dfbc3c-d2b4-4710-bb67-b5054229609a",
   "metadata": {},
   "outputs": [],
   "source": []
  },
  {
   "cell_type": "code",
   "execution_count": null,
   "id": "cf93d178-a747-458e-8314-ff1e12083114",
   "metadata": {},
   "outputs": [],
   "source": [
    "# RIGHT MERGE"
   ]
  },
  {
   "cell_type": "code",
   "execution_count": null,
   "id": "3c8c1716-2a2a-4668-b1c0-e7ef35ba3112",
   "metadata": {},
   "outputs": [],
   "source": []
  },
  {
   "cell_type": "code",
   "execution_count": 85,
   "id": "d6d91b16-18ef-48b7-9595-1ed5e5ce1937",
   "metadata": {},
   "outputs": [
    {
     "data": {
      "text/html": [
       "<div>\n",
       "<style scoped>\n",
       "    .dataframe tbody tr th:only-of-type {\n",
       "        vertical-align: middle;\n",
       "    }\n",
       "\n",
       "    .dataframe tbody tr th {\n",
       "        vertical-align: top;\n",
       "    }\n",
       "\n",
       "    .dataframe thead th {\n",
       "        text-align: right;\n",
       "    }\n",
       "</style>\n",
       "<table border=\"1\" class=\"dataframe\">\n",
       "  <thead>\n",
       "    <tr style=\"text-align: right;\">\n",
       "      <th></th>\n",
       "      <th>ID</th>\n",
       "      <th>Nome</th>\n",
       "    </tr>\n",
       "  </thead>\n",
       "  <tbody>\n",
       "    <tr>\n",
       "      <th>0</th>\n",
       "      <td>1</td>\n",
       "      <td>Alice</td>\n",
       "    </tr>\n",
       "    <tr>\n",
       "      <th>1</th>\n",
       "      <td>2</td>\n",
       "      <td>Bob</td>\n",
       "    </tr>\n",
       "    <tr>\n",
       "      <th>2</th>\n",
       "      <td>3</td>\n",
       "      <td>Charlie</td>\n",
       "    </tr>\n",
       "  </tbody>\n",
       "</table>\n",
       "</div>"
      ],
      "text/plain": [
       "   ID     Nome\n",
       "0   1    Alice\n",
       "1   2      Bob\n",
       "2   3  Charlie"
      ]
     },
     "execution_count": 85,
     "metadata": {},
     "output_type": "execute_result"
    }
   ],
   "source": [
    "df1"
   ]
  },
  {
   "cell_type": "code",
   "execution_count": 87,
   "id": "13ff5ce5-ff2b-44cd-bbca-20fd4a2d7649",
   "metadata": {},
   "outputs": [
    {
     "data": {
      "text/html": [
       "<div>\n",
       "<style scoped>\n",
       "    .dataframe tbody tr th:only-of-type {\n",
       "        vertical-align: middle;\n",
       "    }\n",
       "\n",
       "    .dataframe tbody tr th {\n",
       "        vertical-align: top;\n",
       "    }\n",
       "\n",
       "    .dataframe thead th {\n",
       "        text-align: right;\n",
       "    }\n",
       "</style>\n",
       "<table border=\"1\" class=\"dataframe\">\n",
       "  <thead>\n",
       "    <tr style=\"text-align: right;\">\n",
       "      <th></th>\n",
       "      <th>ID</th>\n",
       "      <th>Città</th>\n",
       "    </tr>\n",
       "  </thead>\n",
       "  <tbody>\n",
       "    <tr>\n",
       "      <th>0</th>\n",
       "      <td>2</td>\n",
       "      <td>Milano</td>\n",
       "    </tr>\n",
       "    <tr>\n",
       "      <th>1</th>\n",
       "      <td>3</td>\n",
       "      <td>Torino</td>\n",
       "    </tr>\n",
       "    <tr>\n",
       "      <th>2</th>\n",
       "      <td>4</td>\n",
       "      <td>Napoli</td>\n",
       "    </tr>\n",
       "  </tbody>\n",
       "</table>\n",
       "</div>"
      ],
      "text/plain": [
       "   ID   Città\n",
       "0   2  Milano\n",
       "1   3  Torino\n",
       "2   4  Napoli"
      ]
     },
     "execution_count": 87,
     "metadata": {},
     "output_type": "execute_result"
    }
   ],
   "source": [
    "df2"
   ]
  },
  {
   "cell_type": "code",
   "execution_count": null,
   "id": "267db9f7-701a-4b84-8a55-1d1a3358f50e",
   "metadata": {},
   "outputs": [],
   "source": []
  },
  {
   "cell_type": "code",
   "execution_count": 89,
   "id": "84389d20-532f-4dae-ab98-08ef49d7e3f7",
   "metadata": {},
   "outputs": [],
   "source": [
    "# In df2 abbiamo gli indici 2,3,4. In df1 abbiamo gli indici 1,2,3. Poiché è una righe join, contano solo gli indici presenti nella tabella di destra."
   ]
  },
  {
   "cell_type": "code",
   "execution_count": null,
   "id": "bbe40b81-4433-40f1-8c98-ce6ad1fcc327",
   "metadata": {},
   "outputs": [],
   "source": []
  },
  {
   "cell_type": "code",
   "execution_count": 91,
   "id": "d9d2572c-de92-424d-8848-f17778dc11eb",
   "metadata": {},
   "outputs": [
    {
     "data": {
      "text/html": [
       "<div>\n",
       "<style scoped>\n",
       "    .dataframe tbody tr th:only-of-type {\n",
       "        vertical-align: middle;\n",
       "    }\n",
       "\n",
       "    .dataframe tbody tr th {\n",
       "        vertical-align: top;\n",
       "    }\n",
       "\n",
       "    .dataframe thead th {\n",
       "        text-align: right;\n",
       "    }\n",
       "</style>\n",
       "<table border=\"1\" class=\"dataframe\">\n",
       "  <thead>\n",
       "    <tr style=\"text-align: right;\">\n",
       "      <th></th>\n",
       "      <th>ID</th>\n",
       "      <th>Città</th>\n",
       "      <th>Nome</th>\n",
       "    </tr>\n",
       "  </thead>\n",
       "  <tbody>\n",
       "    <tr>\n",
       "      <th>0</th>\n",
       "      <td>2</td>\n",
       "      <td>Milano</td>\n",
       "      <td>Bob</td>\n",
       "    </tr>\n",
       "    <tr>\n",
       "      <th>1</th>\n",
       "      <td>3</td>\n",
       "      <td>Torino</td>\n",
       "      <td>Charlie</td>\n",
       "    </tr>\n",
       "    <tr>\n",
       "      <th>2</th>\n",
       "      <td>4</td>\n",
       "      <td>Napoli</td>\n",
       "      <td>NaN</td>\n",
       "    </tr>\n",
       "  </tbody>\n",
       "</table>\n",
       "</div>"
      ],
      "text/plain": [
       "   ID   Città     Nome\n",
       "0   2  Milano      Bob\n",
       "1   3  Torino  Charlie\n",
       "2   4  Napoli      NaN"
      ]
     },
     "execution_count": 91,
     "metadata": {},
     "output_type": "execute_result"
    }
   ],
   "source": [
    "df_right = pd.merge(df2, df1, on='ID', how='left')\n",
    "df_right"
   ]
  },
  {
   "cell_type": "code",
   "execution_count": null,
   "id": "aca90b20-aed0-4464-8c11-08c42eeea445",
   "metadata": {},
   "outputs": [],
   "source": []
  },
  {
   "cell_type": "code",
   "execution_count": null,
   "id": "a95fe23e-b06f-4ac3-a8f9-beec1f6309b5",
   "metadata": {},
   "outputs": [],
   "source": []
  },
  {
   "cell_type": "code",
   "execution_count": null,
   "id": "30377d76-7bd1-4b42-8e53-0dd48a137742",
   "metadata": {},
   "outputs": [],
   "source": [
    "# Ovviamente, date due etabella A e B, la right join di A e B è pari alla left join di B e A"
   ]
  },
  {
   "cell_type": "code",
   "execution_count": null,
   "id": "15e7990b-1463-4990-973b-8f7623ec2b8c",
   "metadata": {},
   "outputs": [],
   "source": []
  },
  {
   "cell_type": "code",
   "execution_count": null,
   "id": "f071d0cf-4a78-4514-bc36-8d50f18c9876",
   "metadata": {},
   "outputs": [],
   "source": [
    "# OUTER MERGE"
   ]
  },
  {
   "cell_type": "code",
   "execution_count": null,
   "id": "6162e090-00ad-4226-912e-92ad27e1d278",
   "metadata": {},
   "outputs": [],
   "source": []
  },
  {
   "cell_type": "code",
   "execution_count": null,
   "id": "9ff0f936-c4aa-4136-8aee-f12a325cf5bf",
   "metadata": {},
   "outputs": [],
   "source": [
    "# Un outer merge in pandas restituisce tutte le righe da entrambi i DataFrame, unendo dove le chiavi corrispondono. Dove non c'è corrispondenza, i valori mancanti vengono riempiti con NaN.\n",
    "# Dati due Df, A e B, svreno che la outer join tra A e B è uguale alla outer join tra B e A"
   ]
  },
  {
   "cell_type": "code",
   "execution_count": 93,
   "id": "62d8d81d-ff3e-4149-ac4e-6b9d42d3bc01",
   "metadata": {},
   "outputs": [],
   "source": [
    "# Primo DataFrame\n",
    "df1 = pd.DataFrame({\n",
    "    'ID': [1, 2, 3],\n",
    "    'Nome': ['Alice', 'Bob', 'Charlie']\n",
    "})\n",
    "\n",
    "# Secondo DataFrame\n",
    "df2 = pd.DataFrame({\n",
    "    'ID': [3, 4],\n",
    "    'Città': ['Torino', 'Napoli']\n",
    "})\n"
   ]
  },
  {
   "cell_type": "code",
   "execution_count": null,
   "id": "d97fcc24-f2fc-4221-822d-6e0be32466fe",
   "metadata": {},
   "outputs": [],
   "source": []
  },
  {
   "cell_type": "code",
   "execution_count": 95,
   "id": "65a89503-055f-481f-bbb5-610db24b8f19",
   "metadata": {},
   "outputs": [
    {
     "data": {
      "text/html": [
       "<div>\n",
       "<style scoped>\n",
       "    .dataframe tbody tr th:only-of-type {\n",
       "        vertical-align: middle;\n",
       "    }\n",
       "\n",
       "    .dataframe tbody tr th {\n",
       "        vertical-align: top;\n",
       "    }\n",
       "\n",
       "    .dataframe thead th {\n",
       "        text-align: right;\n",
       "    }\n",
       "</style>\n",
       "<table border=\"1\" class=\"dataframe\">\n",
       "  <thead>\n",
       "    <tr style=\"text-align: right;\">\n",
       "      <th></th>\n",
       "      <th>ID</th>\n",
       "      <th>Nome</th>\n",
       "    </tr>\n",
       "  </thead>\n",
       "  <tbody>\n",
       "    <tr>\n",
       "      <th>0</th>\n",
       "      <td>1</td>\n",
       "      <td>Alice</td>\n",
       "    </tr>\n",
       "    <tr>\n",
       "      <th>1</th>\n",
       "      <td>2</td>\n",
       "      <td>Bob</td>\n",
       "    </tr>\n",
       "    <tr>\n",
       "      <th>2</th>\n",
       "      <td>3</td>\n",
       "      <td>Charlie</td>\n",
       "    </tr>\n",
       "  </tbody>\n",
       "</table>\n",
       "</div>"
      ],
      "text/plain": [
       "   ID     Nome\n",
       "0   1    Alice\n",
       "1   2      Bob\n",
       "2   3  Charlie"
      ]
     },
     "execution_count": 95,
     "metadata": {},
     "output_type": "execute_result"
    }
   ],
   "source": [
    "df1"
   ]
  },
  {
   "cell_type": "code",
   "execution_count": 97,
   "id": "6bf3f6db-4692-446d-bb39-a2b52df43e25",
   "metadata": {},
   "outputs": [
    {
     "data": {
      "text/html": [
       "<div>\n",
       "<style scoped>\n",
       "    .dataframe tbody tr th:only-of-type {\n",
       "        vertical-align: middle;\n",
       "    }\n",
       "\n",
       "    .dataframe tbody tr th {\n",
       "        vertical-align: top;\n",
       "    }\n",
       "\n",
       "    .dataframe thead th {\n",
       "        text-align: right;\n",
       "    }\n",
       "</style>\n",
       "<table border=\"1\" class=\"dataframe\">\n",
       "  <thead>\n",
       "    <tr style=\"text-align: right;\">\n",
       "      <th></th>\n",
       "      <th>ID</th>\n",
       "      <th>Città</th>\n",
       "    </tr>\n",
       "  </thead>\n",
       "  <tbody>\n",
       "    <tr>\n",
       "      <th>0</th>\n",
       "      <td>3</td>\n",
       "      <td>Torino</td>\n",
       "    </tr>\n",
       "    <tr>\n",
       "      <th>1</th>\n",
       "      <td>4</td>\n",
       "      <td>Napoli</td>\n",
       "    </tr>\n",
       "  </tbody>\n",
       "</table>\n",
       "</div>"
      ],
      "text/plain": [
       "   ID   Città\n",
       "0   3  Torino\n",
       "1   4  Napoli"
      ]
     },
     "execution_count": 97,
     "metadata": {},
     "output_type": "execute_result"
    }
   ],
   "source": [
    "df2"
   ]
  },
  {
   "cell_type": "code",
   "execution_count": null,
   "id": "df70ba50-dedd-49cc-a45c-4391b06c81d3",
   "metadata": {},
   "outputs": [],
   "source": []
  },
  {
   "cell_type": "code",
   "execution_count": null,
   "id": "db46b6a3-970d-43c8-8a03-3be4c1ca8639",
   "metadata": {},
   "outputs": [],
   "source": []
  },
  {
   "cell_type": "code",
   "execution_count": 103,
   "id": "ad1bef5b-b051-4f65-9c40-cd457c2d103c",
   "metadata": {},
   "outputs": [
    {
     "data": {
      "text/html": [
       "<div>\n",
       "<style scoped>\n",
       "    .dataframe tbody tr th:only-of-type {\n",
       "        vertical-align: middle;\n",
       "    }\n",
       "\n",
       "    .dataframe tbody tr th {\n",
       "        vertical-align: top;\n",
       "    }\n",
       "\n",
       "    .dataframe thead th {\n",
       "        text-align: right;\n",
       "    }\n",
       "</style>\n",
       "<table border=\"1\" class=\"dataframe\">\n",
       "  <thead>\n",
       "    <tr style=\"text-align: right;\">\n",
       "      <th></th>\n",
       "      <th>ID</th>\n",
       "      <th>Città</th>\n",
       "      <th>Nome</th>\n",
       "    </tr>\n",
       "  </thead>\n",
       "  <tbody>\n",
       "    <tr>\n",
       "      <th>0</th>\n",
       "      <td>1</td>\n",
       "      <td>NaN</td>\n",
       "      <td>Alice</td>\n",
       "    </tr>\n",
       "    <tr>\n",
       "      <th>1</th>\n",
       "      <td>2</td>\n",
       "      <td>NaN</td>\n",
       "      <td>Bob</td>\n",
       "    </tr>\n",
       "    <tr>\n",
       "      <th>2</th>\n",
       "      <td>3</td>\n",
       "      <td>Torino</td>\n",
       "      <td>Charlie</td>\n",
       "    </tr>\n",
       "    <tr>\n",
       "      <th>3</th>\n",
       "      <td>4</td>\n",
       "      <td>Napoli</td>\n",
       "      <td>NaN</td>\n",
       "    </tr>\n",
       "  </tbody>\n",
       "</table>\n",
       "</div>"
      ],
      "text/plain": [
       "   ID   Città     Nome\n",
       "0   1     NaN    Alice\n",
       "1   2     NaN      Bob\n",
       "2   3  Torino  Charlie\n",
       "3   4  Napoli      NaN"
      ]
     },
     "execution_count": 103,
     "metadata": {},
     "output_type": "execute_result"
    }
   ],
   "source": [
    "df_outer = pd.merge(df2, df1, on='ID', how='outer')\n",
    "df_outer"
   ]
  },
  {
   "cell_type": "code",
   "execution_count": null,
   "id": "7fa2c930-db9d-4d9e-93d3-ae5748e3f90f",
   "metadata": {},
   "outputs": [],
   "source": []
  },
  {
   "cell_type": "code",
   "execution_count": null,
   "id": "307dc11c-2672-45fe-bef9-070dace8ce91",
   "metadata": {},
   "outputs": [],
   "source": []
  }
 ],
 "metadata": {
  "kernelspec": {
   "display_name": "Python [conda env:base] *",
   "language": "python",
   "name": "conda-base-py"
  },
  "language_info": {
   "codemirror_mode": {
    "name": "ipython",
    "version": 3
   },
   "file_extension": ".py",
   "mimetype": "text/x-python",
   "name": "python",
   "nbconvert_exporter": "python",
   "pygments_lexer": "ipython3",
   "version": "3.12.7"
  }
 },
 "nbformat": 4,
 "nbformat_minor": 5
}
