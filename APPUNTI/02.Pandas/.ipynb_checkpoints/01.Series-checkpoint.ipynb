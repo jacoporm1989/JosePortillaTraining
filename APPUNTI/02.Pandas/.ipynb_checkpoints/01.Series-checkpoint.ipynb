{
 "cells": [
  {
   "cell_type": "code",
   "execution_count": 1,
   "id": "abd816ae-5f3c-4cd3-b3c4-fa2c7b1d5093",
   "metadata": {},
   "outputs": [],
   "source": [
    "import numpy as np\n",
    "import pandas as pd"
   ]
  },
  {
   "cell_type": "code",
   "execution_count": null,
   "id": "92e9c70f-4456-4e6c-b69d-97249252dfc8",
   "metadata": {},
   "outputs": [],
   "source": []
  },
  {
   "cell_type": "code",
   "execution_count": null,
   "id": "f54e2aaf-d64f-42d3-950f-50010f77aa9b",
   "metadata": {},
   "outputs": [],
   "source": [
    "# Una series è un dataframe composto da una sola colonna. Abbiamo quindi una colonna di indici (da 0 a n-1) e la nostra colonna, che può essere\n",
    "# di qualsiasi tipo. ESEMPIO"
   ]
  },
  {
   "cell_type": "code",
   "execution_count": null,
   "id": "fdee62e4-68a1-4288-b1a2-05509b4bb1e9",
   "metadata": {},
   "outputs": [],
   "source": []
  },
  {
   "cell_type": "code",
   "execution_count": 3,
   "id": "e2ab9c20-e7a6-4c16-8efb-d75fc2f104cb",
   "metadata": {},
   "outputs": [],
   "source": [
    "prezzi = [125,322,9,44]"
   ]
  },
  {
   "cell_type": "code",
   "execution_count": 4,
   "id": "cb055869-0f23-4ff8-948b-8068c6f04692",
   "metadata": {},
   "outputs": [
    {
     "data": {
      "text/plain": [
       "0    125\n",
       "1    322\n",
       "2      9\n",
       "3     44\n",
       "dtype: int64"
      ]
     },
     "execution_count": 4,
     "metadata": {},
     "output_type": "execute_result"
    }
   ],
   "source": [
    "prezzi_series = pd.Series(prezzi)\n",
    "prezzi_series"
   ]
  },
  {
   "cell_type": "code",
   "execution_count": null,
   "id": "9a2a13f1-e3ce-45dd-a623-9b97b33432a7",
   "metadata": {},
   "outputs": [],
   "source": []
  },
  {
   "cell_type": "code",
   "execution_count": 5,
   "id": "447e82e3-3bd3-4fbd-9f93-725b681e4081",
   "metadata": {},
   "outputs": [
    {
     "data": {
      "text/plain": [
       "pandas.core.series.Series"
      ]
     },
     "execution_count": 5,
     "metadata": {},
     "output_type": "execute_result"
    }
   ],
   "source": [
    "type(prezzi_series)"
   ]
  },
  {
   "cell_type": "code",
   "execution_count": null,
   "id": "ddaaff7a-210f-4db0-a4ff-dfc23fe60e39",
   "metadata": {},
   "outputs": [],
   "source": []
  },
  {
   "cell_type": "code",
   "execution_count": null,
   "id": "8af7f924-396a-4fd0-ab21-750521ec2b33",
   "metadata": {},
   "outputs": [],
   "source": [
    "# Abbiamo quindi la nostra variabile prezzi e l'indice associato parte da 0 e termina a n-1. Possiamo posticipare l'indice"
   ]
  },
  {
   "cell_type": "code",
   "execution_count": null,
   "id": "ade70f3c-f2de-4568-9472-5865e45586f6",
   "metadata": {},
   "outputs": [],
   "source": []
  },
  {
   "cell_type": "code",
   "execution_count": 17,
   "id": "377f847f-b7f4-445a-9168-d64b9ec027e7",
   "metadata": {},
   "outputs": [
    {
     "data": {
      "text/plain": [
       "['productA', 'productB', 'productC', 'productD']"
      ]
     },
     "execution_count": 17,
     "metadata": {},
     "output_type": "execute_result"
    }
   ],
   "source": [
    "prezzi_index = [\"productA\",\"productB\",\"productC\",\"productD\"]\n",
    "prezzi_index"
   ]
  },
  {
   "cell_type": "code",
   "execution_count": null,
   "id": "c26c9028-b9aa-4ee9-9873-27851d78c473",
   "metadata": {},
   "outputs": [],
   "source": []
  },
  {
   "cell_type": "code",
   "execution_count": 18,
   "id": "d8005c49-a4f0-484d-a5c3-a54c28ad4d42",
   "metadata": {},
   "outputs": [
    {
     "data": {
      "text/plain": [
       "productA    125\n",
       "productB    322\n",
       "productC      9\n",
       "productD     44\n",
       "dtype: int64"
      ]
     },
     "execution_count": 18,
     "metadata": {},
     "output_type": "execute_result"
    }
   ],
   "source": [
    "prices = pd.Series(data=prezzi,index=prezzi_index)\n",
    "prices"
   ]
  },
  {
   "cell_type": "code",
   "execution_count": null,
   "id": "1c31a0b0-4c87-4aa8-8030-80c98d70a006",
   "metadata": {},
   "outputs": [],
   "source": []
  },
  {
   "cell_type": "code",
   "execution_count": 24,
   "id": "15d9e44d-e30f-406e-a58b-ad748cef043e",
   "metadata": {},
   "outputs": [],
   "source": [
    "# OPPURE"
   ]
  },
  {
   "cell_type": "code",
   "execution_count": 25,
   "id": "0bce46b3-207f-4f4b-8ece-a6d4455d8c17",
   "metadata": {},
   "outputs": [
    {
     "data": {
      "text/plain": [
       "productA    125\n",
       "productB    322\n",
       "productC      9\n",
       "productD     44\n",
       "dtype: int64"
      ]
     },
     "execution_count": 25,
     "metadata": {},
     "output_type": "execute_result"
    }
   ],
   "source": [
    "prices = pd.Series(prezzi,prezzi_index)\n",
    "prices"
   ]
  },
  {
   "cell_type": "code",
   "execution_count": null,
   "id": "d2463888-b5ad-4e60-b178-9535ac8cb389",
   "metadata": {},
   "outputs": [],
   "source": []
  },
  {
   "cell_type": "code",
   "execution_count": 19,
   "id": "fa3af2e5-d4a9-4b06-90a2-857f04777f6c",
   "metadata": {},
   "outputs": [],
   "source": [
    "# Accedere agli elementi della Series. Possiamo accedervi sia tramite indice, sia tramite label"
   ]
  },
  {
   "cell_type": "code",
   "execution_count": null,
   "id": "ca17f9e1-8d97-4c26-a956-37c141ac3d60",
   "metadata": {},
   "outputs": [],
   "source": []
  },
  {
   "cell_type": "code",
   "execution_count": 20,
   "id": "f38bd2a7-2ef9-4874-b31e-b7eb370b2c74",
   "metadata": {},
   "outputs": [
    {
     "name": "stderr",
     "output_type": "stream",
     "text": [
      "C:\\Users\\jgian\\AppData\\Local\\Temp\\ipykernel_15332\\3717727957.py:1: FutureWarning: Series.__getitem__ treating keys as positions is deprecated. In a future version, integer keys will always be treated as labels (consistent with DataFrame behavior). To access a value by position, use `ser.iloc[pos]`\n",
      "  prices[1]\n"
     ]
    },
    {
     "data": {
      "text/plain": [
       "322"
      ]
     },
     "execution_count": 20,
     "metadata": {},
     "output_type": "execute_result"
    }
   ],
   "source": [
    "prices[1]"
   ]
  },
  {
   "cell_type": "code",
   "execution_count": 21,
   "id": "7986dfbc-bd98-4615-b7a2-6302961df6d6",
   "metadata": {},
   "outputs": [
    {
     "data": {
      "text/plain": [
       "322"
      ]
     },
     "execution_count": 21,
     "metadata": {},
     "output_type": "execute_result"
    }
   ],
   "source": [
    "prices.iloc[1]"
   ]
  },
  {
   "cell_type": "code",
   "execution_count": null,
   "id": "8f392152-4a2e-40fc-9bb6-3e45dd6d9d28",
   "metadata": {},
   "outputs": [],
   "source": []
  },
  {
   "cell_type": "code",
   "execution_count": 22,
   "id": "586f6cb8-b270-4fdd-b98c-bf71117253d4",
   "metadata": {},
   "outputs": [
    {
     "data": {
      "text/plain": [
       "322"
      ]
     },
     "execution_count": 22,
     "metadata": {},
     "output_type": "execute_result"
    }
   ],
   "source": [
    "prices[\"productB\"]"
   ]
  },
  {
   "cell_type": "code",
   "execution_count": 23,
   "id": "5e0e2e4e-0c97-47f6-aa91-f100117b010f",
   "metadata": {},
   "outputs": [
    {
     "data": {
      "text/plain": [
       "322"
      ]
     },
     "execution_count": 23,
     "metadata": {},
     "output_type": "execute_result"
    }
   ],
   "source": [
    "prices.loc[\"productB\"]"
   ]
  },
  {
   "cell_type": "code",
   "execution_count": null,
   "id": "79afabf3-ec7b-498b-a1da-2ee79f364f53",
   "metadata": {},
   "outputs": [],
   "source": []
  },
  {
   "cell_type": "code",
   "execution_count": null,
   "id": "33ebf8b2-5c22-4450-9bc3-061fe35bddba",
   "metadata": {},
   "outputs": [],
   "source": [
    "# Abbiamo costruito una series partendo da una lista. Possiamo crearne una partendo da un dizionario"
   ]
  },
  {
   "cell_type": "code",
   "execution_count": null,
   "id": "16791884-c210-4486-b6fd-17ecd132ba7c",
   "metadata": {},
   "outputs": [],
   "source": []
  },
  {
   "cell_type": "code",
   "execution_count": 27,
   "id": "3a7c8608-22bb-4df2-9ccd-96353dbe1aed",
   "metadata": {},
   "outputs": [
    {
     "data": {
      "text/plain": [
       "{'SHIBAINO': 135, 'BASSOTTO': 200, 'ALANO': 190, 'HUSKY': 450}"
      ]
     },
     "execution_count": 27,
     "metadata": {},
     "output_type": "execute_result"
    }
   ],
   "source": [
    "prezzo_cani = {\"SHIBAINO\":135,\"BASSOTTO\":200,\"ALANO\":190,\"HUSKY\":450}\n",
    "prezzo_cani"
   ]
  },
  {
   "cell_type": "code",
   "execution_count": null,
   "id": "a52d88d6-4980-4185-be84-10b411fbffc9",
   "metadata": {},
   "outputs": [],
   "source": []
  },
  {
   "cell_type": "code",
   "execution_count": 28,
   "id": "7235d9e1-282e-4758-bbba-805b814c4756",
   "metadata": {},
   "outputs": [
    {
     "data": {
      "text/plain": [
       "SHIBAINO    135\n",
       "BASSOTTO    200\n",
       "ALANO       190\n",
       "HUSKY       450\n",
       "dtype: int64"
      ]
     },
     "execution_count": 28,
     "metadata": {},
     "output_type": "execute_result"
    }
   ],
   "source": [
    "prezzo_cani_series = pd.Series(prezzo_cani)\n",
    "prezzo_cani_series"
   ]
  },
  {
   "cell_type": "code",
   "execution_count": null,
   "id": "3bfb236d-08d7-43ee-8f2a-916bd29ecd72",
   "metadata": {},
   "outputs": [],
   "source": []
  },
  {
   "cell_type": "code",
   "execution_count": null,
   "id": "741e2b9b-f5ad-4c36-b6e8-6b88e1009371",
   "metadata": {},
   "outputs": [],
   "source": [
    "# Gli indici, in automatico, sono i label"
   ]
  },
  {
   "cell_type": "code",
   "execution_count": null,
   "id": "7780f0b2-8721-4836-8d82-2297f5318861",
   "metadata": {},
   "outputs": [],
   "source": []
  },
  {
   "cell_type": "code",
   "execution_count": 29,
   "id": "43cffa75-de7d-4534-b225-5d5fde0b23de",
   "metadata": {},
   "outputs": [],
   "source": [
    "# Partiamo ora da due dizionari aventi stesse chiavi:"
   ]
  },
  {
   "cell_type": "code",
   "execution_count": null,
   "id": "38503b41-d97f-4084-aa98-ed1e866a2e6c",
   "metadata": {},
   "outputs": [],
   "source": []
  },
  {
   "cell_type": "code",
   "execution_count": 33,
   "id": "f4e0cdb5-0e91-4ead-a2d1-8f3989545184",
   "metadata": {},
   "outputs": [],
   "source": [
    "student1 = {\n",
    "    \"name\": \"John Doe\",\n",
    "    \"age\": 20,\n",
    "    \"major\": \"Computer Science\"\n",
    "}\n",
    "\n",
    "student2 = {\n",
    "    \"name\": \"Jack Bauer\",\n",
    "    \"age\": 44,\n",
    "    \"major\": \"Machine learning\"\n",
    "}\n"
   ]
  },
  {
   "cell_type": "code",
   "execution_count": 34,
   "id": "32b5e022-1bd2-4606-8dc1-ba7511b4e992",
   "metadata": {},
   "outputs": [
    {
     "data": {
      "text/plain": [
       "{'name': 'John Doe', 'age': 20, 'major': 'Computer Science'}"
      ]
     },
     "execution_count": 34,
     "metadata": {},
     "output_type": "execute_result"
    }
   ],
   "source": [
    "student1"
   ]
  },
  {
   "cell_type": "code",
   "execution_count": 35,
   "id": "4865a09e-79bc-4226-9578-de73e8b78368",
   "metadata": {},
   "outputs": [
    {
     "data": {
      "text/plain": [
       "{'name': 'Jack Bauer', 'age': 44, 'major': 'Machine learning'}"
      ]
     },
     "execution_count": 35,
     "metadata": {},
     "output_type": "execute_result"
    }
   ],
   "source": [
    "student2"
   ]
  },
  {
   "cell_type": "code",
   "execution_count": null,
   "id": "c153dcfd-40c4-47f4-80a7-c0c6eef049f3",
   "metadata": {},
   "outputs": [],
   "source": []
  },
  {
   "cell_type": "code",
   "execution_count": 36,
   "id": "cfd0f79a-6d05-4099-b1d1-cc0b323506e5",
   "metadata": {},
   "outputs": [],
   "source": [
    "# Trasformiamo ognuno in una pandas series"
   ]
  },
  {
   "cell_type": "code",
   "execution_count": 38,
   "id": "d27c77ac-b9af-4e1a-b12e-cc273e086aac",
   "metadata": {},
   "outputs": [],
   "source": [
    "student1_series = pd.Series(student1)\n",
    "student2_series = pd.Series(student2)"
   ]
  },
  {
   "cell_type": "code",
   "execution_count": null,
   "id": "009585b6-a57f-4cc2-9033-f30b73d615ed",
   "metadata": {},
   "outputs": [],
   "source": []
  },
  {
   "cell_type": "code",
   "execution_count": 39,
   "id": "c2254087-7d26-4da7-9fc1-f1fd9c9d49bd",
   "metadata": {},
   "outputs": [
    {
     "data": {
      "text/plain": [
       "name             John Doe\n",
       "age                    20\n",
       "major    Computer Science\n",
       "dtype: object"
      ]
     },
     "execution_count": 39,
     "metadata": {},
     "output_type": "execute_result"
    }
   ],
   "source": [
    "student1_series "
   ]
  },
  {
   "cell_type": "code",
   "execution_count": 40,
   "id": "4060f61d-b5a3-42a7-9c1e-94e796c0f630",
   "metadata": {},
   "outputs": [
    {
     "data": {
      "text/plain": [
       "name           Jack Bauer\n",
       "age                    44\n",
       "major    Machine learning\n",
       "dtype: object"
      ]
     },
     "execution_count": 40,
     "metadata": {},
     "output_type": "execute_result"
    }
   ],
   "source": [
    "student2_series"
   ]
  },
  {
   "cell_type": "code",
   "execution_count": null,
   "id": "182a744f-550e-4ef4-853a-c524e650eb88",
   "metadata": {},
   "outputs": [],
   "source": []
  },
  {
   "cell_type": "code",
   "execution_count": 41,
   "id": "ff80cb89-ec82-4396-bf80-5911b1a9f256",
   "metadata": {},
   "outputs": [],
   "source": [
    "# Possiamo accedere ad un elemento della Series tramite loc:"
   ]
  },
  {
   "cell_type": "code",
   "execution_count": null,
   "id": "a51b7804-84d9-4d13-928b-d9834d39140b",
   "metadata": {},
   "outputs": [],
   "source": []
  },
  {
   "cell_type": "code",
   "execution_count": 42,
   "id": "26226d27-3220-4cce-abd5-f12e01669f2e",
   "metadata": {},
   "outputs": [
    {
     "data": {
      "text/plain": [
       "44"
      ]
     },
     "execution_count": 42,
     "metadata": {},
     "output_type": "execute_result"
    }
   ],
   "source": [
    "student2_series.loc[\"age\"]"
   ]
  },
  {
   "cell_type": "code",
   "execution_count": 43,
   "id": "41054718-7634-47b8-8c68-99f0eb0f58c8",
   "metadata": {},
   "outputs": [],
   "source": [
    "# Oppure possiamo accedere ad un elemento tramite posizione dell'indice utilizzando iloc"
   ]
  },
  {
   "cell_type": "code",
   "execution_count": 44,
   "id": "afce1aa2-e614-4ef0-b247-1f11ae4de13d",
   "metadata": {},
   "outputs": [
    {
     "data": {
      "text/plain": [
       "44"
      ]
     },
     "execution_count": 44,
     "metadata": {},
     "output_type": "execute_result"
    }
   ],
   "source": [
    "student2_series.iloc[1]"
   ]
  },
  {
   "cell_type": "code",
   "execution_count": null,
   "id": "f40b54a6-559d-4b14-a2c9-80190c7ac614",
   "metadata": {},
   "outputs": [],
   "source": []
  },
  {
   "cell_type": "code",
   "execution_count": null,
   "id": "0d350079-226c-45d0-b191-d38f7bc2e5c4",
   "metadata": {},
   "outputs": [],
   "source": [
    "# Solitamente si accede ad un elemento tramite loc[\"Label dell'indice\"]."
   ]
  },
  {
   "cell_type": "code",
   "execution_count": null,
   "id": "5c123658-efbe-4dde-bcab-54535cc0bf7f",
   "metadata": {},
   "outputs": [],
   "source": []
  },
  {
   "cell_type": "code",
   "execution_count": null,
   "id": "5922410e-8923-4519-8c46-2bb7988f2a06",
   "metadata": {},
   "outputs": [],
   "source": [
    "# Per estrarre una lista di tutte le chiavi di una Series si utilizza il metodo keys:"
   ]
  },
  {
   "cell_type": "code",
   "execution_count": 45,
   "id": "7227ea54-fa0a-49b2-814a-8ffce17c189d",
   "metadata": {},
   "outputs": [
    {
     "data": {
      "text/plain": [
       "Index(['name', 'age', 'major'], dtype='object')"
      ]
     },
     "execution_count": 45,
     "metadata": {},
     "output_type": "execute_result"
    }
   ],
   "source": [
    "student2_series.keys()"
   ]
  },
  {
   "cell_type": "code",
   "execution_count": 46,
   "id": "85991057-6452-422d-86c8-4db8ccdca32b",
   "metadata": {},
   "outputs": [
    {
     "data": {
      "text/plain": [
       "pandas.core.indexes.base.Index"
      ]
     },
     "execution_count": 46,
     "metadata": {},
     "output_type": "execute_result"
    }
   ],
   "source": [
    "type(student2_series.keys())"
   ]
  },
  {
   "cell_type": "code",
   "execution_count": null,
   "id": "5469b996-769c-40cd-83ff-fca4e03fbe84",
   "metadata": {},
   "outputs": [],
   "source": []
  },
  {
   "cell_type": "code",
   "execution_count": 47,
   "id": "7daab524-3313-4bea-a2b8-9d00e4318efd",
   "metadata": {},
   "outputs": [],
   "source": [
    "# OPERAZIONI TRA SERIES"
   ]
  },
  {
   "cell_type": "code",
   "execution_count": null,
   "id": "14789a1c-9fd5-4f38-8658-998ecfbdf688",
   "metadata": {},
   "outputs": [],
   "source": []
  },
  {
   "cell_type": "code",
   "execution_count": 49,
   "id": "ed827558-ac04-4769-af6f-001b6fa172ac",
   "metadata": {},
   "outputs": [
    {
     "data": {
      "text/plain": [
       "name                       Jack BauerJack BauerJack Bauer\n",
       "age                                                   132\n",
       "major    Machine learningMachine learningMachine learning\n",
       "dtype: object"
      ]
     },
     "execution_count": 49,
     "metadata": {},
     "output_type": "execute_result"
    }
   ],
   "source": [
    "student2_series*3"
   ]
  },
  {
   "cell_type": "code",
   "execution_count": null,
   "id": "936443c4-f66d-4b73-a495-3f51c2cbc60c",
   "metadata": {},
   "outputs": [],
   "source": [
    "# Moltiplicando una Series per uno scalare, avremo che i valori di tipo string verranno concatenati per un numero di volte pari al valore dello scalare,\n",
    "# mentre i valori di tipo numerico verranno moltiplicati per esso."
   ]
  },
  {
   "cell_type": "code",
   "execution_count": null,
   "id": "097b2766-f025-43ba-8f67-75bc0c153c01",
   "metadata": {},
   "outputs": [],
   "source": []
  },
  {
   "cell_type": "code",
   "execution_count": 52,
   "id": "b957c405-0722-4fcc-836e-303a730aa45c",
   "metadata": {},
   "outputs": [
    {
     "data": {
      "text/plain": [
       "name                   John DoeJack Bauer\n",
       "age                                    64\n",
       "major    Computer ScienceMachine learning\n",
       "dtype: object"
      ]
     },
     "execution_count": 52,
     "metadata": {},
     "output_type": "execute_result"
    }
   ],
   "source": [
    "student1_series + student2_series"
   ]
  },
  {
   "cell_type": "code",
   "execution_count": null,
   "id": "f02a1d66-c768-4ad2-9e6e-7f7cae61b6e5",
   "metadata": {},
   "outputs": [],
   "source": []
  },
  {
   "cell_type": "code",
   "execution_count": null,
   "id": "aaa2894a-48f8-447e-a7a5-e8be86c94c4e",
   "metadata": {},
   "outputs": [],
   "source": [
    "# Sommando due Series aventi stesse chiavi, avremo che le stringhe vengono concatenate mentre i valori numerici vengono tra loro sommati."
   ]
  },
  {
   "cell_type": "code",
   "execution_count": null,
   "id": "95b7e709-4b7c-4144-a8d9-1c82bd3b5744",
   "metadata": {},
   "outputs": [],
   "source": []
  },
  {
   "cell_type": "code",
   "execution_count": 54,
   "id": "19e72749-82fa-4c84-9b50-2625ce6e85fc",
   "metadata": {},
   "outputs": [],
   "source": [
    "#student1_series/3\n",
    "# Nel caso di name e major abbiamo una stringa che divide lo scalare 3 ==> Otterremo un errore"
   ]
  },
  {
   "cell_type": "code",
   "execution_count": null,
   "id": "d7fd2b8b-1f65-4540-9dec-3cdd46c0d58f",
   "metadata": {},
   "outputs": [],
   "source": []
  },
  {
   "cell_type": "code",
   "execution_count": 55,
   "id": "e2b4ef53-d71f-4ca1-b4e2-56d3a564621d",
   "metadata": {},
   "outputs": [],
   "source": [
    "# CONSIDERIAMO ORA DUE SERIES AVENTI CHIAVI DIVERSE E SOMMIAMOLE"
   ]
  },
  {
   "cell_type": "code",
   "execution_count": null,
   "id": "eaddace0-6c3b-498f-952d-506bbaf92d3e",
   "metadata": {},
   "outputs": [],
   "source": []
  },
  {
   "cell_type": "code",
   "execution_count": 94,
   "id": "6637dbbc-301a-46ef-a6eb-edeef9686264",
   "metadata": {},
   "outputs": [],
   "source": [
    "student1 = {\n",
    "    \"name\": \"John Doe\",\n",
    "    \"age\": 20,\n",
    "    \"major\": \"Computer Science\"\n",
    "}\n",
    "\n",
    "student2 = {\n",
    "    \"name\": \"Jack Bauer\",\n",
    "    \"age\": 44,\n",
    "    \"major\": \"Machine learning\",\n",
    "    \"stip_mensile\":0,\n",
    "    \"lavoro_prob\": 8\n",
    "}\n"
   ]
  },
  {
   "cell_type": "code",
   "execution_count": 96,
   "id": "752e78c8-08db-4d9a-81ea-07f87cef9cd6",
   "metadata": {},
   "outputs": [],
   "source": [
    "student1_series = pd.Series(student1)\n",
    "student2_series = pd.Series(student2)"
   ]
  },
  {
   "cell_type": "code",
   "execution_count": 97,
   "id": "4734148c-9196-4e8a-a636-7deafa0e4c1c",
   "metadata": {},
   "outputs": [
    {
     "data": {
      "text/plain": [
       "name             John Doe\n",
       "age                    20\n",
       "major    Computer Science\n",
       "dtype: object"
      ]
     },
     "execution_count": 97,
     "metadata": {},
     "output_type": "execute_result"
    }
   ],
   "source": [
    "student1_series "
   ]
  },
  {
   "cell_type": "code",
   "execution_count": 98,
   "id": "74f8a13e-6a06-426d-9d16-32e7fb8ccfd7",
   "metadata": {},
   "outputs": [
    {
     "data": {
      "text/plain": [
       "name                  Jack Bauer\n",
       "age                           44\n",
       "major           Machine learning\n",
       "stip_mensile                   0\n",
       "lavoro_prob                    8\n",
       "dtype: object"
      ]
     },
     "execution_count": 98,
     "metadata": {},
     "output_type": "execute_result"
    }
   ],
   "source": [
    "student2_series "
   ]
  },
  {
   "cell_type": "code",
   "execution_count": 99,
   "id": "c7aaa8ec-9497-42c6-9a06-f82ad328c58a",
   "metadata": {},
   "outputs": [
    {
     "data": {
      "text/plain": [
       "age                                           64\n",
       "lavoro_prob                                  NaN\n",
       "major           Computer ScienceMachine learning\n",
       "name                          John DoeJack Bauer\n",
       "stip_mensile                                 NaN\n",
       "dtype: object"
      ]
     },
     "execution_count": 99,
     "metadata": {},
     "output_type": "execute_result"
    }
   ],
   "source": [
    "student1_series + student2_series "
   ]
  },
  {
   "cell_type": "code",
   "execution_count": null,
   "id": "3cbcf7a3-4a58-428a-8bea-a90da813d9d3",
   "metadata": {},
   "outputs": [],
   "source": []
  },
  {
   "cell_type": "code",
   "execution_count": null,
   "id": "c444e109-e8cb-4a00-807b-6a98f5efa084",
   "metadata": {},
   "outputs": [],
   "source": [
    "# Vengono sommati solo i valori rispettivi alle chiavi presenti sia in student1_series sia in student2_series.\n",
    "# Le chiavi che non si trovano in entrambe le liste avranno un valori corrispondente pari a NaN (Not a Number)"
   ]
  },
  {
   "cell_type": "code",
   "execution_count": 63,
   "id": "53c2bee2-a3de-4dd4-b31d-d5166399db77",
   "metadata": {},
   "outputs": [],
   "source": [
    "# Se abbiamo un NaN, quindi, la chiave corrispondende NON si trova in entrambe le Series."
   ]
  },
  {
   "cell_type": "code",
   "execution_count": null,
   "id": "83dc7c9e-4baf-44c7-b4c9-86455e3d6368",
   "metadata": {},
   "outputs": [],
   "source": []
  },
  {
   "cell_type": "code",
   "execution_count": null,
   "id": "06704c60-4c17-4a7d-89d0-d6ba083a97ce",
   "metadata": {},
   "outputs": [],
   "source": [
    "# Se i NaN non ci piacciono, possiamo sostituirli con un valore a piacere. Per farlo, dobbiamo sommare le due Series tramite il metodo add, e NON\n",
    "# tramite il simbolo +. Vediamo quindi come fare"
   ]
  },
  {
   "cell_type": "code",
   "execution_count": null,
   "id": "51fd27d5-34c4-4de2-8738-0fba99db7bda",
   "metadata": {},
   "outputs": [],
   "source": []
  },
  {
   "cell_type": "code",
   "execution_count": 102,
   "id": "397309a5-0774-4bf4-bf47-76cfb119dcbb",
   "metadata": {},
   "outputs": [
    {
     "data": {
      "text/plain": [
       "age                                           64\n",
       "lavoro_prob                                   11\n",
       "major           Computer ScienceMachine learning\n",
       "name                          John DoeJack Bauer\n",
       "stip_mensile                                   3\n",
       "dtype: object"
      ]
     },
     "execution_count": 102,
     "metadata": {},
     "output_type": "execute_result"
    }
   ],
   "source": [
    "student1_series.add(student2_series,fill_value=3) # Non possiamo inserire una stringa come valore di fill_value perché alcuni argomenti\n",
    "# sono numeri ==> Un numero sommato ad una stringa genera un errore."
   ]
  },
  {
   "cell_type": "code",
   "execution_count": null,
   "id": "37804883-347a-4291-9a9b-ccdba923e3c7",
   "metadata": {},
   "outputs": [],
   "source": []
  },
  {
   "cell_type": "code",
   "execution_count": null,
   "id": "824e007e-a92c-4089-9653-c4753e27b343",
   "metadata": {},
   "outputs": [],
   "source": [
    "# Questo significa che, tramite l'aggiunta del parametro fill_value, viene considerato il valore delle chiavi che si trovano in una sola series,\n",
    "# e tale valore viene sommato al valore specificato nel \"fill_value\"."
   ]
  },
  {
   "cell_type": "code",
   "execution_count": null,
   "id": "ac7aed4e-e722-4aa5-ad71-a22a7c180ea2",
   "metadata": {},
   "outputs": [],
   "source": []
  },
  {
   "cell_type": "code",
   "execution_count": 108,
   "id": "71ff669b-8b2a-4cab-879c-c910722282df",
   "metadata": {},
   "outputs": [],
   "source": [
    "# CONSIDERIAMO ORA DUE SERIES NUMERICHE, FORMATE DA TUTTI INT. FACCIAMO SI CHE IN d2 CI SIA UNA COPPIA CHIAVE-VALORE NON PRESENTE IN d1"
   ]
  },
  {
   "cell_type": "code",
   "execution_count": null,
   "id": "7cba0419-3ed9-460e-9e45-de091552ccbe",
   "metadata": {},
   "outputs": [],
   "source": []
  },
  {
   "cell_type": "code",
   "execution_count": 118,
   "id": "f0a7f5e8-ed46-4197-809b-b78bc4d14da5",
   "metadata": {},
   "outputs": [
    {
     "data": {
      "text/plain": [
       "{'A': 12, 'B': 2, 'C': 44}"
      ]
     },
     "execution_count": 118,
     "metadata": {},
     "output_type": "execute_result"
    }
   ],
   "source": [
    "d1 = {\"A\":12,\"B\":2,\"C\":44}\n",
    "d1"
   ]
  },
  {
   "cell_type": "code",
   "execution_count": 119,
   "id": "f4a523fb-5452-479b-9f2b-44261439e30e",
   "metadata": {},
   "outputs": [
    {
     "data": {
      "text/plain": [
       "{'A': 7, 'B': 10, 'C': 1, 'D': 16}"
      ]
     },
     "execution_count": 119,
     "metadata": {},
     "output_type": "execute_result"
    }
   ],
   "source": [
    "d2 = {\"A\":7,\"B\":10,\"C\":1,\"D\":16}\n",
    "d2"
   ]
  },
  {
   "cell_type": "code",
   "execution_count": null,
   "id": "530a850f-cbf6-4063-b217-3d0b0f2a28fa",
   "metadata": {},
   "outputs": [],
   "source": []
  },
  {
   "cell_type": "code",
   "execution_count": 120,
   "id": "04519699-4ede-42a2-ab19-131733d20c75",
   "metadata": {},
   "outputs": [
    {
     "data": {
      "text/plain": [
       "A    12\n",
       "B     2\n",
       "C    44\n",
       "dtype: int64"
      ]
     },
     "execution_count": 120,
     "metadata": {},
     "output_type": "execute_result"
    }
   ],
   "source": [
    "d1_series = pd.Series(d1)\n",
    "d1_series"
   ]
  },
  {
   "cell_type": "code",
   "execution_count": 121,
   "id": "9cf2ca95-35ba-49d0-a17e-499c6b433232",
   "metadata": {},
   "outputs": [
    {
     "data": {
      "text/plain": [
       "A     7\n",
       "B    10\n",
       "C     1\n",
       "D    16\n",
       "dtype: int64"
      ]
     },
     "execution_count": 121,
     "metadata": {},
     "output_type": "execute_result"
    }
   ],
   "source": [
    "d2_series = pd.Series(d2)\n",
    "d2_series"
   ]
  },
  {
   "cell_type": "code",
   "execution_count": null,
   "id": "a0ecb13a-6f5a-4bea-931e-d6ce07ae0372",
   "metadata": {},
   "outputs": [],
   "source": []
  },
  {
   "cell_type": "code",
   "execution_count": 114,
   "id": "334fbd1f-39da-4f63-83b1-bdd41cdfd3b2",
   "metadata": {},
   "outputs": [
    {
     "data": {
      "text/plain": [
       "dtype('int64')"
      ]
     },
     "execution_count": 114,
     "metadata": {},
     "output_type": "execute_result"
    }
   ],
   "source": [
    "d1_series.dtype"
   ]
  },
  {
   "cell_type": "code",
   "execution_count": 115,
   "id": "0a7f93d4-437f-47a6-a51b-d89a1bd9a468",
   "metadata": {},
   "outputs": [
    {
     "data": {
      "text/plain": [
       "dtype('int64')"
      ]
     },
     "execution_count": 115,
     "metadata": {},
     "output_type": "execute_result"
    }
   ],
   "source": [
    "d2_series.dtype"
   ]
  },
  {
   "cell_type": "code",
   "execution_count": null,
   "id": "7e7543a9-c4f8-4c74-9391-2b4b731e6b7b",
   "metadata": {},
   "outputs": [],
   "source": []
  },
  {
   "cell_type": "code",
   "execution_count": 124,
   "id": "1c9666ba-5ede-4030-a7e8-4c2055e5e548",
   "metadata": {},
   "outputs": [
    {
     "data": {
      "text/plain": [
       "A    19.0\n",
       "B    12.0\n",
       "C    45.0\n",
       "D     NaN\n",
       "dtype: float64"
      ]
     },
     "execution_count": 124,
     "metadata": {},
     "output_type": "execute_result"
    }
   ],
   "source": [
    "sumd1d2 = d1_series+d2_series\n",
    "sumd1d2"
   ]
  },
  {
   "cell_type": "code",
   "execution_count": 125,
   "id": "b018f9b0-a634-48ad-b9d8-a95bbe249fe8",
   "metadata": {},
   "outputs": [
    {
     "data": {
      "text/plain": [
       "dtype('float64')"
      ]
     },
     "execution_count": 125,
     "metadata": {},
     "output_type": "execute_result"
    }
   ],
   "source": [
    "sumd1d2.dtype"
   ]
  },
  {
   "cell_type": "code",
   "execution_count": null,
   "id": "dcfb0711-f850-4534-ba7e-35b9e1942f3d",
   "metadata": {},
   "outputs": [],
   "source": [
    "# ATTENZIONE!! NONOSTANTE LE DUE SERIES DI PARTENZA FOSSERO DI TIPO INT64, LA LORO SOMMA E' COMPOSTA DA ELEMENTI DI TIPO FLOAT64!"
   ]
  },
  {
   "cell_type": "code",
   "execution_count": 126,
   "id": "61c86dea-9a5e-4c1a-8ce8-b0785d69b46b",
   "metadata": {},
   "outputs": [],
   "source": [
    "# COSA SUCCEDE SE SOMMIAMO ENTRAMBE LE SERIES TRAMITE LA FUNZIONE ADD?"
   ]
  },
  {
   "cell_type": "code",
   "execution_count": null,
   "id": "0255c382-e36d-48b4-9cbc-edadb2a1fb6e",
   "metadata": {},
   "outputs": [],
   "source": []
  },
  {
   "cell_type": "code",
   "execution_count": 129,
   "id": "7b19d21a-7eb0-4396-a127-042cc3c78a69",
   "metadata": {},
   "outputs": [
    {
     "data": {
      "text/plain": [
       "A    19.0\n",
       "B    12.0\n",
       "C    45.0\n",
       "D    18.0\n",
       "dtype: float64"
      ]
     },
     "execution_count": 129,
     "metadata": {},
     "output_type": "execute_result"
    }
   ],
   "source": [
    "sommaConAdd = d1_series.add(d2_series, fill_value=2)\n",
    "sommaConAdd"
   ]
  },
  {
   "cell_type": "code",
   "execution_count": 131,
   "id": "0364c616-c49d-481c-aeac-019bcaa22de2",
   "metadata": {},
   "outputs": [
    {
     "data": {
      "text/plain": [
       "dtype('float64')"
      ]
     },
     "execution_count": 131,
     "metadata": {},
     "output_type": "execute_result"
    }
   ],
   "source": [
    "sommaConAdd.dtype"
   ]
  },
  {
   "cell_type": "code",
   "execution_count": null,
   "id": "df714449-98ee-4046-9a12-3f04f191cc74",
   "metadata": {},
   "outputs": [],
   "source": [
    "# STESSO RISULTATO DI PRIMA. LA TIPOLOGIA DELLA SOMMA DEI VALORI E' FLOAT64, NONOSTANTE I DUE VALORI DI PARTENZA FOSSERO INT64."
   ]
  },
  {
   "cell_type": "code",
   "execution_count": null,
   "id": "8d263b19-2935-443d-9cc6-7e076eef3757",
   "metadata": {},
   "outputs": [],
   "source": []
  }
 ],
 "metadata": {
  "kernelspec": {
   "display_name": "Python [conda env:base] *",
   "language": "python",
   "name": "conda-base-py"
  },
  "language_info": {
   "codemirror_mode": {
    "name": "ipython",
    "version": 3
   },
   "file_extension": ".py",
   "mimetype": "text/x-python",
   "name": "python",
   "nbconvert_exporter": "python",
   "pygments_lexer": "ipython3",
   "version": "3.12.7"
  }
 },
 "nbformat": 4,
 "nbformat_minor": 5
}
