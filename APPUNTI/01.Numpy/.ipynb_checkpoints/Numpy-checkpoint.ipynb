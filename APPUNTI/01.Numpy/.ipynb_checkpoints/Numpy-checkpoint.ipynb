{
 "cells": [
  {
   "cell_type": "raw",
   "id": "6c85fa3a-fc8a-477d-ba63-605770e70042",
   "metadata": {},
   "source": [
    "NUMPY\n",
    "\n",
    "Numpy è una libreria di python che ci permette di creare arrasy n dimensionali.\n",
    "Quindi, questi array possono essere unidimensionali (vettori), bidimensionali (matrici), tridimensionali etc"
   ]
  },
  {
   "cell_type": "code",
   "execution_count": 41,
   "id": "a8194dea-7f06-437f-80a9-39072dad26fa",
   "metadata": {},
   "outputs": [],
   "source": [
    "# Come creare un numpy array: 1. Trasformando una lista di python base    2.Usare una funzione built-in       3. Generando numeri casuali"
   ]
  },
  {
   "cell_type": "code",
   "execution_count": null,
   "id": "15dba945-ffc7-486a-b4f2-afd4490d25ce",
   "metadata": {},
   "outputs": [],
   "source": []
  },
  {
   "cell_type": "code",
   "execution_count": 2,
   "id": "1c5c735a-410d-419e-a42e-9d0f186695a0",
   "metadata": {},
   "outputs": [],
   "source": [
    "import numpy as np"
   ]
  },
  {
   "cell_type": "code",
   "execution_count": null,
   "id": "6148006c-8e66-41cb-a3ad-9b9cfb673cf9",
   "metadata": {},
   "outputs": [],
   "source": []
  },
  {
   "cell_type": "code",
   "execution_count": 48,
   "id": "24ec623a-df22-4219-b90c-55f417eb56a4",
   "metadata": {},
   "outputs": [],
   "source": [
    "# Creazione numpy array: conversione lista"
   ]
  },
  {
   "cell_type": "code",
   "execution_count": null,
   "id": "2a3fae85-7151-405f-a776-9da528244fed",
   "metadata": {},
   "outputs": [],
   "source": [
    "# Lista unidimensionale"
   ]
  },
  {
   "cell_type": "code",
   "execution_count": 56,
   "id": "ba32175c-b9fe-4f51-bdb1-47e9fdeaa52a",
   "metadata": {},
   "outputs": [
    {
     "data": {
      "text/plain": [
       "[10, 20, 30, 40]"
      ]
     },
     "execution_count": 56,
     "metadata": {},
     "output_type": "execute_result"
    }
   ],
   "source": [
    "lista1 = [10,20,30,40]\n",
    "lista1"
   ]
  },
  {
   "cell_type": "code",
   "execution_count": 58,
   "id": "8f286aca-263f-44c6-9013-e72976f4a18d",
   "metadata": {},
   "outputs": [
    {
     "data": {
      "text/plain": [
       "list"
      ]
     },
     "execution_count": 58,
     "metadata": {},
     "output_type": "execute_result"
    }
   ],
   "source": [
    "type(lista1)"
   ]
  },
  {
   "cell_type": "code",
   "execution_count": 62,
   "id": "a9b0faa2-b5a7-4c14-b91a-887f42d9f5f0",
   "metadata": {},
   "outputs": [
    {
     "data": {
      "text/plain": [
       "array([10, 20, 30, 40])"
      ]
     },
     "execution_count": 62,
     "metadata": {},
     "output_type": "execute_result"
    }
   ],
   "source": [
    "lista1_array= np.array(lista1)\n",
    "lista1_array"
   ]
  },
  {
   "cell_type": "code",
   "execution_count": 66,
   "id": "2c396016-2392-449a-ab59-5f102f4bc964",
   "metadata": {},
   "outputs": [
    {
     "data": {
      "text/plain": [
       "numpy.ndarray"
      ]
     },
     "execution_count": 66,
     "metadata": {},
     "output_type": "execute_result"
    }
   ],
   "source": [
    "type(lista1_array)"
   ]
  },
  {
   "cell_type": "code",
   "execution_count": null,
   "id": "7bb05296-dea3-428f-a527-72ba0f7f78ff",
   "metadata": {},
   "outputs": [],
   "source": [
    "# Lista bidimensionale"
   ]
  },
  {
   "cell_type": "code",
   "execution_count": 68,
   "id": "4401de83-521d-4fcf-a481-a240daa1786c",
   "metadata": {},
   "outputs": [
    {
     "data": {
      "text/plain": [
       "[[7, 10, 4], [40, 50, 60], [70, 80, 90], [32, 11, 32]]"
      ]
     },
     "execution_count": 68,
     "metadata": {},
     "output_type": "execute_result"
    }
   ],
   "source": [
    "lista2 = [[7,10,4],\n",
    "         [40,50,60],\n",
    "         [70,80,90],\n",
    "         [32,11,32]]\n",
    "lista2"
   ]
  },
  {
   "cell_type": "code",
   "execution_count": 70,
   "id": "b6528e79-3151-4178-b1e8-c0efcf122c97",
   "metadata": {},
   "outputs": [
    {
     "data": {
      "text/plain": [
       "list"
      ]
     },
     "execution_count": 70,
     "metadata": {},
     "output_type": "execute_result"
    }
   ],
   "source": [
    "type(lista2)"
   ]
  },
  {
   "cell_type": "code",
   "execution_count": null,
   "id": "31b6adf0-82ae-4c0e-a160-5c8800972edb",
   "metadata": {},
   "outputs": [],
   "source": []
  },
  {
   "cell_type": "code",
   "execution_count": 74,
   "id": "ff62233e-740f-48db-b833-cf5bb0cbc8e4",
   "metadata": {},
   "outputs": [
    {
     "data": {
      "text/plain": [
       "array([[ 7, 10,  4],\n",
       "       [40, 50, 60],\n",
       "       [70, 80, 90],\n",
       "       [32, 11, 32]])"
      ]
     },
     "execution_count": 74,
     "metadata": {},
     "output_type": "execute_result"
    }
   ],
   "source": [
    "lista2_array = np.array(lista2)\n",
    "lista2_array"
   ]
  },
  {
   "cell_type": "code",
   "execution_count": 76,
   "id": "449ff92d-fef2-4d90-94fd-843e6856e435",
   "metadata": {},
   "outputs": [
    {
     "data": {
      "text/plain": [
       "numpy.ndarray"
      ]
     },
     "execution_count": 76,
     "metadata": {},
     "output_type": "execute_result"
    }
   ],
   "source": [
    "type(lista2_array)"
   ]
  },
  {
   "cell_type": "code",
   "execution_count": 78,
   "id": "d92c4d53-8a99-42ac-b0d2-c3d357d3aa12",
   "metadata": {},
   "outputs": [],
   "source": [
    "# Solitamente non si usano l liste per creare array numpy. Vediamo quali built-in function sono più utilizzate"
   ]
  },
  {
   "cell_type": "code",
   "execution_count": 88,
   "id": "3e06f0cd-09eb-4870-a3b5-63718eccc51b",
   "metadata": {},
   "outputs": [],
   "source": [
    "# Funzione arange: Va da n a n-1"
   ]
  },
  {
   "cell_type": "code",
   "execution_count": 82,
   "id": "d1b595a5-ebc2-47ee-ab3c-ef0b491eadb5",
   "metadata": {},
   "outputs": [
    {
     "data": {
      "text/plain": [
       "array([0, 1, 2, 3, 4, 5, 6, 7, 8, 9])"
      ]
     },
     "execution_count": 82,
     "metadata": {},
     "output_type": "execute_result"
    }
   ],
   "source": [
    "array1 = np.arange(10)\n",
    "array1"
   ]
  },
  {
   "cell_type": "code",
   "execution_count": 86,
   "id": "9de80b37-888b-468d-8323-c4d650107525",
   "metadata": {},
   "outputs": [
    {
     "data": {
      "text/plain": [
       "array([4, 5, 6, 7, 8, 9])"
      ]
     },
     "execution_count": 86,
     "metadata": {},
     "output_type": "execute_result"
    }
   ],
   "source": [
    "array2 = np.arange(4,10)\n",
    "array2"
   ]
  },
  {
   "cell_type": "code",
   "execution_count": 92,
   "id": "2407e4b3-128e-4a2c-bd63-7c6ba94d8ef4",
   "metadata": {},
   "outputs": [
    {
     "data": {
      "text/plain": [
       "array([4, 7])"
      ]
     },
     "execution_count": 92,
     "metadata": {},
     "output_type": "execute_result"
    }
   ],
   "source": [
    "array3 = np.arange(4,10,3)\n",
    "array3\n"
   ]
  },
  {
   "cell_type": "code",
   "execution_count": 94,
   "id": "44be5cac-c486-450f-8f18-0a297cd28861",
   "metadata": {},
   "outputs": [],
   "source": [
    "# 10 è escluso. Per includere il 10:"
   ]
  },
  {
   "cell_type": "code",
   "execution_count": 96,
   "id": "ad357ea2-6df9-4bc2-b4a6-e99e3aeb642f",
   "metadata": {},
   "outputs": [
    {
     "data": {
      "text/plain": [
       "array([ 4,  7, 10])"
      ]
     },
     "execution_count": 96,
     "metadata": {},
     "output_type": "execute_result"
    }
   ],
   "source": [
    "array3 = np.arange(4,11,3)\n",
    "array3"
   ]
  },
  {
   "cell_type": "code",
   "execution_count": 98,
   "id": "a5f536e8-ce58-43be-bef3-8b1549d9dcc5",
   "metadata": {},
   "outputs": [],
   "source": [
    "# Funzione zeros: Crea un array di zeri"
   ]
  },
  {
   "cell_type": "code",
   "execution_count": 106,
   "id": "4e75bc86-1bcd-4bc7-a71b-a0210ecae1b8",
   "metadata": {},
   "outputs": [
    {
     "data": {
      "text/plain": [
       "array([0., 0., 0., 0., 0., 0., 0., 0., 0., 0.])"
      ]
     },
     "execution_count": 106,
     "metadata": {},
     "output_type": "execute_result"
    }
   ],
   "source": [
    "zeri1 = np.zeros(10)\n",
    "zeri1   # Crea un vettori che contiene 10 zeri"
   ]
  },
  {
   "cell_type": "code",
   "execution_count": null,
   "id": "5a6831dc-a8b8-49b9-9e14-73fda1abecc2",
   "metadata": {},
   "outputs": [],
   "source": []
  },
  {
   "cell_type": "code",
   "execution_count": 108,
   "id": "75b30b1c-0c3e-44b6-a416-2beda44a5843",
   "metadata": {},
   "outputs": [],
   "source": [
    "# Gli zeri creati finora sono di tipo float. Possiamo far si che siano di tipo integer;"
   ]
  },
  {
   "cell_type": "code",
   "execution_count": null,
   "id": "971fa549-2643-4e98-abfd-628b660245a8",
   "metadata": {},
   "outputs": [],
   "source": []
  },
  {
   "cell_type": "code",
   "execution_count": 110,
   "id": "5db75676-2d92-4145-8ff4-ba9f00834d3d",
   "metadata": {},
   "outputs": [
    {
     "data": {
      "text/plain": [
       "array([0, 0, 0, 0, 0, 0, 0, 0, 0, 0])"
      ]
     },
     "execution_count": 110,
     "metadata": {},
     "output_type": "execute_result"
    }
   ],
   "source": [
    "zeri1 = np.zeros(10,dtype=int)\n",
    "zeri1"
   ]
  },
  {
   "cell_type": "code",
   "execution_count": null,
   "id": "56230aed-6dd7-495d-ad08-534e61d9bca2",
   "metadata": {},
   "outputs": [],
   "source": []
  },
  {
   "cell_type": "code",
   "execution_count": 112,
   "id": "6d1cb289-30bb-4c3d-83cc-2bc80cb1d2f0",
   "metadata": {},
   "outputs": [],
   "source": [
    "# Abbiamo finora creato un array di zeri unidimensionale. Creiamolo ora bidimensionale (matrice)"
   ]
  },
  {
   "cell_type": "code",
   "execution_count": null,
   "id": "dd94e32b-21c4-4b1e-af67-6b1be4960cd7",
   "metadata": {},
   "outputs": [],
   "source": []
  },
  {
   "cell_type": "code",
   "execution_count": 114,
   "id": "69f5f4ca-2ee0-4d88-953d-7e6a54e5b4d2",
   "metadata": {},
   "outputs": [
    {
     "data": {
      "text/plain": [
       "array([[0., 0., 0., 0.],\n",
       "       [0., 0., 0., 0.],\n",
       "       [0., 0., 0., 0.],\n",
       "       [0., 0., 0., 0.],\n",
       "       [0., 0., 0., 0.],\n",
       "       [0., 0., 0., 0.],\n",
       "       [0., 0., 0., 0.],\n",
       "       [0., 0., 0., 0.],\n",
       "       [0., 0., 0., 0.],\n",
       "       [0., 0., 0., 0.]])"
      ]
     },
     "execution_count": 114,
     "metadata": {},
     "output_type": "execute_result"
    }
   ],
   "source": [
    "zeri2_2D = np.zeros((10,4))\n",
    "zeri2_2D"
   ]
  },
  {
   "cell_type": "code",
   "execution_count": null,
   "id": "2e3ccbc3-5095-46c7-b2cb-9e181e9b561b",
   "metadata": {},
   "outputs": [],
   "source": []
  },
  {
   "cell_type": "code",
   "execution_count": null,
   "id": "e4a93841-ee84-4d80-8bbe-487c01dc0e1d",
   "metadata": {},
   "outputs": [],
   "source": [
    "# Abbiamo così creato una matrice composta da 10 righe e 4 colonne."
   ]
  },
  {
   "cell_type": "code",
   "execution_count": null,
   "id": "2d4e7488-4bc6-49e9-845c-450b223482aa",
   "metadata": {},
   "outputs": [],
   "source": [
    "# Come al solito gli zeri sono di tipo float. Modifichiamoli e facciamoli diventare di tipo int"
   ]
  },
  {
   "cell_type": "code",
   "execution_count": 118,
   "id": "13d54acd-10da-4085-a06b-b867def121b0",
   "metadata": {},
   "outputs": [
    {
     "data": {
      "text/plain": [
       "array([[0, 0, 0, 0],\n",
       "       [0, 0, 0, 0],\n",
       "       [0, 0, 0, 0],\n",
       "       [0, 0, 0, 0],\n",
       "       [0, 0, 0, 0],\n",
       "       [0, 0, 0, 0],\n",
       "       [0, 0, 0, 0],\n",
       "       [0, 0, 0, 0],\n",
       "       [0, 0, 0, 0],\n",
       "       [0, 0, 0, 0]])"
      ]
     },
     "execution_count": 118,
     "metadata": {},
     "output_type": "execute_result"
    }
   ],
   "source": [
    "zeri2_2D_int = np.zeros((10,4),dtype=int)\n",
    "zeri2_2D_int"
   ]
  },
  {
   "cell_type": "code",
   "execution_count": null,
   "id": "1f075b29-c3c5-4051-b828-a44d4e2f355a",
   "metadata": {},
   "outputs": [],
   "source": []
  },
  {
   "cell_type": "code",
   "execution_count": 120,
   "id": "f1972710-3dfc-4e8e-a38d-6307c5bc026b",
   "metadata": {},
   "outputs": [],
   "source": [
    "# np.ones. Funziona allo stesso modo di np.zeros, ma crea vettori o matrici comoste da tutti 1 invece che 0"
   ]
  },
  {
   "cell_type": "code",
   "execution_count": null,
   "id": "0b1286ab-4d10-42ea-984a-df66694c611e",
   "metadata": {},
   "outputs": [],
   "source": []
  },
  {
   "cell_type": "code",
   "execution_count": 124,
   "id": "f87b7131-0bb0-41a0-98cf-6b120ab96632",
   "metadata": {},
   "outputs": [
    {
     "data": {
      "text/plain": [
       "array([[1, 1, 1],\n",
       "       [1, 1, 1],\n",
       "       [1, 1, 1],\n",
       "       [1, 1, 1],\n",
       "       [1, 1, 1],\n",
       "       [1, 1, 1],\n",
       "       [1, 1, 1],\n",
       "       [1, 1, 1],\n",
       "       [1, 1, 1],\n",
       "       [1, 1, 1]])"
      ]
     },
     "execution_count": 124,
     "metadata": {},
     "output_type": "execute_result"
    }
   ],
   "source": [
    "array_2D = np.ones((10,3),dtype = int)\n",
    "array_2D"
   ]
  },
  {
   "cell_type": "code",
   "execution_count": null,
   "id": "af1c8067-db1c-46d2-995c-01d4780328cb",
   "metadata": {},
   "outputs": [],
   "source": []
  },
  {
   "cell_type": "code",
   "execution_count": 126,
   "id": "d8a7a942-797f-4e16-8866-b9d36ef3e859",
   "metadata": {},
   "outputs": [],
   "source": [
    "# linspace. Si definisce un range di numeri, e poi il numero di numeri necessari per raggiungere l'estremo superiore (ricordiamo che è escluso)"
   ]
  },
  {
   "cell_type": "code",
   "execution_count": 132,
   "id": "07860320-e05e-4d23-bbb6-bf9f37073f00",
   "metadata": {},
   "outputs": [
    {
     "data": {
      "text/plain": [
       "array([ 2.        ,  4.33333333,  6.66666667,  9.        , 11.33333333,\n",
       "       13.66666667, 16.        , 18.33333333, 20.66666667, 23.        ])"
      ]
     },
     "execution_count": 132,
     "metadata": {},
     "output_type": "execute_result"
    }
   ],
   "source": [
    "array1 = np.linspace(2,23,10)\n",
    "array1"
   ]
  },
  {
   "cell_type": "code",
   "execution_count": null,
   "id": "7f63316e-c1bf-4cdf-b8ec-156447754ac3",
   "metadata": {},
   "outputs": [],
   "source": []
  },
  {
   "cell_type": "code",
   "execution_count": 134,
   "id": "229eeb27-74d1-4940-bdb8-adcad1682a2f",
   "metadata": {},
   "outputs": [],
   "source": [
    "# Creazione matrice diagonale tramite metodo eye. Ovviamente la matrice deve essere quadrata"
   ]
  },
  {
   "cell_type": "code",
   "execution_count": 140,
   "id": "673d8edb-21ba-47d3-8b4d-96da346059b8",
   "metadata": {},
   "outputs": [
    {
     "data": {
      "text/plain": [
       "array([[1., 0., 0., 0., 0.],\n",
       "       [0., 1., 0., 0., 0.],\n",
       "       [0., 0., 1., 0., 0.],\n",
       "       [0., 0., 0., 1., 0.],\n",
       "       [0., 0., 0., 0., 1.]])"
      ]
     },
     "execution_count": 140,
     "metadata": {},
     "output_type": "execute_result"
    }
   ],
   "source": [
    "matrix_1 = np.eye(5,5)\n",
    "matrix_1"
   ]
  },
  {
   "cell_type": "code",
   "execution_count": null,
   "id": "3ecd9a59-2fac-428c-a392-3003109beaf9",
   "metadata": {},
   "outputs": [],
   "source": []
  },
  {
   "cell_type": "code",
   "execution_count": null,
   "id": "ac4b182c-0577-44dd-b119-1dcd304835d8",
   "metadata": {},
   "outputs": [],
   "source": [
    "# Se la matrice NON è quadrata esce fuori una schifezza"
   ]
  },
  {
   "cell_type": "code",
   "execution_count": 142,
   "id": "5b8e6783-e13b-44fa-97e3-41177dba806f",
   "metadata": {},
   "outputs": [
    {
     "data": {
      "text/plain": [
       "array([[1., 0.],\n",
       "       [0., 1.],\n",
       "       [0., 0.],\n",
       "       [0., 0.],\n",
       "       [0., 0.]])"
      ]
     },
     "execution_count": 142,
     "metadata": {},
     "output_type": "execute_result"
    }
   ],
   "source": [
    "matrix_1 = np.eye(5,2)\n",
    "matrix_1"
   ]
  },
  {
   "cell_type": "code",
   "execution_count": null,
   "id": "a8e033e6-4a9c-4b59-9cd4-2520a910694f",
   "metadata": {},
   "outputs": [],
   "source": []
  },
  {
   "cell_type": "code",
   "execution_count": 146,
   "id": "fe4edfe2-8256-4a08-a317-70d68df76658",
   "metadata": {},
   "outputs": [],
   "source": [
    "# RANDOM"
   ]
  },
  {
   "cell_type": "code",
   "execution_count": null,
   "id": "e6a052df-d918-4c67-a36f-505f412565c2",
   "metadata": {},
   "outputs": [],
   "source": []
  },
  {
   "cell_type": "code",
   "execution_count": null,
   "id": "66f91ee5-c34b-430b-8469-a82418bf6806",
   "metadata": {},
   "outputs": [],
   "source": [
    "#random.rand. crea un vettore o una matrice avente numeri casuali tra 0 (incluso) e 1 (escluso) in base alla distribuzione uniforme"
   ]
  },
  {
   "cell_type": "code",
   "execution_count": null,
   "id": "2d32350e-2cde-4677-8cad-8950fe9361a8",
   "metadata": {},
   "outputs": [],
   "source": []
  },
  {
   "cell_type": "code",
   "execution_count": 201,
   "id": "2bde678c-f0b3-44ae-9761-4f15a8cd9ff1",
   "metadata": {},
   "outputs": [
    {
     "data": {
      "text/plain": [
       "array([[0.40645405, 0.0400123 , 0.40629821],\n",
       "       [0.62661872, 0.87756145, 0.029362  ],\n",
       "       [0.7429437 , 0.02106979, 0.92164692],\n",
       "       [0.69579633, 0.61309203, 0.23258651]])"
      ]
     },
     "execution_count": 201,
     "metadata": {},
     "output_type": "execute_result"
    }
   ],
   "source": [
    "matrix_1 = np.random.rand(4,3)\n",
    "matrix_1  #Matrice 4 righe e 3 colonne"
   ]
  },
  {
   "cell_type": "code",
   "execution_count": null,
   "id": "b87ddf6e-a7b3-40bc-ac56-dcfef8fcc53d",
   "metadata": {},
   "outputs": [],
   "source": []
  },
  {
   "cell_type": "code",
   "execution_count": 203,
   "id": "a8c321f6-e6bc-4e3d-90f2-eb84aa6becb6",
   "metadata": {},
   "outputs": [],
   "source": [
    "# La distribuzione uniforme è poco utilizzata. Solitamente si utilizza la distribuzione normale standard, ossia la normale con media 0 e dev standard 1.\n",
    "# Solitamente i valori sono compresi tra -1 e 1, anche se possono capitare valori fuori da questo range.\n",
    "# Si utilizza quindi la funzione np.random.randn"
   ]
  },
  {
   "cell_type": "code",
   "execution_count": null,
   "id": "88bf9f26-1d51-4826-b864-35e3d03379a4",
   "metadata": {},
   "outputs": [],
   "source": []
  },
  {
   "cell_type": "code",
   "execution_count": 225,
   "id": "96420001-f32f-4f1a-84da-89a7013f6fe6",
   "metadata": {},
   "outputs": [
    {
     "data": {
      "text/plain": [
       "array([[-0.18958681, -1.84888103,  0.89045656,  0.64330036],\n",
       "       [ 0.10296012, -0.68038152, -0.98981109,  0.11779583],\n",
       "       [ 1.3208074 , -1.89767408, -0.85488977, -0.28068011]])"
      ]
     },
     "execution_count": 225,
     "metadata": {},
     "output_type": "execute_result"
    }
   ],
   "source": [
    "matrix_1 = np.random.randn(3,4)\n",
    "matrix_1"
   ]
  },
  {
   "cell_type": "code",
   "execution_count": null,
   "id": "ef107673-2fa3-42e7-b3df-0abeab9df77d",
   "metadata": {},
   "outputs": [],
   "source": []
  },
  {
   "cell_type": "code",
   "execution_count": null,
   "id": "9af6d93f-52ef-4dae-88ea-d8e904992478",
   "metadata": {},
   "outputs": [],
   "source": [
    "# RandInt"
   ]
  },
  {
   "cell_type": "code",
   "execution_count": 235,
   "id": "00270dc8-825b-4cc5-9161-0ce3ef2c8252",
   "metadata": {},
   "outputs": [],
   "source": [
    "# Utilizzo di randint per creare un array unidimensionale composto da 16 valori. Ciascun valore sarà un numero intero compreso tra 2 e 10"
   ]
  },
  {
   "cell_type": "code",
   "execution_count": 233,
   "id": "c9891cc8-8364-4aff-a555-eef4140b0117",
   "metadata": {},
   "outputs": [
    {
     "data": {
      "text/plain": [
       "array([3, 9, 6, 5, 7, 7, 7, 6, 6, 9, 2, 9, 8, 2, 3, 4])"
      ]
     },
     "execution_count": 233,
     "metadata": {},
     "output_type": "execute_result"
    }
   ],
   "source": [
    "matrix_1 = np.random.randint(2,10,16)\n",
    "matrix_1"
   ]
  },
  {
   "cell_type": "code",
   "execution_count": null,
   "id": "f8ebe649-1d4c-4ca0-9bfd-ec113c138561",
   "metadata": {},
   "outputs": [],
   "source": [
    "# Utilizzo di randint per creare una matrice avente 5 righe e 4 colonne. Ciascun valore sarà un numero intero compreso tra 2 e 10"
   ]
  },
  {
   "cell_type": "code",
   "execution_count": 243,
   "id": "3065279d-2895-4ce6-bdad-1b1f7e81b539",
   "metadata": {},
   "outputs": [
    {
     "data": {
      "text/plain": [
       "array([[3, 4, 9, 5],\n",
       "       [7, 4, 4, 3],\n",
       "       [2, 9, 7, 6],\n",
       "       [7, 6, 4, 8],\n",
       "       [4, 8, 9, 2]])"
      ]
     },
     "execution_count": 243,
     "metadata": {},
     "output_type": "execute_result"
    }
   ],
   "source": [
    "matrix_2 = np.random.randint(2,10,(5,4))\n",
    "matrix_2"
   ]
  },
  {
   "cell_type": "code",
   "execution_count": null,
   "id": "c9e9a60a-f225-4631-bd14-f3a19edda8d6",
   "metadata": {},
   "outputs": [],
   "source": []
  },
  {
   "cell_type": "code",
   "execution_count": 245,
   "id": "c8d16ce6-ff3a-4ef7-8bcc-1d99a6136cc4",
   "metadata": {},
   "outputs": [],
   "source": [
    "# Ovviamente, ogni volta che eseguiamo riga 243 otterremo risulati diversi. Per far si che ciò non accada, si può impostare un seed"
   ]
  },
  {
   "cell_type": "code",
   "execution_count": 291,
   "id": "1efcfa0e-3c41-4d97-87e6-8f5e5076059a",
   "metadata": {},
   "outputs": [
    {
     "data": {
      "text/plain": [
       "array([[4, 5, 7, 3],\n",
       "       [9, 5, 9, 7],\n",
       "       [7, 9, 4, 6],\n",
       "       [6, 4, 5, 7]])"
      ]
     },
     "execution_count": 291,
     "metadata": {},
     "output_type": "execute_result"
    }
   ],
   "source": [
    "np.random.seed(343)\n",
    "np.random.randint(3,10,(4,4))"
   ]
  },
  {
   "cell_type": "code",
   "execution_count": null,
   "id": "89b3f698-872c-459a-9e88-6f2d432e7e90",
   "metadata": {},
   "outputs": [],
   "source": []
  },
  {
   "cell_type": "code",
   "execution_count": 293,
   "id": "3a846014-5576-4aad-bdc8-046cf3682510",
   "metadata": {},
   "outputs": [],
   "source": [
    "# Eseguendo più volte riga 291 otterremo sempre lo stesso risultato. facciamo una prova senza seed"
   ]
  },
  {
   "cell_type": "code",
   "execution_count": 295,
   "id": "79532365-8dc1-4cd6-917a-0422502b4eef",
   "metadata": {},
   "outputs": [
    {
     "data": {
      "text/plain": [
       "array([[8, 6, 6, 5],\n",
       "       [9, 7, 8, 7],\n",
       "       [5, 6, 7, 5],\n",
       "       [9, 5, 5, 7]])"
      ]
     },
     "execution_count": 295,
     "metadata": {},
     "output_type": "execute_result"
    }
   ],
   "source": [
    "np.random.randint(3,10,(4,4))"
   ]
  },
  {
   "cell_type": "code",
   "execution_count": 297,
   "id": "fe6e34cd-2aa2-4f5f-8ad9-26bc0c100d53",
   "metadata": {},
   "outputs": [
    {
     "data": {
      "text/plain": [
       "array([[7, 3, 9, 8],\n",
       "       [8, 6, 6, 5],\n",
       "       [6, 9, 8, 6],\n",
       "       [3, 6, 5, 9]])"
      ]
     },
     "execution_count": 297,
     "metadata": {},
     "output_type": "execute_result"
    }
   ],
   "source": [
    "np.random.randint(3,10,(4,4))"
   ]
  },
  {
   "cell_type": "code",
   "execution_count": 300,
   "id": "9dc90897-8a4d-4ab3-ac5f-490618b2db34",
   "metadata": {},
   "outputs": [
    {
     "data": {
      "text/plain": [
       "array([[7, 9, 4, 9],\n",
       "       [7, 8, 5, 7],\n",
       "       [7, 5, 4, 5],\n",
       "       [9, 4, 4, 9]])"
      ]
     },
     "execution_count": 300,
     "metadata": {},
     "output_type": "execute_result"
    }
   ],
   "source": [
    "np.random.randint(3,10,(4,4))"
   ]
  },
  {
   "cell_type": "code",
   "execution_count": null,
   "id": "1e64142f-cf03-4f53-9ad7-c9782f682c65",
   "metadata": {},
   "outputs": [],
   "source": []
  },
  {
   "cell_type": "code",
   "execution_count": null,
   "id": "342b6847-49bc-4fe5-a39c-0a6f1269fe3a",
   "metadata": {},
   "outputs": [],
   "source": [
    "# Facciamo ora una prova con seed"
   ]
  },
  {
   "cell_type": "code",
   "execution_count": 302,
   "id": "9e45ad5e-1660-48ad-a7c9-90b44cd9a594",
   "metadata": {},
   "outputs": [
    {
     "data": {
      "text/plain": [
       "array([[4, 5, 7, 3],\n",
       "       [9, 5, 9, 7],\n",
       "       [7, 9, 4, 6],\n",
       "       [6, 4, 5, 7]])"
      ]
     },
     "execution_count": 302,
     "metadata": {},
     "output_type": "execute_result"
    }
   ],
   "source": [
    "np.random.seed(343)\n",
    "np.random.randint(3,10,(4,4))"
   ]
  },
  {
   "cell_type": "code",
   "execution_count": 304,
   "id": "b6e1f437-59f5-4a94-8b54-8daaf3ec6b58",
   "metadata": {},
   "outputs": [
    {
     "data": {
      "text/plain": [
       "array([[4, 5, 7, 3],\n",
       "       [9, 5, 9, 7],\n",
       "       [7, 9, 4, 6],\n",
       "       [6, 4, 5, 7]])"
      ]
     },
     "execution_count": 304,
     "metadata": {},
     "output_type": "execute_result"
    }
   ],
   "source": [
    "np.random.seed(343)\n",
    "np.random.randint(3,10,(4,4))"
   ]
  },
  {
   "cell_type": "code",
   "execution_count": 306,
   "id": "60eb55ed-45f6-4d01-9679-56a43354f57d",
   "metadata": {},
   "outputs": [
    {
     "data": {
      "text/plain": [
       "array([[4, 5, 7, 3],\n",
       "       [9, 5, 9, 7],\n",
       "       [7, 9, 4, 6],\n",
       "       [6, 4, 5, 7]])"
      ]
     },
     "execution_count": 306,
     "metadata": {},
     "output_type": "execute_result"
    }
   ],
   "source": [
    "np.random.seed(343)\n",
    "np.random.randint(3,10,(4,4))"
   ]
  },
  {
   "cell_type": "code",
   "execution_count": null,
   "id": "d495864c-91d3-4f79-bbae-39e5ed7d0fb0",
   "metadata": {},
   "outputs": [],
   "source": []
  },
  {
   "cell_type": "code",
   "execution_count": null,
   "id": "ddc4b439-f4b6-40b8-b48f-8dcc5481f013",
   "metadata": {},
   "outputs": [],
   "source": [
    "# Senza seed i risultati cambiano, con seed non cambiano."
   ]
  },
  {
   "cell_type": "code",
   "execution_count": null,
   "id": "c37d5061-fec5-4eec-b0e9-fe474b85991a",
   "metadata": {},
   "outputs": [],
   "source": []
  },
  {
   "cell_type": "code",
   "execution_count": 308,
   "id": "4fdc6943-0fc6-407a-9382-22d015dba032",
   "metadata": {},
   "outputs": [],
   "source": [
    "# reshape"
   ]
  },
  {
   "cell_type": "code",
   "execution_count": 330,
   "id": "e08d988c-f1ef-4379-8454-52b5f4902bf9",
   "metadata": {},
   "outputs": [
    {
     "data": {
      "text/plain": [
       "array([ 4,  5,  6,  7,  8,  9, 10, 11, 12, 13, 14, 15, 16, 17, 18, 19, 20,\n",
       "       21, 22, 23, 24, 25, 26, 27, 28, 29, 30, 31, 32, 33, 34, 35, 36, 37,\n",
       "       38, 39, 40, 41, 42, 43, 44, 45, 46, 47, 48, 49, 50, 51, 52, 53, 54,\n",
       "       55, 56, 57, 58, 59, 60, 61, 62, 63, 64, 65, 66, 67, 68, 69, 70, 71,\n",
       "       72, 73, 74, 75, 76, 77, 78, 79, 80, 81, 82, 83, 84, 85, 86, 87, 88,\n",
       "       89, 90, 91, 92, 93, 94, 95, 96, 97, 98, 99])"
      ]
     },
     "execution_count": 330,
     "metadata": {},
     "output_type": "execute_result"
    }
   ],
   "source": [
    "arr= np.arange(4,100)\n",
    "arr"
   ]
  },
  {
   "cell_type": "code",
   "execution_count": 320,
   "id": "c817ab1e-45e2-4244-92f5-c59063f894e5",
   "metadata": {},
   "outputs": [],
   "source": [
    "# Il numero di elementi è 100-4 = 96. Possiamo usare la funzione reshape per passarer da un vettore ad una matrice"
   ]
  },
  {
   "cell_type": "code",
   "execution_count": 334,
   "id": "0555d05c-1f64-4d91-9deb-d0fff2cc551b",
   "metadata": {},
   "outputs": [
    {
     "data": {
      "text/plain": [
       "array([[ 4,  5,  6,  7],\n",
       "       [ 8,  9, 10, 11],\n",
       "       [12, 13, 14, 15],\n",
       "       [16, 17, 18, 19],\n",
       "       [20, 21, 22, 23],\n",
       "       [24, 25, 26, 27],\n",
       "       [28, 29, 30, 31],\n",
       "       [32, 33, 34, 35],\n",
       "       [36, 37, 38, 39],\n",
       "       [40, 41, 42, 43],\n",
       "       [44, 45, 46, 47],\n",
       "       [48, 49, 50, 51],\n",
       "       [52, 53, 54, 55],\n",
       "       [56, 57, 58, 59],\n",
       "       [60, 61, 62, 63],\n",
       "       [64, 65, 66, 67],\n",
       "       [68, 69, 70, 71],\n",
       "       [72, 73, 74, 75],\n",
       "       [76, 77, 78, 79],\n",
       "       [80, 81, 82, 83],\n",
       "       [84, 85, 86, 87],\n",
       "       [88, 89, 90, 91],\n",
       "       [92, 93, 94, 95],\n",
       "       [96, 97, 98, 99]])"
      ]
     },
     "execution_count": 334,
     "metadata": {},
     "output_type": "execute_result"
    }
   ],
   "source": [
    "matrix = arr.reshape(24,4)\n",
    "matrix"
   ]
  },
  {
   "cell_type": "code",
   "execution_count": null,
   "id": "d2d0424f-1a15-423e-b62d-07a4dc2e062a",
   "metadata": {},
   "outputs": [],
   "source": []
  },
  {
   "cell_type": "code",
   "execution_count": 338,
   "id": "dc8da849-c7c1-4fde-a435-7ea0b84c234d",
   "metadata": {},
   "outputs": [],
   "source": [
    "# MAX"
   ]
  },
  {
   "cell_type": "code",
   "execution_count": 346,
   "id": "bd415d14-ab57-4063-a7e3-409b20957b43",
   "metadata": {},
   "outputs": [
    {
     "data": {
      "text/plain": [
       "array([4, 5, 6, 4])"
      ]
     },
     "execution_count": 346,
     "metadata": {},
     "output_type": "execute_result"
    }
   ],
   "source": [
    "array_rand = np.random.randint(2,10,4)\n",
    "array_rand"
   ]
  },
  {
   "cell_type": "code",
   "execution_count": null,
   "id": "bd8aeeac-fb54-4a3f-9b69-4f95f9863307",
   "metadata": {},
   "outputs": [],
   "source": []
  },
  {
   "cell_type": "code",
   "execution_count": 360,
   "id": "5160db8a-497e-4013-93c8-e06208bbfeac",
   "metadata": {},
   "outputs": [
    {
     "data": {
      "text/plain": [
       "9"
      ]
     },
     "execution_count": 360,
     "metadata": {},
     "output_type": "execute_result"
    }
   ],
   "source": [
    "massimo = array_rand.max()\n",
    "massimo"
   ]
  },
  {
   "cell_type": "markdown",
   "id": "e0833920-3be9-4ee9-8e20-f550aa6fc571",
   "metadata": {},
   "source": []
  },
  {
   "cell_type": "code",
   "execution_count": 370,
   "id": "07b9f016-c7da-43b3-8400-f0f7f9e826ac",
   "metadata": {},
   "outputs": [
    {
     "data": {
      "text/plain": [
       "array([[10,  8,  7, 12, 11],\n",
       "       [11,  8,  5, 12,  4],\n",
       "       [ 5,  7, 12,  3, 14],\n",
       "       [11,  6,  8, 10,  8]])"
      ]
     },
     "execution_count": 370,
     "metadata": {},
     "output_type": "execute_result"
    }
   ],
   "source": [
    "array_rand_matrix = array_rand = np.random.randint(2,15,(4,5))\n",
    "array_rand_matrix"
   ]
  },
  {
   "cell_type": "code",
   "execution_count": null,
   "id": "5d9cabda-619b-4001-bdec-aaf257726b0d",
   "metadata": {},
   "outputs": [],
   "source": []
  },
  {
   "cell_type": "code",
   "execution_count": 372,
   "id": "15f29e3c-f1e8-4cd4-aa5a-156cc3281d4c",
   "metadata": {},
   "outputs": [
    {
     "data": {
      "text/plain": [
       "14"
      ]
     },
     "execution_count": 372,
     "metadata": {},
     "output_type": "execute_result"
    }
   ],
   "source": [
    "array_rand_matrix.max()"
   ]
  },
  {
   "cell_type": "code",
   "execution_count": 374,
   "id": "06eeddaf-4627-4d57-9d30-5f63f5887d29",
   "metadata": {},
   "outputs": [],
   "source": [
    "# MIN"
   ]
  },
  {
   "cell_type": "code",
   "execution_count": 382,
   "id": "45895fed-97b3-4073-a688-41559dc8e746",
   "metadata": {},
   "outputs": [
    {
     "data": {
      "text/plain": [
       "array([8, 3, 9, 8])"
      ]
     },
     "execution_count": 382,
     "metadata": {},
     "output_type": "execute_result"
    }
   ],
   "source": [
    "array_rand = np.random.randint(2,10,4)\n",
    "array_rand"
   ]
  },
  {
   "cell_type": "code",
   "execution_count": 384,
   "id": "333b04ba-5aab-4ac1-96f2-e5da2f2aa78f",
   "metadata": {},
   "outputs": [
    {
     "data": {
      "text/plain": [
       "3"
      ]
     },
     "execution_count": 384,
     "metadata": {},
     "output_type": "execute_result"
    }
   ],
   "source": [
    "minimo = array_rand.min()\n",
    "minimo"
   ]
  },
  {
   "cell_type": "code",
   "execution_count": null,
   "id": "960e56b1-4950-48a5-8c4a-5fb86c3974f4",
   "metadata": {},
   "outputs": [],
   "source": []
  },
  {
   "cell_type": "code",
   "execution_count": 386,
   "id": "404e286c-afb2-4b11-88c0-99c79d0a094c",
   "metadata": {},
   "outputs": [
    {
     "data": {
      "text/plain": [
       "array([[10,  8,  8,  6, 12],\n",
       "       [ 3,  6, 12, 12,  4],\n",
       "       [12,  5,  7, 14, 12],\n",
       "       [ 2, 11,  2, 12, 11]])"
      ]
     },
     "execution_count": 386,
     "metadata": {},
     "output_type": "execute_result"
    }
   ],
   "source": [
    "array_rand_matrix = array_rand = np.random.randint(2,15,(4,5))\n",
    "array_rand_matrix"
   ]
  },
  {
   "cell_type": "code",
   "execution_count": 388,
   "id": "2c91f213-dded-45eb-b574-c1b1a64813dd",
   "metadata": {},
   "outputs": [
    {
     "data": {
      "text/plain": [
       "2"
      ]
     },
     "execution_count": 388,
     "metadata": {},
     "output_type": "execute_result"
    }
   ],
   "source": [
    "array_rand_matrix.min()"
   ]
  },
  {
   "cell_type": "code",
   "execution_count": null,
   "id": "ec51a712-f1de-4944-9a5c-58d0aed54637",
   "metadata": {},
   "outputs": [],
   "source": []
  },
  {
   "cell_type": "code",
   "execution_count": null,
   "id": "4f005332-8cf4-4b76-b475-d30a3c259211",
   "metadata": {},
   "outputs": [],
   "source": [
    "# Per sapere la posizione nella quale si trova il numero massimo si usa argmax, per sapere dove si trova il minimo si usa argmin"
   ]
  },
  {
   "cell_type": "code",
   "execution_count": null,
   "id": "a5f60b4d-51d2-431b-bb35-4e736c8ad852",
   "metadata": {},
   "outputs": [],
   "source": []
  },
  {
   "cell_type": "code",
   "execution_count": 414,
   "id": "fcb6e669-a847-4950-ac72-159021106d4e",
   "metadata": {},
   "outputs": [
    {
     "data": {
      "text/plain": [
       "array([3, 4, 3, 9])"
      ]
     },
     "execution_count": 414,
     "metadata": {},
     "output_type": "execute_result"
    }
   ],
   "source": [
    "array_rand = np.random.randint(2,10,4)\n",
    "array_rand"
   ]
  },
  {
   "cell_type": "code",
   "execution_count": null,
   "id": "e1af228f-4d72-4416-b0fc-e7a315111794",
   "metadata": {},
   "outputs": [],
   "source": []
  },
  {
   "cell_type": "code",
   "execution_count": 416,
   "id": "be946070-7c39-47a4-841b-663c16ed157c",
   "metadata": {},
   "outputs": [
    {
     "data": {
      "text/plain": [
       "3"
      ]
     },
     "execution_count": 416,
     "metadata": {},
     "output_type": "execute_result"
    }
   ],
   "source": [
    "array_rand.argmax()"
   ]
  },
  {
   "cell_type": "code",
   "execution_count": null,
   "id": "408f36d9-ddd8-4587-8978-685aea4ec0a0",
   "metadata": {},
   "outputs": [],
   "source": []
  },
  {
   "cell_type": "code",
   "execution_count": 420,
   "id": "40ac4b31-54cc-48aa-a5c6-575950efa066",
   "metadata": {},
   "outputs": [
    {
     "data": {
      "text/plain": [
       "0"
      ]
     },
     "execution_count": 420,
     "metadata": {},
     "output_type": "execute_result"
    }
   ],
   "source": [
    "array_rand.argmin()"
   ]
  },
  {
   "cell_type": "code",
   "execution_count": 422,
   "id": "e7cc95bb-e4e6-4c40-89c9-9792bb92c04b",
   "metadata": {},
   "outputs": [],
   "source": [
    "# dtype e shape"
   ]
  },
  {
   "cell_type": "code",
   "execution_count": null,
   "id": "0d098236-3e3b-4146-9049-fc509e6b917f",
   "metadata": {},
   "outputs": [],
   "source": []
  },
  {
   "cell_type": "code",
   "execution_count": null,
   "id": "0767452f-6a22-44e8-8618-16b3a47f0d32",
   "metadata": {},
   "outputs": [],
   "source": [
    "# dtype"
   ]
  },
  {
   "cell_type": "code",
   "execution_count": 428,
   "id": "56915ed3-9186-4d7b-a1d5-0cbd31c15474",
   "metadata": {},
   "outputs": [
    {
     "data": {
      "text/plain": [
       "array([8, 9, 6, 5])"
      ]
     },
     "execution_count": 428,
     "metadata": {},
     "output_type": "execute_result"
    }
   ],
   "source": [
    "array_rand = np.random.randint(2,10,4)\n",
    "array_rand"
   ]
  },
  {
   "cell_type": "code",
   "execution_count": 432,
   "id": "634435e5-e97f-4d1a-8954-2857adb19ed2",
   "metadata": {},
   "outputs": [
    {
     "data": {
      "text/plain": [
       "(4,)"
      ]
     },
     "execution_count": 432,
     "metadata": {},
     "output_type": "execute_result"
    }
   ],
   "source": [
    "array_rand.shape  # 1 riga, 4 colonne, ossia un vettore formato da 4 elementi"
   ]
  },
  {
   "cell_type": "code",
   "execution_count": 434,
   "id": "27c9c2e1-9752-43e8-a3d7-656859499835",
   "metadata": {},
   "outputs": [
    {
     "data": {
      "text/plain": [
       "dtype('int32')"
      ]
     },
     "execution_count": 434,
     "metadata": {},
     "output_type": "execute_result"
    }
   ],
   "source": [
    "array_rand.dtype # I valori sono tutti int32"
   ]
  },
  {
   "cell_type": "code",
   "execution_count": null,
   "id": "fc039b91-69ea-471d-b03b-0c57535ead2b",
   "metadata": {},
   "outputs": [],
   "source": []
  },
  {
   "cell_type": "code",
   "execution_count": null,
   "id": "314d1bb5-bcc0-4c0e-a8cc-4db2b3f9606c",
   "metadata": {},
   "outputs": [],
   "source": [
    "# SELEZIONARE UN SINGOLO VALORE DA UN ARRAY UNIDIMENSIONALE"
   ]
  },
  {
   "cell_type": "code",
   "execution_count": null,
   "id": "3c852ded-8d8d-4524-b3e7-8beda77e1288",
   "metadata": {},
   "outputs": [],
   "source": []
  },
  {
   "cell_type": "code",
   "execution_count": 113,
   "id": "af7a3480-0edc-4e71-ad4a-652428236334",
   "metadata": {},
   "outputs": [
    {
     "data": {
      "text/plain": [
       "array([10,  8, 17,  7, 13,  5, 14,  6, 13, 10])"
      ]
     },
     "execution_count": 113,
     "metadata": {},
     "output_type": "execute_result"
    }
   ],
   "source": [
    "np.random.seed(29)\n",
    "arr1 = np.random.randint(5,18,10)\n",
    "arr1"
   ]
  },
  {
   "cell_type": "code",
   "execution_count": null,
   "id": "855c0c07-68dc-40c4-8342-222736b6a504",
   "metadata": {},
   "outputs": [],
   "source": []
  },
  {
   "cell_type": "code",
   "execution_count": 115,
   "id": "97ee8d15-b77e-4c9e-ae6f-8f59bb87e83d",
   "metadata": {},
   "outputs": [
    {
     "data": {
      "text/plain": [
       "17"
      ]
     },
     "execution_count": 115,
     "metadata": {},
     "output_type": "execute_result"
    }
   ],
   "source": [
    "arr1[2]"
   ]
  },
  {
   "cell_type": "code",
   "execution_count": null,
   "id": "55c6920d-7c1b-46c6-9837-b5c50a52cbff",
   "metadata": {},
   "outputs": [],
   "source": []
  },
  {
   "cell_type": "code",
   "execution_count": null,
   "id": "476fcaad-20ec-42cf-b747-a7a2e6d814c1",
   "metadata": {},
   "outputs": [],
   "source": [
    "# SELEZIONARE UN SOTTOINSIEME DI ELEMENTI DA UN ARRAY UNIDIMENSIONALE"
   ]
  },
  {
   "cell_type": "code",
   "execution_count": 117,
   "id": "9262e57c-5e27-4a46-b803-36e92ed45279",
   "metadata": {},
   "outputs": [],
   "source": [
    "# Supponiamo di voler estrarre gli elementi 17,7,13,5,14. L'estremo inferiore è incluso, l'estremo superiore no"
   ]
  },
  {
   "cell_type": "code",
   "execution_count": 119,
   "id": "736d11d4-a8cf-41a2-98f7-fbddd9b66b42",
   "metadata": {},
   "outputs": [
    {
     "data": {
      "text/plain": [
       "array([17,  7, 13,  5, 14])"
      ]
     },
     "execution_count": 119,
     "metadata": {},
     "output_type": "execute_result"
    }
   ],
   "source": [
    "arr1[2:7]"
   ]
  },
  {
   "cell_type": "code",
   "execution_count": null,
   "id": "d9e8f97c-b005-43ee-b53b-a6b5b6bca582",
   "metadata": {},
   "outputs": [],
   "source": []
  },
  {
   "cell_type": "code",
   "execution_count": 121,
   "id": "e8755106-a52e-4d75-9852-62eed44710ca",
   "metadata": {},
   "outputs": [],
   "source": [
    "# ESTRAZIONE TUTTI GLI ELEMENTI FINO ALL'ELEMENTO 5"
   ]
  },
  {
   "cell_type": "code",
   "execution_count": 123,
   "id": "d51c6ffa-db4e-40e5-98e3-5b074c7b302c",
   "metadata": {},
   "outputs": [
    {
     "data": {
      "text/plain": [
       "array([10,  8, 17,  7, 13,  5])"
      ]
     },
     "execution_count": 123,
     "metadata": {},
     "output_type": "execute_result"
    }
   ],
   "source": [
    "arr1[0:6]"
   ]
  },
  {
   "cell_type": "code",
   "execution_count": 125,
   "id": "b4c910f3-8a66-461c-a170-7e966e8f473c",
   "metadata": {},
   "outputs": [],
   "source": [
    "# OPPURE"
   ]
  },
  {
   "cell_type": "code",
   "execution_count": 127,
   "id": "24875b62-4532-453f-bfe2-7a41a242b6cf",
   "metadata": {},
   "outputs": [
    {
     "data": {
      "text/plain": [
       "array([10,  8, 17,  7, 13,  5])"
      ]
     },
     "execution_count": 127,
     "metadata": {},
     "output_type": "execute_result"
    }
   ],
   "source": [
    "arr1[:6]"
   ]
  },
  {
   "cell_type": "code",
   "execution_count": null,
   "id": "bc1b4ce6-c96e-450e-b199-74dece7dff55",
   "metadata": {},
   "outputs": [],
   "source": []
  },
  {
   "cell_type": "code",
   "execution_count": null,
   "id": "7fbde623-bc47-4e3e-962a-9208d07d5a14",
   "metadata": {},
   "outputs": [],
   "source": [
    "# ESTRAZIONE ELEMENTI DALL'ELEMENTO 7 FINO ALLA FINE DEL VETTORE:"
   ]
  },
  {
   "cell_type": "code",
   "execution_count": null,
   "id": "efce2b84-a07d-42e5-b5c2-894aa0f5a964",
   "metadata": {},
   "outputs": [],
   "source": []
  },
  {
   "cell_type": "code",
   "execution_count": 129,
   "id": "4cb0fb8e-9d49-4119-9117-e41d2a5cdd94",
   "metadata": {},
   "outputs": [
    {
     "data": {
      "text/plain": [
       "array([ 7, 13,  5, 14,  6, 13, 10])"
      ]
     },
     "execution_count": 129,
     "metadata": {},
     "output_type": "execute_result"
    }
   ],
   "source": [
    "arr1[3:]"
   ]
  },
  {
   "cell_type": "code",
   "execution_count": null,
   "id": "485b373d-6929-4055-b8e6-21b3ded23c6e",
   "metadata": {},
   "outputs": [],
   "source": []
  },
  {
   "cell_type": "code",
   "execution_count": 131,
   "id": "6b0298af-1b55-4af5-bde3-9011d7dec0cd",
   "metadata": {},
   "outputs": [],
   "source": [
    "# DIFFERENZA TRA ARRAY PYTHON BASE E NUMPY ARRAY: I numpy array possono attuare il broadcasting, ossia è possibile manipolare l'array di partenza. Facciamo un esempio."
   ]
  },
  {
   "cell_type": "code",
   "execution_count": 139,
   "id": "f82f9dc0-d0de-44c0-9cd7-951cb50de1a6",
   "metadata": {},
   "outputs": [
    {
     "data": {
      "text/plain": [
       "array([10,  8, 17,  7, 13,  5, 14,  6, 13, 10])"
      ]
     },
     "execution_count": 139,
     "metadata": {},
     "output_type": "execute_result"
    }
   ],
   "source": [
    "arr1"
   ]
  },
  {
   "cell_type": "code",
   "execution_count": 143,
   "id": "bb9dd388-4d7a-423e-aa81-e2c587cb8ab0",
   "metadata": {},
   "outputs": [],
   "source": [
    "arr1[4]=100"
   ]
  },
  {
   "cell_type": "code",
   "execution_count": 145,
   "id": "59cf4667-a47c-4a77-bb7d-5d75e8874a43",
   "metadata": {},
   "outputs": [
    {
     "data": {
      "text/plain": [
       "array([ 10,   8,  17,   7, 100,   5,  14,   6,  13,  10])"
      ]
     },
     "execution_count": 145,
     "metadata": {},
     "output_type": "execute_result"
    }
   ],
   "source": [
    "arr1"
   ]
  },
  {
   "cell_type": "code",
   "execution_count": null,
   "id": "62699937-23d8-43bf-a432-e64598839485",
   "metadata": {},
   "outputs": [],
   "source": [
    "# POSSIAMO ANCHE MODIFICARE PIU DI UN ELEMENTO. Ad esempio, supponiamo di voler modificare gli elementi dalla posizione 4 alla posizione 7:"
   ]
  },
  {
   "cell_type": "code",
   "execution_count": 147,
   "id": "378ff6d1-18a6-4021-94ab-d6ddb04f9676",
   "metadata": {},
   "outputs": [
    {
     "data": {
      "text/plain": [
       "array([ 10,   8,  17,   7, 100,   5,  14,   6,  13,  10])"
      ]
     },
     "execution_count": 147,
     "metadata": {},
     "output_type": "execute_result"
    }
   ],
   "source": [
    "arr1"
   ]
  },
  {
   "cell_type": "code",
   "execution_count": 149,
   "id": "e0111e30-2a3c-4e21-a27c-3935cc52c77b",
   "metadata": {},
   "outputs": [],
   "source": [
    "arr1[4:8] = 2340"
   ]
  },
  {
   "cell_type": "code",
   "execution_count": 151,
   "id": "01b0e743-4f53-46a2-8f7f-8c9a5591340b",
   "metadata": {},
   "outputs": [
    {
     "data": {
      "text/plain": [
       "array([  10,    8,   17,    7, 2340, 2340, 2340, 2340,   13,   10])"
      ]
     },
     "execution_count": 151,
     "metadata": {},
     "output_type": "execute_result"
    }
   ],
   "source": [
    "arr1"
   ]
  },
  {
   "cell_type": "code",
   "execution_count": null,
   "id": "a9fbaf5d-1007-409c-9dcb-09e5802ecb74",
   "metadata": {},
   "outputs": [],
   "source": []
  },
  {
   "cell_type": "code",
   "execution_count": null,
   "id": "dd10d1f6-4185-4245-a982-841ca85b2071",
   "metadata": {},
   "outputs": [],
   "source": [
    "# OPPURE MODIFICHIAMO GLI ULTIMI 3 ELEMENTI:"
   ]
  },
  {
   "cell_type": "code",
   "execution_count": null,
   "id": "3be3ccc5-30f1-4a81-821b-deb8111e3230",
   "metadata": {},
   "outputs": [],
   "source": []
  },
  {
   "cell_type": "code",
   "execution_count": 155,
   "id": "a447fd5f-e189-4609-885e-00da04cd5262",
   "metadata": {},
   "outputs": [],
   "source": [
    "arr1[-3:] = 0"
   ]
  },
  {
   "cell_type": "code",
   "execution_count": 157,
   "id": "0e5b7893-1bfe-4199-bdd2-cee4accf0547",
   "metadata": {},
   "outputs": [
    {
     "data": {
      "text/plain": [
       "array([  10,    8,   17,    7, 2340, 2340, 2340,    0,    0,    0])"
      ]
     },
     "execution_count": 157,
     "metadata": {},
     "output_type": "execute_result"
    }
   ],
   "source": [
    "arr1"
   ]
  },
  {
   "cell_type": "code",
   "execution_count": null,
   "id": "b9ea7f3c-03fa-47f7-a897-0918e1b9178a",
   "metadata": {},
   "outputs": [],
   "source": []
  },
  {
   "cell_type": "code",
   "execution_count": 159,
   "id": "ca2069bb-99a6-4d8b-8d9a-a27e4313b4c8",
   "metadata": {},
   "outputs": [],
   "source": [
    "# NOTIAMO ORA UN FENOMENO MOLTO IMPORTANTE. RIPRENDIAMO IL NOSTRO ARRAY DI PARTENZA"
   ]
  },
  {
   "cell_type": "code",
   "execution_count": 161,
   "id": "67fd51f0-cf3e-4144-bd55-9ff6bcbbc302",
   "metadata": {},
   "outputs": [
    {
     "data": {
      "text/plain": [
       "array([10,  8, 17,  7, 13,  5, 14,  6, 13, 10])"
      ]
     },
     "execution_count": 161,
     "metadata": {},
     "output_type": "execute_result"
    }
   ],
   "source": [
    "np.random.seed(29)\n",
    "arr1 = np.random.randint(5,18,10)\n",
    "arr1"
   ]
  },
  {
   "cell_type": "code",
   "execution_count": null,
   "id": "63cb1d92-d6a2-4ac1-8be1-c56d6d719a38",
   "metadata": {},
   "outputs": [],
   "source": []
  },
  {
   "cell_type": "code",
   "execution_count": 163,
   "id": "52566726-612f-428a-a0c2-444f8b06264b",
   "metadata": {},
   "outputs": [],
   "source": [
    "# ESTRAIAMO UN SOTTOINSIEME DI QUESTO ARRAY ED INSERIAMOLO IN UNA VARIABILE"
   ]
  },
  {
   "cell_type": "code",
   "execution_count": 165,
   "id": "7796be62-c702-43af-9f80-ad54c5190bdc",
   "metadata": {},
   "outputs": [
    {
     "data": {
      "text/plain": [
       "array([ 7, 13,  5, 14,  6])"
      ]
     },
     "execution_count": 165,
     "metadata": {},
     "output_type": "execute_result"
    }
   ],
   "source": [
    "arr2 = arr1[3:8]\n",
    "arr2"
   ]
  },
  {
   "cell_type": "code",
   "execution_count": null,
   "id": "e08c2511-d260-418c-8d14-9496ee8c8afb",
   "metadata": {},
   "outputs": [],
   "source": []
  },
  {
   "cell_type": "code",
   "execution_count": 171,
   "id": "9e6771ef-0399-4c4c-b628-1e5838d8dd35",
   "metadata": {},
   "outputs": [],
   "source": [
    "# MODIFICHIAMO arr2"
   ]
  },
  {
   "cell_type": "code",
   "execution_count": null,
   "id": "3b6d3ac9-47e1-4fbb-98e5-232e7ffe1413",
   "metadata": {},
   "outputs": [],
   "source": []
  },
  {
   "cell_type": "code",
   "execution_count": 169,
   "id": "442e9662-860f-411c-b088-f441645d85f8",
   "metadata": {},
   "outputs": [
    {
     "data": {
      "text/plain": [
       "array([18, 18, 18, 18, 18])"
      ]
     },
     "execution_count": 169,
     "metadata": {},
     "output_type": "execute_result"
    }
   ],
   "source": [
    "arr2[:] = 18\n",
    "arr2"
   ]
  },
  {
   "cell_type": "code",
   "execution_count": null,
   "id": "6ce91096-9846-4fe6-800b-7a127a56ec36",
   "metadata": {},
   "outputs": [],
   "source": []
  },
  {
   "cell_type": "code",
   "execution_count": 173,
   "id": "20677390-a179-4279-aeea-97da2eff51f2",
   "metadata": {},
   "outputs": [],
   "source": [
    "# COSA SUCCEDE AD arr1?"
   ]
  },
  {
   "cell_type": "code",
   "execution_count": 175,
   "id": "840e4786-6a51-449e-88fe-b1ba994f705b",
   "metadata": {},
   "outputs": [
    {
     "data": {
      "text/plain": [
       "array([10,  8, 17, 18, 18, 18, 18, 18, 13, 10])"
      ]
     },
     "execution_count": 175,
     "metadata": {},
     "output_type": "execute_result"
    }
   ],
   "source": [
    "arr1"
   ]
  },
  {
   "cell_type": "code",
   "execution_count": null,
   "id": "6bfbdb96-a932-4bce-b6e3-3e1d081be8fd",
   "metadata": {},
   "outputs": [],
   "source": []
  },
  {
   "cell_type": "code",
   "execution_count": 177,
   "id": "bf935880-d3df-41f6-8b5d-f67ec6943014",
   "metadata": {},
   "outputs": [],
   "source": [
    "# SI E' MODIFICATO ANCH'ESSO. COME POSSIAMO RISOLVERE QUESTO PROBLEMA? CREANDO UNA COPIA DI arr1"
   ]
  },
  {
   "cell_type": "code",
   "execution_count": 179,
   "id": "65b3e7fd-401a-4248-b492-6ca8a4c95574",
   "metadata": {},
   "outputs": [
    {
     "data": {
      "text/plain": [
       "array([10,  8, 17,  7, 13,  5, 14,  6, 13, 10])"
      ]
     },
     "execution_count": 179,
     "metadata": {},
     "output_type": "execute_result"
    }
   ],
   "source": [
    "np.random.seed(29)\n",
    "arr1 = np.random.randint(5,18,10)\n",
    "arr1"
   ]
  },
  {
   "cell_type": "code",
   "execution_count": 183,
   "id": "86922a68-0c83-434d-9491-afd61652406c",
   "metadata": {},
   "outputs": [
    {
     "data": {
      "text/plain": [
       "array([10,  8, 17,  7, 13,  5, 14,  6, 13, 10])"
      ]
     },
     "execution_count": 183,
     "metadata": {},
     "output_type": "execute_result"
    }
   ],
   "source": [
    "arr11 = arr1.copy()\n",
    "arr11"
   ]
  },
  {
   "cell_type": "code",
   "execution_count": null,
   "id": "a28b0960-5e40-4bbd-95d4-217f135148e5",
   "metadata": {},
   "outputs": [],
   "source": []
  },
  {
   "cell_type": "code",
   "execution_count": 189,
   "id": "6f2e7e3d-563a-4dc9-bfa2-465fefafad7c",
   "metadata": {},
   "outputs": [
    {
     "data": {
      "text/plain": [
       "array([ 7, 13,  5, 14,  6])"
      ]
     },
     "execution_count": 189,
     "metadata": {},
     "output_type": "execute_result"
    }
   ],
   "source": [
    "arr2 = arr11[3:8]\n",
    "arr2"
   ]
  },
  {
   "cell_type": "code",
   "execution_count": 191,
   "id": "bb46beaf-11d0-4d10-8c3b-ec1d66a1ce31",
   "metadata": {},
   "outputs": [
    {
     "data": {
      "text/plain": [
       "array([18, 18, 18, 18, 18])"
      ]
     },
     "execution_count": 191,
     "metadata": {},
     "output_type": "execute_result"
    }
   ],
   "source": [
    "arr2[:] = 18\n",
    "arr2"
   ]
  },
  {
   "cell_type": "code",
   "execution_count": 193,
   "id": "7521fbe2-d760-40b7-a99f-952df978e17b",
   "metadata": {},
   "outputs": [],
   "source": [
    "# arr1 E' STATO MODIFICATO?"
   ]
  },
  {
   "cell_type": "code",
   "execution_count": 195,
   "id": "2633c67d-c459-40eb-abaf-339446831f76",
   "metadata": {},
   "outputs": [
    {
     "data": {
      "text/plain": [
       "array([10,  8, 17,  7, 13,  5, 14,  6, 13, 10])"
      ]
     },
     "execution_count": 195,
     "metadata": {},
     "output_type": "execute_result"
    }
   ],
   "source": [
    "arr1"
   ]
  },
  {
   "cell_type": "code",
   "execution_count": null,
   "id": "9d0ec165-2311-4775-af24-d4bc1d2de4c6",
   "metadata": {},
   "outputs": [],
   "source": []
  },
  {
   "cell_type": "code",
   "execution_count": null,
   "id": "0fca6794-73bd-4793-b899-1de317fa6b9a",
   "metadata": {},
   "outputs": [],
   "source": [
    "# NO! PROBLEMA RISOLTO."
   ]
  },
  {
   "cell_type": "code",
   "execution_count": null,
   "id": "d21753b1-63d8-4a5e-a81a-d6b3eff8ca23",
   "metadata": {},
   "outputs": [],
   "source": []
  },
  {
   "cell_type": "code",
   "execution_count": 197,
   "id": "ffb7ea26-2336-4b74-b6ae-1ab6d53d5f4c",
   "metadata": {},
   "outputs": [],
   "source": [
    "# ARRAY BIDIMENSIONALI (MATRICI)"
   ]
  },
  {
   "cell_type": "code",
   "execution_count": 27,
   "id": "246145b5-de98-44dd-a9ff-9e0e53648ef5",
   "metadata": {},
   "outputs": [
    {
     "data": {
      "text/plain": [
       "array([[10,  8, 17,  7],\n",
       "       [13,  5, 14,  6],\n",
       "       [13, 10,  8,  6],\n",
       "       [13,  6, 16, 16],\n",
       "       [10,  9, 12,  5],\n",
       "       [ 9,  7, 11, 12]])"
      ]
     },
     "execution_count": 27,
     "metadata": {},
     "output_type": "execute_result"
    }
   ],
   "source": [
    "np.random.seed(29)\n",
    "M = np.random.randint(5,18,(6,4))\n",
    "M"
   ]
  },
  {
   "cell_type": "code",
   "execution_count": null,
   "id": "5ef248e5-8188-4f50-b0d5-c87433289769",
   "metadata": {},
   "outputs": [],
   "source": []
  },
  {
   "cell_type": "code",
   "execution_count": null,
   "id": "ffabf7fa-d481-4abf-944f-3948c9fd5e59",
   "metadata": {},
   "outputs": [],
   "source": [
    "# PER CONTARE QUANTE RIGHE E QUANTE COLONNE HA UNA MATRICE SI USA LA FUNZIONE SHAPE"
   ]
  },
  {
   "cell_type": "code",
   "execution_count": 25,
   "id": "91d5471a-5c7a-4cf7-a86d-dbdfc808cbdf",
   "metadata": {},
   "outputs": [
    {
     "data": {
      "text/plain": [
       "(6, 4)"
      ]
     },
     "execution_count": 25,
     "metadata": {},
     "output_type": "execute_result"
    }
   ],
   "source": [
    "M.shape"
   ]
  },
  {
   "cell_type": "code",
   "execution_count": null,
   "id": "84474fc6-b067-435c-9a78-4ef715f3d33a",
   "metadata": {},
   "outputs": [],
   "source": []
  },
  {
   "cell_type": "code",
   "execution_count": 7,
   "id": "b8aef121-e553-42ba-a8b4-f0cc2190635a",
   "metadata": {},
   "outputs": [],
   "source": [
    "# ESTRAZIONE PRIMA RIGA"
   ]
  },
  {
   "cell_type": "code",
   "execution_count": 9,
   "id": "35181b2b-42cc-4246-8efb-65ca25bbb7b2",
   "metadata": {},
   "outputs": [
    {
     "data": {
      "text/plain": [
       "array([10,  8, 17,  7])"
      ]
     },
     "execution_count": 9,
     "metadata": {},
     "output_type": "execute_result"
    }
   ],
   "source": [
    "M[0]"
   ]
  },
  {
   "cell_type": "code",
   "execution_count": null,
   "id": "86dc42b7-fa13-48a1-a234-454be0fc226e",
   "metadata": {},
   "outputs": [],
   "source": []
  },
  {
   "cell_type": "code",
   "execution_count": null,
   "id": "d413f77c-bc90-4724-b5c2-1c06cdb42b62",
   "metadata": {},
   "outputs": [],
   "source": [
    "# ESTRAZIONE DA RIGA 2 A RIGA 5"
   ]
  },
  {
   "cell_type": "code",
   "execution_count": 13,
   "id": "aa7a5dad-1133-4db5-ac70-239c1685d42d",
   "metadata": {},
   "outputs": [
    {
     "data": {
      "text/plain": [
       "array([[13,  5, 14,  6],\n",
       "       [13, 10,  8,  6],\n",
       "       [13,  6, 16, 16],\n",
       "       [10,  9, 12,  5]])"
      ]
     },
     "execution_count": 13,
     "metadata": {},
     "output_type": "execute_result"
    }
   ],
   "source": [
    "M[1:5]"
   ]
  },
  {
   "cell_type": "code",
   "execution_count": null,
   "id": "e7adeed1-1b53-447e-9a49-b7d5b7e7f1ae",
   "metadata": {},
   "outputs": [],
   "source": []
  },
  {
   "cell_type": "code",
   "execution_count": 15,
   "id": "834dd421-6bc4-4ad5-88d6-e915362c973a",
   "metadata": {},
   "outputs": [],
   "source": [
    "# ESTRAZIONE COLONNA 2"
   ]
  },
  {
   "cell_type": "code",
   "execution_count": 17,
   "id": "702b6b38-40aa-4c61-a897-7f02568b8121",
   "metadata": {},
   "outputs": [
    {
     "data": {
      "text/plain": [
       "array([ 8,  5, 10,  6,  9,  7])"
      ]
     },
     "execution_count": 17,
     "metadata": {},
     "output_type": "execute_result"
    }
   ],
   "source": [
    "M[:,1]"
   ]
  },
  {
   "cell_type": "code",
   "execution_count": null,
   "id": "f96a1add-a4a2-4a9f-ac40-239555aea053",
   "metadata": {},
   "outputs": [],
   "source": []
  },
  {
   "cell_type": "code",
   "execution_count": null,
   "id": "8d5a7f6a-c4f1-4ea8-9a06-61d671d8bdd7",
   "metadata": {},
   "outputs": [],
   "source": [
    "# ESTRAZIONE COLONNE 2 E 3"
   ]
  },
  {
   "cell_type": "code",
   "execution_count": 19,
   "id": "0dfd6b3b-a407-4493-a3c9-6a1d9fe7bf95",
   "metadata": {},
   "outputs": [
    {
     "data": {
      "text/plain": [
       "array([[ 8, 17],\n",
       "       [ 5, 14],\n",
       "       [10,  8],\n",
       "       [ 6, 16],\n",
       "       [ 9, 12],\n",
       "       [ 7, 11]])"
      ]
     },
     "execution_count": 19,
     "metadata": {},
     "output_type": "execute_result"
    }
   ],
   "source": [
    "M[:,1:3]"
   ]
  },
  {
   "cell_type": "code",
   "execution_count": null,
   "id": "8834add1-6f83-45da-ad3c-8fb470697703",
   "metadata": {},
   "outputs": [],
   "source": []
  },
  {
   "cell_type": "code",
   "execution_count": 21,
   "id": "d62b7e85-b203-4c30-9f9e-622bea0254fc",
   "metadata": {},
   "outputs": [],
   "source": [
    "# ESTRAZIONE RIGHE DA 2 A 4 E COLONNA 1 E 2"
   ]
  },
  {
   "cell_type": "code",
   "execution_count": 23,
   "id": "8415f26b-4e13-4e4a-8731-8496f4afa1d7",
   "metadata": {},
   "outputs": [
    {
     "data": {
      "text/plain": [
       "array([[ 5, 14],\n",
       "       [10,  8],\n",
       "       [ 6, 16]])"
      ]
     },
     "execution_count": 23,
     "metadata": {},
     "output_type": "execute_result"
    }
   ],
   "source": [
    "M[1:4,1:3]"
   ]
  },
  {
   "cell_type": "code",
   "execution_count": null,
   "id": "346b5ea6-13ec-41d7-b9fc-b5ba13d75df5",
   "metadata": {},
   "outputs": [],
   "source": []
  },
  {
   "cell_type": "code",
   "execution_count": 31,
   "id": "d4ae93c5-1483-48a1-81dc-706b59f5d52e",
   "metadata": {},
   "outputs": [],
   "source": [
    "# SUBSET TRAMITE MASCHERA BOOLEANA"
   ]
  },
  {
   "cell_type": "code",
   "execution_count": null,
   "id": "c92951f1-9b9a-4d7f-a595-c7e228127cd7",
   "metadata": {},
   "outputs": [],
   "source": [
    "# SUPPONIAMO DI VOLER CAPIRE QUALI VALORI DI M SONO < 10."
   ]
  },
  {
   "cell_type": "code",
   "execution_count": 33,
   "id": "7d83c92d-300f-4565-a2f9-36a114b1f202",
   "metadata": {},
   "outputs": [
    {
     "data": {
      "text/plain": [
       "array([[False,  True, False,  True],\n",
       "       [False,  True, False,  True],\n",
       "       [False, False,  True,  True],\n",
       "       [False,  True, False, False],\n",
       "       [False,  True, False,  True],\n",
       "       [ True,  True, False, False]])"
      ]
     },
     "execution_count": 33,
     "metadata": {},
     "output_type": "execute_result"
    }
   ],
   "source": [
    "M < 10"
   ]
  },
  {
   "cell_type": "code",
   "execution_count": null,
   "id": "8a072fa9-634b-4b3f-a76b-a0637fe0c855",
   "metadata": {},
   "outputs": [],
   "source": [
    "# ABBIAMO TRUE QUANDO IL VALORE E' <10, FALSE IN CASO CONTRARIO. SOLITAMENTE QUESTO RISULTATO SI INSERISCE IN UNA VARIABILE CHIAMATA mask:"
   ]
  },
  {
   "cell_type": "code",
   "execution_count": null,
   "id": "d438af39-02b3-46ec-84e1-bbef51b331e9",
   "metadata": {},
   "outputs": [],
   "source": []
  },
  {
   "cell_type": "code",
   "execution_count": 35,
   "id": "b6930078-0911-488d-88ef-93d79b8b63a6",
   "metadata": {},
   "outputs": [],
   "source": [
    "mask = M < 10"
   ]
  },
  {
   "cell_type": "code",
   "execution_count": null,
   "id": "9e9c9365-ca29-4a6b-8ff1-d42c236be89f",
   "metadata": {},
   "outputs": [],
   "source": [
    "# INFINE POSSIAMO FILTRARE:"
   ]
  },
  {
   "cell_type": "code",
   "execution_count": 37,
   "id": "5fb78927-21fe-4b39-9938-41ba1ab89544",
   "metadata": {},
   "outputs": [
    {
     "data": {
      "text/plain": [
       "array([8, 7, 5, 6, 8, 6, 6, 9, 5, 9, 7])"
      ]
     },
     "execution_count": 37,
     "metadata": {},
     "output_type": "execute_result"
    }
   ],
   "source": [
    "M[mask]"
   ]
  },
  {
   "cell_type": "code",
   "execution_count": null,
   "id": "4d213a16-83b1-436d-b760-dbcde9f4a5ce",
   "metadata": {},
   "outputs": [],
   "source": [
    "# ECCO TROVATI TUTTI I NUMERI < 10. ESSI FORMERANNO UN ARRAY UNIDIMENSIONALE"
   ]
  },
  {
   "cell_type": "code",
   "execution_count": null,
   "id": "5e69abba-baea-4583-b4b2-6932bbdea926",
   "metadata": {},
   "outputs": [],
   "source": []
  },
  {
   "cell_type": "code",
   "execution_count": 39,
   "id": "3f15902f-114e-48f3-ad8c-db416798bf8c",
   "metadata": {},
   "outputs": [],
   "source": [
    "# OPERAZIONI TRA ARRAY"
   ]
  },
  {
   "cell_type": "code",
   "execution_count": 41,
   "id": "baa9f1fe-7cfc-4a32-823b-9ba8f4185b66",
   "metadata": {},
   "outputs": [],
   "source": [
    "# Mentre le operazioni tra scalari sono sempre possibili, le operazioni tra vettori e/o matrici sono possibili solo se entrambi i vellori o le matrici hanno le stesse dimensioni.\n",
    "# Consideriamo due matrici"
   ]
  },
  {
   "cell_type": "code",
   "execution_count": 75,
   "id": "5703e1e7-e297-4391-80a6-5b3f81815d9f",
   "metadata": {},
   "outputs": [],
   "source": [
    "np.random.seed(10)\n",
    "M1 = np.random.randint(0,3,(2,3))"
   ]
  },
  {
   "cell_type": "code",
   "execution_count": 73,
   "id": "6ad7e235-dc31-4741-a4a0-6889bc08065e",
   "metadata": {},
   "outputs": [],
   "source": [
    "np.random.seed(20)\n",
    "M2 = np.random.randint(15,66,(2,3))"
   ]
  },
  {
   "cell_type": "code",
   "execution_count": 77,
   "id": "bf1d7f2c-d74c-4bd3-91f3-a4baafbeee44",
   "metadata": {},
   "outputs": [
    {
     "data": {
      "text/plain": [
       "array([[1, 1, 0],\n",
       "       [0, 1, 0]])"
      ]
     },
     "execution_count": 77,
     "metadata": {},
     "output_type": "execute_result"
    }
   ],
   "source": [
    "M1"
   ]
  },
  {
   "cell_type": "code",
   "execution_count": 79,
   "id": "e79d51bc-2ac4-473a-9fa7-1477b70c075f",
   "metadata": {},
   "outputs": [
    {
     "data": {
      "text/plain": [
       "array([[50, 41, 30],\n",
       "       [46, 43, 41]])"
      ]
     },
     "execution_count": 79,
     "metadata": {},
     "output_type": "execute_result"
    }
   ],
   "source": [
    "M2"
   ]
  },
  {
   "cell_type": "code",
   "execution_count": null,
   "id": "fe72b57d-4af3-46c1-a66f-9a8728103ac3",
   "metadata": {},
   "outputs": [],
   "source": []
  },
  {
   "cell_type": "code",
   "execution_count": 81,
   "id": "90e1c228-8642-4cd3-9496-b98e7d141997",
   "metadata": {},
   "outputs": [],
   "source": [
    "# Somma matrice per scalare"
   ]
  },
  {
   "cell_type": "code",
   "execution_count": 83,
   "id": "517e6d4a-c61c-426b-95ed-736a33eb269b",
   "metadata": {},
   "outputs": [
    {
     "data": {
      "text/plain": [
       "array([[5, 5, 4],\n",
       "       [4, 5, 4]])"
      ]
     },
     "execution_count": 83,
     "metadata": {},
     "output_type": "execute_result"
    }
   ],
   "source": [
    "M1 + 4"
   ]
  },
  {
   "cell_type": "code",
   "execution_count": null,
   "id": "692225bd-db53-47f5-8916-129e7d762d89",
   "metadata": {},
   "outputs": [],
   "source": [
    "# Differenza matrice per scalare"
   ]
  },
  {
   "cell_type": "code",
   "execution_count": 85,
   "id": "48763436-360b-4bec-98c0-0a89bd0bb032",
   "metadata": {},
   "outputs": [
    {
     "data": {
      "text/plain": [
       "array([[-3, -3, -4],\n",
       "       [-4, -3, -4]])"
      ]
     },
     "execution_count": 85,
     "metadata": {},
     "output_type": "execute_result"
    }
   ],
   "source": [
    "M1 - 4"
   ]
  },
  {
   "cell_type": "code",
   "execution_count": null,
   "id": "6adadc05-b1b1-438d-affe-fef21a002242",
   "metadata": {},
   "outputs": [],
   "source": [
    "# Moltiplicazione matrice per scalare"
   ]
  },
  {
   "cell_type": "code",
   "execution_count": 87,
   "id": "7f7dac0c-2858-4a8c-a287-a9e9f8d104c4",
   "metadata": {},
   "outputs": [
    {
     "data": {
      "text/plain": [
       "array([[4, 4, 0],\n",
       "       [0, 4, 0]])"
      ]
     },
     "execution_count": 87,
     "metadata": {},
     "output_type": "execute_result"
    }
   ],
   "source": [
    "M1 * 4"
   ]
  },
  {
   "cell_type": "code",
   "execution_count": null,
   "id": "dedf3ee3-f80b-40aa-bbbd-86742f4a04e9",
   "metadata": {},
   "outputs": [],
   "source": [
    "# Divisione matrice per scalare"
   ]
  },
  {
   "cell_type": "code",
   "execution_count": 89,
   "id": "804bc0a6-e72e-448a-bc4e-194facc30809",
   "metadata": {},
   "outputs": [
    {
     "data": {
      "text/plain": [
       "array([[0.25, 0.25, 0.  ],\n",
       "       [0.  , 0.25, 0.  ]])"
      ]
     },
     "execution_count": 89,
     "metadata": {},
     "output_type": "execute_result"
    }
   ],
   "source": [
    "M1 / 4"
   ]
  },
  {
   "cell_type": "code",
   "execution_count": null,
   "id": "229a8a1d-5388-49c3-96d5-e7dab7c656a5",
   "metadata": {},
   "outputs": [],
   "source": []
  },
  {
   "cell_type": "code",
   "execution_count": null,
   "id": "ccf6af94-7ec4-4116-95cb-c95bb4cc2cea",
   "metadata": {},
   "outputs": [],
   "source": [
    "# DIVISIONE PER 0"
   ]
  },
  {
   "cell_type": "code",
   "execution_count": null,
   "id": "2512c2f7-482a-430c-9b51-329269978eaf",
   "metadata": {},
   "outputs": [],
   "source": []
  },
  {
   "cell_type": "code",
   "execution_count": 91,
   "id": "1d37aad1-9251-44d4-a22c-697db125fddb",
   "metadata": {},
   "outputs": [
    {
     "name": "stderr",
     "output_type": "stream",
     "text": [
      "C:\\Users\\ACER\\AppData\\Local\\Temp\\ipykernel_33984\\2221949893.py:1: RuntimeWarning: divide by zero encountered in divide\n",
      "  4/ M1\n"
     ]
    },
    {
     "data": {
      "text/plain": [
       "array([[ 4.,  4., inf],\n",
       "       [inf,  4., inf]])"
      ]
     },
     "execution_count": 91,
     "metadata": {},
     "output_type": "execute_result"
    }
   ],
   "source": [
    "4/ M1"
   ]
  },
  {
   "cell_type": "code",
   "execution_count": null,
   "id": "26be8992-e47f-42c5-b024-345adb9fb117",
   "metadata": {},
   "outputs": [],
   "source": []
  },
  {
   "cell_type": "code",
   "execution_count": null,
   "id": "9808546a-05bf-4f19-a5fc-47014da5f8e5",
   "metadata": {},
   "outputs": [],
   "source": [
    "# Mentre con python base avremo un errore, con numpy avremo solo un warning e il risultato è infinito, così come insegna l'analisi matematica."
   ]
  },
  {
   "cell_type": "code",
   "execution_count": null,
   "id": "a6ae2142-cb3f-4ce2-94ea-3ea7df3da1b5",
   "metadata": {},
   "outputs": [],
   "source": []
  },
  {
   "cell_type": "code",
   "execution_count": null,
   "id": "029cd42a-01f9-434b-8a93-0db36bcf82f0",
   "metadata": {},
   "outputs": [],
   "source": [
    "# SOMMA TRA MATRICI"
   ]
  },
  {
   "cell_type": "code",
   "execution_count": 93,
   "id": "fa290adc-f855-4f21-9b63-db2f92b3681a",
   "metadata": {},
   "outputs": [
    {
     "data": {
      "text/plain": [
       "array([[51, 42, 30],\n",
       "       [46, 44, 41]])"
      ]
     },
     "execution_count": 93,
     "metadata": {},
     "output_type": "execute_result"
    }
   ],
   "source": [
    "M1+M2"
   ]
  },
  {
   "cell_type": "code",
   "execution_count": null,
   "id": "d27803a7-7f45-46ce-b948-a67812716d2a",
   "metadata": {},
   "outputs": [],
   "source": [
    "# DIFFERENZA TRA MATRICI"
   ]
  },
  {
   "cell_type": "code",
   "execution_count": 95,
   "id": "02364d1e-e280-4bce-bbfa-52c587553f72",
   "metadata": {},
   "outputs": [
    {
     "data": {
      "text/plain": [
       "array([[-49, -40, -30],\n",
       "       [-46, -42, -41]])"
      ]
     },
     "execution_count": 95,
     "metadata": {},
     "output_type": "execute_result"
    }
   ],
   "source": [
    "M1-M2"
   ]
  },
  {
   "cell_type": "code",
   "execution_count": null,
   "id": "93b48b92-0a7c-4cd6-b30e-95f8ce45babc",
   "metadata": {},
   "outputs": [],
   "source": [
    "# MOLTIPLICAZIONE TRA MATRICI"
   ]
  },
  {
   "cell_type": "code",
   "execution_count": 97,
   "id": "0eedbfa0-3624-4a0e-b165-23ae4bade720",
   "metadata": {},
   "outputs": [
    {
     "data": {
      "text/plain": [
       "array([[50, 41,  0],\n",
       "       [ 0, 43,  0]])"
      ]
     },
     "execution_count": 97,
     "metadata": {},
     "output_type": "execute_result"
    }
   ],
   "source": [
    "M1*M2"
   ]
  },
  {
   "cell_type": "code",
   "execution_count": null,
   "id": "5ab34de6-c4ea-4112-b6f2-4806e01ff988",
   "metadata": {},
   "outputs": [],
   "source": [
    "# DIVISIONE TRA MATRICI"
   ]
  },
  {
   "cell_type": "code",
   "execution_count": 99,
   "id": "ebb31fa0-8903-414a-8e00-2c6f6e8e221d",
   "metadata": {},
   "outputs": [
    {
     "data": {
      "text/plain": [
       "array([[0.02      , 0.02439024, 0.        ],\n",
       "       [0.        , 0.02325581, 0.        ]])"
      ]
     },
     "execution_count": 99,
     "metadata": {},
     "output_type": "execute_result"
    }
   ],
   "source": [
    "M1/M2"
   ]
  },
  {
   "cell_type": "code",
   "execution_count": null,
   "id": "5ee296b6-fcaa-4e4a-8fd5-65c10d6f2946",
   "metadata": {},
   "outputs": [],
   "source": []
  },
  {
   "cell_type": "code",
   "execution_count": null,
   "id": "6efb02f5-ff32-4cb6-b603-c5f959e7909d",
   "metadata": {},
   "outputs": [],
   "source": []
  },
  {
   "cell_type": "code",
   "execution_count": null,
   "id": "66301f8b-35d9-4a9e-a6d2-10cb472ca4fa",
   "metadata": {},
   "outputs": [],
   "source": [
    "# FUNZIONI IN-BUILT TRA VETTORI E MATRICI. Vedremo queste funzioni applicate ad una matrice, ma funzionano anche sui vettori"
   ]
  },
  {
   "cell_type": "code",
   "execution_count": null,
   "id": "d6288134-1eb7-40d7-9c0e-a0a99ebbbbb1",
   "metadata": {},
   "outputs": [],
   "source": []
  },
  {
   "cell_type": "code",
   "execution_count": 12,
   "id": "0f174808-1531-4b5e-977b-aef7775853c4",
   "metadata": {},
   "outputs": [
    {
     "data": {
      "text/plain": [
       "array([[12,  7,  3],\n",
       "       [ 4, 14, 15]])"
      ]
     },
     "execution_count": 12,
     "metadata": {},
     "output_type": "execute_result"
    }
   ],
   "source": [
    "np.random.seed(10)\n",
    "M1 = np.random.randint(3,16,(2,3))\n",
    "M1"
   ]
  },
  {
   "cell_type": "code",
   "execution_count": null,
   "id": "78cb3ed5-aa8c-4246-bdaf-daba5f5a4de9",
   "metadata": {},
   "outputs": [],
   "source": []
  },
  {
   "cell_type": "code",
   "execution_count": 14,
   "id": "89dd5fcd-5834-4244-909d-1d49f1c2e87f",
   "metadata": {},
   "outputs": [
    {
     "data": {
      "text/plain": [
       "55"
      ]
     },
     "execution_count": 14,
     "metadata": {},
     "output_type": "execute_result"
    }
   ],
   "source": [
    "M1.sum()     # Somma generale"
   ]
  },
  {
   "cell_type": "code",
   "execution_count": 16,
   "id": "742f5dc9-d1d2-412c-ace9-b27812c52ec4",
   "metadata": {},
   "outputs": [
    {
     "data": {
      "text/plain": [
       "9.166666666666666"
      ]
     },
     "execution_count": 16,
     "metadata": {},
     "output_type": "execute_result"
    }
   ],
   "source": [
    "M1.mean()    # Media generale"
   ]
  },
  {
   "cell_type": "code",
   "execution_count": 18,
   "id": "329a4ede-190b-4ed7-9743-f977faa57522",
   "metadata": {},
   "outputs": [
    {
     "data": {
      "text/plain": [
       "15"
      ]
     },
     "execution_count": 18,
     "metadata": {},
     "output_type": "execute_result"
    }
   ],
   "source": [
    "M1.max()    # Massimo"
   ]
  },
  {
   "cell_type": "code",
   "execution_count": 20,
   "id": "9c31e5a9-c12b-447a-8498-4f1debaedb2d",
   "metadata": {},
   "outputs": [
    {
     "data": {
      "text/plain": [
       "3"
      ]
     },
     "execution_count": 20,
     "metadata": {},
     "output_type": "execute_result"
    }
   ],
   "source": [
    "M1.min()    # Minimo"
   ]
  },
  {
   "cell_type": "code",
   "execution_count": 24,
   "id": "a7d841ef-295b-4153-a9ee-4b6a67dddd25",
   "metadata": {},
   "outputs": [
    {
     "data": {
      "text/plain": [
       "22.472222222222218"
      ]
     },
     "execution_count": 24,
     "metadata": {},
     "output_type": "execute_result"
    }
   ],
   "source": [
    "M1.var()    # Varianza generale"
   ]
  },
  {
   "cell_type": "code",
   "execution_count": 26,
   "id": "02fae8b1-c46f-4333-b85c-e4bf5d996253",
   "metadata": {},
   "outputs": [
    {
     "data": {
      "text/plain": [
       "4.740487551109297"
      ]
     },
     "execution_count": 26,
     "metadata": {},
     "output_type": "execute_result"
    }
   ],
   "source": [
    "M1.std()   # Deviazione standard generale"
   ]
  },
  {
   "cell_type": "code",
   "execution_count": null,
   "id": "f022533d-fe33-4133-a594-124dd5dc29d2",
   "metadata": {},
   "outputs": [],
   "source": []
  },
  {
   "cell_type": "code",
   "execution_count": 28,
   "id": "acbd3276-7026-47e5-8248-e336c5814024",
   "metadata": {},
   "outputs": [
    {
     "data": {
      "text/plain": [
       "array([16, 21, 18])"
      ]
     },
     "execution_count": 28,
     "metadata": {},
     "output_type": "execute_result"
    }
   ],
   "source": [
    "M1.sum(axis=0)    # Somma lungo le righe"
   ]
  },
  {
   "cell_type": "code",
   "execution_count": 38,
   "id": "4468bec7-9181-435b-9128-658c76284e35",
   "metadata": {},
   "outputs": [
    {
     "data": {
      "text/plain": [
       "array([22, 33])"
      ]
     },
     "execution_count": 38,
     "metadata": {},
     "output_type": "execute_result"
    }
   ],
   "source": [
    "M1.sum(axis=1)    # Somma lungo le colonne"
   ]
  },
  {
   "cell_type": "code",
   "execution_count": null,
   "id": "d0477e13-8330-435a-9a5f-538a2a4e9ca3",
   "metadata": {},
   "outputs": [],
   "source": []
  },
  {
   "cell_type": "code",
   "execution_count": 34,
   "id": "a538e82b-d768-4d93-83f5-60193d2a80fb",
   "metadata": {},
   "outputs": [
    {
     "data": {
      "text/plain": [
       "array([ 8. , 10.5,  9. ])"
      ]
     },
     "execution_count": 34,
     "metadata": {},
     "output_type": "execute_result"
    }
   ],
   "source": [
    "M1.mean(axis=0)  # Media scorrendo le righe"
   ]
  },
  {
   "cell_type": "code",
   "execution_count": 36,
   "id": "90398a19-7783-45c7-9283-13ffa71af4e7",
   "metadata": {},
   "outputs": [
    {
     "data": {
      "text/plain": [
       "array([ 7.33333333, 11.        ])"
      ]
     },
     "execution_count": 36,
     "metadata": {},
     "output_type": "execute_result"
    }
   ],
   "source": [
    "M1.mean(axis=1)  # Media scorrendo le colonne"
   ]
  },
  {
   "cell_type": "code",
   "execution_count": null,
   "id": "11e52f23-384a-4898-8150-33c6e8b1ef60",
   "metadata": {},
   "outputs": [],
   "source": []
  }
 ],
 "metadata": {
  "kernelspec": {
   "display_name": "Python [conda env:base] *",
   "language": "python",
   "name": "conda-base-py"
  },
  "language_info": {
   "codemirror_mode": {
    "name": "ipython",
    "version": 3
   },
   "file_extension": ".py",
   "mimetype": "text/x-python",
   "name": "python",
   "nbconvert_exporter": "python",
   "pygments_lexer": "ipython3",
   "version": "3.12.7"
  }
 },
 "nbformat": 4,
 "nbformat_minor": 5
}
